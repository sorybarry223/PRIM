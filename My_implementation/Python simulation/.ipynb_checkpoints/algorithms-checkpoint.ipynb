{
 "cells": [
  {
   "cell_type": "markdown",
   "id": "5cd6d5fd",
   "metadata": {},
   "source": [
    "# Logistic Regression"
   ]
  },
  {
   "cell_type": "code",
   "execution_count": 2,
   "id": "5c6d8f16",
   "metadata": {},
   "outputs": [
    {
     "data": {
      "text/html": [
       "<div>\n",
       "<style scoped>\n",
       "    .dataframe tbody tr th:only-of-type {\n",
       "        vertical-align: middle;\n",
       "    }\n",
       "\n",
       "    .dataframe tbody tr th {\n",
       "        vertical-align: top;\n",
       "    }\n",
       "\n",
       "    .dataframe thead th {\n",
       "        text-align: right;\n",
       "    }\n",
       "</style>\n",
       "<table border=\"1\" class=\"dataframe\">\n",
       "  <thead>\n",
       "    <tr style=\"text-align: right;\">\n",
       "      <th></th>\n",
       "      <th>PassengerId</th>\n",
       "      <th>Survived</th>\n",
       "      <th>Pclass</th>\n",
       "      <th>Name</th>\n",
       "      <th>Sex</th>\n",
       "      <th>Age</th>\n",
       "      <th>SibSp</th>\n",
       "      <th>Parch</th>\n",
       "      <th>Ticket</th>\n",
       "      <th>Fare</th>\n",
       "      <th>Cabin</th>\n",
       "      <th>Embarked</th>\n",
       "    </tr>\n",
       "  </thead>\n",
       "  <tbody>\n",
       "    <tr>\n",
       "      <th>0</th>\n",
       "      <td>1</td>\n",
       "      <td>0</td>\n",
       "      <td>3</td>\n",
       "      <td>Braund, Mr. Owen Harris</td>\n",
       "      <td>male</td>\n",
       "      <td>22.0</td>\n",
       "      <td>1</td>\n",
       "      <td>0</td>\n",
       "      <td>A/5 21171</td>\n",
       "      <td>7.2500</td>\n",
       "      <td>NaN</td>\n",
       "      <td>S</td>\n",
       "    </tr>\n",
       "    <tr>\n",
       "      <th>1</th>\n",
       "      <td>2</td>\n",
       "      <td>1</td>\n",
       "      <td>1</td>\n",
       "      <td>Cumings, Mrs. John Bradley (Florence Briggs Th...</td>\n",
       "      <td>female</td>\n",
       "      <td>38.0</td>\n",
       "      <td>1</td>\n",
       "      <td>0</td>\n",
       "      <td>PC 17599</td>\n",
       "      <td>71.2833</td>\n",
       "      <td>C85</td>\n",
       "      <td>C</td>\n",
       "    </tr>\n",
       "    <tr>\n",
       "      <th>2</th>\n",
       "      <td>3</td>\n",
       "      <td>1</td>\n",
       "      <td>3</td>\n",
       "      <td>Heikkinen, Miss. Laina</td>\n",
       "      <td>female</td>\n",
       "      <td>26.0</td>\n",
       "      <td>0</td>\n",
       "      <td>0</td>\n",
       "      <td>STON/O2. 3101282</td>\n",
       "      <td>7.9250</td>\n",
       "      <td>NaN</td>\n",
       "      <td>S</td>\n",
       "    </tr>\n",
       "    <tr>\n",
       "      <th>3</th>\n",
       "      <td>4</td>\n",
       "      <td>1</td>\n",
       "      <td>1</td>\n",
       "      <td>Futrelle, Mrs. Jacques Heath (Lily May Peel)</td>\n",
       "      <td>female</td>\n",
       "      <td>35.0</td>\n",
       "      <td>1</td>\n",
       "      <td>0</td>\n",
       "      <td>113803</td>\n",
       "      <td>53.1000</td>\n",
       "      <td>C123</td>\n",
       "      <td>S</td>\n",
       "    </tr>\n",
       "    <tr>\n",
       "      <th>4</th>\n",
       "      <td>5</td>\n",
       "      <td>0</td>\n",
       "      <td>3</td>\n",
       "      <td>Allen, Mr. William Henry</td>\n",
       "      <td>male</td>\n",
       "      <td>35.0</td>\n",
       "      <td>0</td>\n",
       "      <td>0</td>\n",
       "      <td>373450</td>\n",
       "      <td>8.0500</td>\n",
       "      <td>NaN</td>\n",
       "      <td>S</td>\n",
       "    </tr>\n",
       "    <tr>\n",
       "      <th>5</th>\n",
       "      <td>6</td>\n",
       "      <td>0</td>\n",
       "      <td>3</td>\n",
       "      <td>Moran, Mr. James</td>\n",
       "      <td>male</td>\n",
       "      <td>NaN</td>\n",
       "      <td>0</td>\n",
       "      <td>0</td>\n",
       "      <td>330877</td>\n",
       "      <td>8.4583</td>\n",
       "      <td>NaN</td>\n",
       "      <td>Q</td>\n",
       "    </tr>\n",
       "    <tr>\n",
       "      <th>6</th>\n",
       "      <td>7</td>\n",
       "      <td>0</td>\n",
       "      <td>1</td>\n",
       "      <td>McCarthy, Mr. Timothy J</td>\n",
       "      <td>male</td>\n",
       "      <td>54.0</td>\n",
       "      <td>0</td>\n",
       "      <td>0</td>\n",
       "      <td>17463</td>\n",
       "      <td>51.8625</td>\n",
       "      <td>E46</td>\n",
       "      <td>S</td>\n",
       "    </tr>\n",
       "    <tr>\n",
       "      <th>7</th>\n",
       "      <td>8</td>\n",
       "      <td>0</td>\n",
       "      <td>3</td>\n",
       "      <td>Palsson, Master. Gosta Leonard</td>\n",
       "      <td>male</td>\n",
       "      <td>2.0</td>\n",
       "      <td>3</td>\n",
       "      <td>1</td>\n",
       "      <td>349909</td>\n",
       "      <td>21.0750</td>\n",
       "      <td>NaN</td>\n",
       "      <td>S</td>\n",
       "    </tr>\n",
       "    <tr>\n",
       "      <th>8</th>\n",
       "      <td>9</td>\n",
       "      <td>1</td>\n",
       "      <td>3</td>\n",
       "      <td>Johnson, Mrs. Oscar W (Elisabeth Vilhelmina Berg)</td>\n",
       "      <td>female</td>\n",
       "      <td>27.0</td>\n",
       "      <td>0</td>\n",
       "      <td>2</td>\n",
       "      <td>347742</td>\n",
       "      <td>11.1333</td>\n",
       "      <td>NaN</td>\n",
       "      <td>S</td>\n",
       "    </tr>\n",
       "    <tr>\n",
       "      <th>9</th>\n",
       "      <td>10</td>\n",
       "      <td>1</td>\n",
       "      <td>2</td>\n",
       "      <td>Nasser, Mrs. Nicholas (Adele Achem)</td>\n",
       "      <td>female</td>\n",
       "      <td>14.0</td>\n",
       "      <td>1</td>\n",
       "      <td>0</td>\n",
       "      <td>237736</td>\n",
       "      <td>30.0708</td>\n",
       "      <td>NaN</td>\n",
       "      <td>C</td>\n",
       "    </tr>\n",
       "  </tbody>\n",
       "</table>\n",
       "</div>"
      ],
      "text/plain": [
       "   PassengerId  Survived  Pclass  \\\n",
       "0            1         0       3   \n",
       "1            2         1       1   \n",
       "2            3         1       3   \n",
       "3            4         1       1   \n",
       "4            5         0       3   \n",
       "5            6         0       3   \n",
       "6            7         0       1   \n",
       "7            8         0       3   \n",
       "8            9         1       3   \n",
       "9           10         1       2   \n",
       "\n",
       "                                                Name     Sex   Age  SibSp  \\\n",
       "0                            Braund, Mr. Owen Harris    male  22.0      1   \n",
       "1  Cumings, Mrs. John Bradley (Florence Briggs Th...  female  38.0      1   \n",
       "2                             Heikkinen, Miss. Laina  female  26.0      0   \n",
       "3       Futrelle, Mrs. Jacques Heath (Lily May Peel)  female  35.0      1   \n",
       "4                           Allen, Mr. William Henry    male  35.0      0   \n",
       "5                                   Moran, Mr. James    male   NaN      0   \n",
       "6                            McCarthy, Mr. Timothy J    male  54.0      0   \n",
       "7                     Palsson, Master. Gosta Leonard    male   2.0      3   \n",
       "8  Johnson, Mrs. Oscar W (Elisabeth Vilhelmina Berg)  female  27.0      0   \n",
       "9                Nasser, Mrs. Nicholas (Adele Achem)  female  14.0      1   \n",
       "\n",
       "   Parch            Ticket     Fare Cabin Embarked  \n",
       "0      0         A/5 21171   7.2500   NaN        S  \n",
       "1      0          PC 17599  71.2833   C85        C  \n",
       "2      0  STON/O2. 3101282   7.9250   NaN        S  \n",
       "3      0            113803  53.1000  C123        S  \n",
       "4      0            373450   8.0500   NaN        S  \n",
       "5      0            330877   8.4583   NaN        Q  \n",
       "6      0             17463  51.8625   E46        S  \n",
       "7      1            349909  21.0750   NaN        S  \n",
       "8      2            347742  11.1333   NaN        S  \n",
       "9      0            237736  30.0708   NaN        C  "
      ]
     },
     "execution_count": 2,
     "metadata": {},
     "output_type": "execute_result"
    }
   ],
   "source": [
    "import pandas as pd\n",
    "import numpy as np\n",
    "import seaborn as sns\n",
    "import matplotlib.pyplot as plt\n",
    "%matplotlib inline\n",
    "import math\n",
    "\n",
    "titanic_data = pd.read_csv('titanic.csv')\n",
    "titanic_data.head(10)"
   ]
  },
  {
   "cell_type": "code",
   "execution_count": 4,
   "id": "81d5f779",
   "metadata": {},
   "outputs": [
    {
     "name": "stdout",
     "output_type": "stream",
     "text": [
      "Number of passengers in original data:891\n"
     ]
    }
   ],
   "source": [
    "print(\"Number of passengers in original data:\" +str(len(titanic_data.index)))"
   ]
  },
  {
   "cell_type": "markdown",
   "id": "23b33f39",
   "metadata": {},
   "source": [
    "### Analyzing Data"
   ]
  },
  {
   "cell_type": "code",
   "execution_count": 5,
   "id": "31f1a05b",
   "metadata": {},
   "outputs": [
    {
     "data": {
      "text/plain": [
       "<AxesSubplot: xlabel='Survived', ylabel='count'>"
      ]
     },
     "execution_count": 5,
     "metadata": {},
     "output_type": "execute_result"
    },
    {
     "data": {
      "image/png": "[encoded data removed]",
      "text/plain": [
       "<Figure size 640x480 with 1 Axes>"
      ]
     },
     "metadata": {},
     "output_type": "display_data"
    }
   ],
   "source": [
    "sns.countplot(x=\"Survived\", data = titanic_data)"
   ]
  },
  {
   "cell_type": "code",
   "execution_count": 6,
   "id": "5e879287",
   "metadata": {},
   "outputs": [
    {
     "data": {
      "text/plain": [
       "<AxesSubplot: xlabel='Survived', ylabel='count'>"
      ]
     },
     "execution_count": 6,
     "metadata": {},
     "output_type": "execute_result"
    },
    {
     "data": {
      "image/png": "[encoded data removed]",
      "text/plain": [
       "<Figure size 640x480 with 1 Axes>"
      ]
     },
     "metadata": {},
     "output_type": "display_data"
    }
   ],
   "source": [
    "sns.countplot(x =\"Survived\", hue=\"Sex\", data = titanic_data)"
   ]
  },
  {
   "cell_type": "code",
   "execution_count": 7,
   "id": "74d79f7a",
   "metadata": {},
   "outputs": [
    {
     "data": {
      "text/plain": [
       "<AxesSubplot: xlabel='Survived', ylabel='count'>"
      ]
     },
     "execution_count": 7,
     "metadata": {},
     "output_type": "execute_result"
    },
    {
     "data": {
      "image/png": "[encoded data removed]",
      "text/plain": [
       "<Figure size 640x480 with 1 Axes>"
      ]
     },
     "metadata": {},
     "output_type": "display_data"
    }
   ],
   "source": [
    "sns.countplot(x =\"Survived\", hue=\"Pclass\", data = titanic_data)"
   ]
  },
  {
   "cell_type": "code",
   "execution_count": 8,
   "id": "5c47b8ef",
   "metadata": {},
   "outputs": [
    {
     "data": {
      "text/plain": [
       "<AxesSubplot: ylabel='Frequency'>"
      ]
     },
     "execution_count": 8,
     "metadata": {},
     "output_type": "execute_result"
    },
    {
     "data": {
      "image/png": "[encoded data removed]",
      "text/plain": [
       "<Figure size 640x480 with 1 Axes>"
      ]
     },
     "metadata": {},
     "output_type": "display_data"
    }
   ],
   "source": [
    "titanic_data[\"Age\"].plot.hist()"
   ]
  },
  {
   "cell_type": "code",
   "execution_count": 14,
   "id": "7ddb6bfd",
   "metadata": {},
   "outputs": [
    {
     "data": {
      "text/plain": [
       "<AxesSubplot: ylabel='Frequency'>"
      ]
     },
     "execution_count": 14,
     "metadata": {},
     "output_type": "execute_result"
    },
    {
     "data": {
      "image/png": "[encoded data removed]",
      "text/plain": [
       "<Figure size 1000x500 with 1 Axes>"
      ]
     },
     "metadata": {},
     "output_type": "display_data"
    }
   ],
   "source": [
    "titanic_data[\"Fare\"].plot.hist(bins=20, figsize= (10,5))"
   ]
  },
  {
   "cell_type": "code",
   "execution_count": 15,
   "id": "88e9dc22",
   "metadata": {},
   "outputs": [
    {
     "name": "stdout",
     "output_type": "stream",
     "text": [
      "<class 'pandas.core.frame.DataFrame'>\n",
      "RangeIndex: 891 entries, 0 to 890\n",
      "Data columns (total 12 columns):\n",
      " #   Column       Non-Null Count  Dtype  \n",
      "---  ------       --------------  -----  \n",
      " 0   PassengerId  891 non-null    int64  \n",
      " 1   Survived     891 non-null    int64  \n",
      " 2   Pclass       891 non-null    int64  \n",
      " 3   Name         891 non-null    object \n",
      " 4   Sex          891 non-null    object \n",
      " 5   Age          714 non-null    float64\n",
      " 6   SibSp        891 non-null    int64  \n",
      " 7   Parch        891 non-null    int64  \n",
      " 8   Ticket       891 non-null    object \n",
      " 9   Fare         891 non-null    float64\n",
      " 10  Cabin        204 non-null    object \n",
      " 11  Embarked     889 non-null    object \n",
      "dtypes: float64(2), int64(5), object(5)\n",
      "memory usage: 83.7+ KB\n"
     ]
    }
   ],
   "source": [
    "titanic_data.info()"
   ]
  },
  {
   "cell_type": "code",
   "execution_count": 16,
   "id": "1431b242",
   "metadata": {},
   "outputs": [
    {
     "data": {
      "text/plain": [
       "<AxesSubplot: xlabel='SibSp', ylabel='count'>"
      ]
     },
     "execution_count": 16,
     "metadata": {},
     "output_type": "execute_result"
    },
    {
     "data": {
      "image/png": "[encoded data removed]",
      "text/plain": [
       "<Figure size 640x480 with 1 Axes>"
      ]
     },
     "metadata": {},
     "output_type": "display_data"
    }
   ],
   "source": [
    "sns.countplot(x=\"SibSp\", data= titanic_data)"
   ]
  },
  {
   "cell_type": "markdown",
   "id": "46abafe2",
   "metadata": {},
   "source": [
    "## Data Wrangling"
   ]
  },
  {
   "cell_type": "code",
   "execution_count": 18,
   "id": "c95489c4",
   "metadata": {},
   "outputs": [
    {
     "data": {
      "text/html": [
       "<div>\n",
       "<style scoped>\n",
       "    .dataframe tbody tr th:only-of-type {\n",
       "        vertical-align: middle;\n",
       "    }\n",
       "\n",
       "    .dataframe tbody tr th {\n",
       "        vertical-align: top;\n",
       "    }\n",
       "\n",
       "    .dataframe thead th {\n",
       "        text-align: right;\n",
       "    }\n",
       "</style>\n",
       "<table border=\"1\" class=\"dataframe\">\n",
       "  <thead>\n",
       "    <tr style=\"text-align: right;\">\n",
       "      <th></th>\n",
       "      <th>PassengerId</th>\n",
       "      <th>Survived</th>\n",
       "      <th>Pclass</th>\n",
       "      <th>Name</th>\n",
       "      <th>Sex</th>\n",
       "      <th>Age</th>\n",
       "      <th>SibSp</th>\n",
       "      <th>Parch</th>\n",
       "      <th>Ticket</th>\n",
       "      <th>Fare</th>\n",
       "      <th>Cabin</th>\n",
       "      <th>Embarked</th>\n",
       "    </tr>\n",
       "  </thead>\n",
       "  <tbody>\n",
       "    <tr>\n",
       "      <th>0</th>\n",
       "      <td>False</td>\n",
       "      <td>False</td>\n",
       "      <td>False</td>\n",
       "      <td>False</td>\n",
       "      <td>False</td>\n",
       "      <td>False</td>\n",
       "      <td>False</td>\n",
       "      <td>False</td>\n",
       "      <td>False</td>\n",
       "      <td>False</td>\n",
       "      <td>True</td>\n",
       "      <td>False</td>\n",
       "    </tr>\n",
       "    <tr>\n",
       "      <th>1</th>\n",
       "      <td>False</td>\n",
       "      <td>False</td>\n",
       "      <td>False</td>\n",
       "      <td>False</td>\n",
       "      <td>False</td>\n",
       "      <td>False</td>\n",
       "      <td>False</td>\n",
       "      <td>False</td>\n",
       "      <td>False</td>\n",
       "      <td>False</td>\n",
       "      <td>False</td>\n",
       "      <td>False</td>\n",
       "    </tr>\n",
       "    <tr>\n",
       "      <th>2</th>\n",
       "      <td>False</td>\n",
       "      <td>False</td>\n",
       "      <td>False</td>\n",
       "      <td>False</td>\n",
       "      <td>False</td>\n",
       "      <td>False</td>\n",
       "      <td>False</td>\n",
       "      <td>False</td>\n",
       "      <td>False</td>\n",
       "      <td>False</td>\n",
       "      <td>True</td>\n",
       "      <td>False</td>\n",
       "    </tr>\n",
       "    <tr>\n",
       "      <th>3</th>\n",
       "      <td>False</td>\n",
       "      <td>False</td>\n",
       "      <td>False</td>\n",
       "      <td>False</td>\n",
       "      <td>False</td>\n",
       "      <td>False</td>\n",
       "      <td>False</td>\n",
       "      <td>False</td>\n",
       "      <td>False</td>\n",
       "      <td>False</td>\n",
       "      <td>False</td>\n",
       "      <td>False</td>\n",
       "    </tr>\n",
       "    <tr>\n",
       "      <th>4</th>\n",
       "      <td>False</td>\n",
       "      <td>False</td>\n",
       "      <td>False</td>\n",
       "      <td>False</td>\n",
       "      <td>False</td>\n",
       "      <td>False</td>\n",
       "      <td>False</td>\n",
       "      <td>False</td>\n",
       "      <td>False</td>\n",
       "      <td>False</td>\n",
       "      <td>True</td>\n",
       "      <td>False</td>\n",
       "    </tr>\n",
       "    <tr>\n",
       "      <th>...</th>\n",
       "      <td>...</td>\n",
       "      <td>...</td>\n",
       "      <td>...</td>\n",
       "      <td>...</td>\n",
       "      <td>...</td>\n",
       "      <td>...</td>\n",
       "      <td>...</td>\n",
       "      <td>...</td>\n",
       "      <td>...</td>\n",
       "      <td>...</td>\n",
       "      <td>...</td>\n",
       "      <td>...</td>\n",
       "    </tr>\n",
       "    <tr>\n",
       "      <th>886</th>\n",
       "      <td>False</td>\n",
       "      <td>False</td>\n",
       "      <td>False</td>\n",
       "      <td>False</td>\n",
       "      <td>False</td>\n",
       "      <td>False</td>\n",
       "      <td>False</td>\n",
       "      <td>False</td>\n",
       "      <td>False</td>\n",
       "      <td>False</td>\n",
       "      <td>True</td>\n",
       "      <td>False</td>\n",
       "    </tr>\n",
       "    <tr>\n",
       "      <th>887</th>\n",
       "      <td>False</td>\n",
       "      <td>False</td>\n",
       "      <td>False</td>\n",
       "      <td>False</td>\n",
       "      <td>False</td>\n",
       "      <td>False</td>\n",
       "      <td>False</td>\n",
       "      <td>False</td>\n",
       "      <td>False</td>\n",
       "      <td>False</td>\n",
       "      <td>False</td>\n",
       "      <td>False</td>\n",
       "    </tr>\n",
       "    <tr>\n",
       "      <th>888</th>\n",
       "      <td>False</td>\n",
       "      <td>False</td>\n",
       "      <td>False</td>\n",
       "      <td>False</td>\n",
       "      <td>False</td>\n",
       "      <td>True</td>\n",
       "      <td>False</td>\n",
       "      <td>False</td>\n",
       "      <td>False</td>\n",
       "      <td>False</td>\n",
       "      <td>True</td>\n",
       "      <td>False</td>\n",
       "    </tr>\n",
       "    <tr>\n",
       "      <th>889</th>\n",
       "      <td>False</td>\n",
       "      <td>False</td>\n",
       "      <td>False</td>\n",
       "      <td>False</td>\n",
       "      <td>False</td>\n",
       "      <td>False</td>\n",
       "      <td>False</td>\n",
       "      <td>False</td>\n",
       "      <td>False</td>\n",
       "      <td>False</td>\n",
       "      <td>False</td>\n",
       "      <td>False</td>\n",
       "    </tr>\n",
       "    <tr>\n",
       "      <th>890</th>\n",
       "      <td>False</td>\n",
       "      <td>False</td>\n",
       "      <td>False</td>\n",
       "      <td>False</td>\n",
       "      <td>False</td>\n",
       "      <td>False</td>\n",
       "      <td>False</td>\n",
       "      <td>False</td>\n",
       "      <td>False</td>\n",
       "      <td>False</td>\n",
       "      <td>True</td>\n",
       "      <td>False</td>\n",
       "    </tr>\n",
       "  </tbody>\n",
       "</table>\n",
       "<p>891 rows × 12 columns</p>\n",
       "</div>"
      ],
      "text/plain": [
       "     PassengerId  Survived  Pclass   Name    Sex    Age  SibSp  Parch  Ticket  \\\n",
       "0          False     False   False  False  False  False  False  False   False   \n",
       "1          False     False   False  False  False  False  False  False   False   \n",
       "2          False     False   False  False  False  False  False  False   False   \n",
       "3          False     False   False  False  False  False  False  False   False   \n",
       "4          False     False   False  False  False  False  False  False   False   \n",
       "..           ...       ...     ...    ...    ...    ...    ...    ...     ...   \n",
       "886        False     False   False  False  False  False  False  False   False   \n",
       "887        False     False   False  False  False  False  False  False   False   \n",
       "888        False     False   False  False  False   True  False  False   False   \n",
       "889        False     False   False  False  False  False  False  False   False   \n",
       "890        False     False   False  False  False  False  False  False   False   \n",
       "\n",
       "      Fare  Cabin  Embarked  \n",
       "0    False   True     False  \n",
       "1    False  False     False  \n",
       "2    False   True     False  \n",
       "3    False  False     False  \n",
       "4    False   True     False  \n",
       "..     ...    ...       ...  \n",
       "886  False   True     False  \n",
       "887  False  False     False  \n",
       "888  False   True     False  \n",
       "889  False  False     False  \n",
       "890  False   True     False  \n",
       "\n",
       "[891 rows x 12 columns]"
      ]
     },
     "execution_count": 18,
     "metadata": {},
     "output_type": "execute_result"
    }
   ],
   "source": [
    "titanic_data.isnull()"
   ]
  },
  {
   "cell_type": "code",
   "execution_count": 19,
   "id": "ba0a0d48",
   "metadata": {},
   "outputs": [
    {
     "data": {
      "text/plain": [
       "PassengerId      0\n",
       "Survived         0\n",
       "Pclass           0\n",
       "Name             0\n",
       "Sex              0\n",
       "Age            177\n",
       "SibSp            0\n",
       "Parch            0\n",
       "Ticket           0\n",
       "Fare             0\n",
       "Cabin          687\n",
       "Embarked         2\n",
       "dtype: int64"
      ]
     },
     "execution_count": 19,
     "metadata": {},
     "output_type": "execute_result"
    }
   ],
   "source": [
    "titanic_data.isnull().sum()"
   ]
  },
  {
   "cell_type": "code",
   "execution_count": 22,
   "id": "48229e17",
   "metadata": {},
   "outputs": [
    {
     "data": {
      "text/plain": [
       "<AxesSubplot: >"
      ]
     },
     "execution_count": 22,
     "metadata": {},
     "output_type": "execute_result"
    },
    {
     "data": {
      "image/png": "[encoded data removed]",
      "text/plain": [
       "<Figure size 640x480 with 2 Axes>"
      ]
     },
     "metadata": {},
     "output_type": "display_data"
    }
   ],
   "source": [
    "sns.heatmap(titanic_data.isnull(), yticklabels=False, cmap=\"viridis\")"
   ]
  },
  {
   "cell_type": "code",
   "execution_count": 24,
   "id": "55e2cdf6",
   "metadata": {},
   "outputs": [
    {
     "data": {
      "text/plain": [
       "<AxesSubplot: xlabel='Pclass', ylabel='Age'>"
      ]
     },
     "execution_count": 24,
     "metadata": {},
     "output_type": "execute_result"
    },
    {
     "data": {
      "image/png": "[encoded data removed]",
      "text/plain": [
       "<Figure size 640x480 with 1 Axes>"
      ]
     },
     "metadata": {},
     "output_type": "display_data"
    }
   ],
   "source": [
    "sns.boxplot(x=\"Pclass\", y=\"Age\", data=titanic_data)"
   ]
  },
  {
   "cell_type": "code",
   "execution_count": 26,
   "id": "28b717d6",
   "metadata": {},
   "outputs": [
    {
     "data": {
      "text/html": [
       "<div>\n",
       "<style scoped>\n",
       "    .dataframe tbody tr th:only-of-type {\n",
       "        vertical-align: middle;\n",
       "    }\n",
       "\n",
       "    .dataframe tbody tr th {\n",
       "        vertical-align: top;\n",
       "    }\n",
       "\n",
       "    .dataframe thead th {\n",
       "        text-align: right;\n",
       "    }\n",
       "</style>\n",
       "<table border=\"1\" class=\"dataframe\">\n",
       "  <thead>\n",
       "    <tr style=\"text-align: right;\">\n",
       "      <th></th>\n",
       "      <th>PassengerId</th>\n",
       "      <th>Survived</th>\n",
       "      <th>Pclass</th>\n",
       "      <th>Name</th>\n",
       "      <th>Sex</th>\n",
       "      <th>Age</th>\n",
       "      <th>SibSp</th>\n",
       "      <th>Parch</th>\n",
       "      <th>Ticket</th>\n",
       "      <th>Fare</th>\n",
       "      <th>Cabin</th>\n",
       "      <th>Embarked</th>\n",
       "    </tr>\n",
       "  </thead>\n",
       "  <tbody>\n",
       "    <tr>\n",
       "      <th>0</th>\n",
       "      <td>1</td>\n",
       "      <td>0</td>\n",
       "      <td>3</td>\n",
       "      <td>Braund, Mr. Owen Harris</td>\n",
       "      <td>male</td>\n",
       "      <td>22.0</td>\n",
       "      <td>1</td>\n",
       "      <td>0</td>\n",
       "      <td>A/5 21171</td>\n",
       "      <td>7.2500</td>\n",
       "      <td>NaN</td>\n",
       "      <td>S</td>\n",
       "    </tr>\n",
       "    <tr>\n",
       "      <th>1</th>\n",
       "      <td>2</td>\n",
       "      <td>1</td>\n",
       "      <td>1</td>\n",
       "      <td>Cumings, Mrs. John Bradley (Florence Briggs Th...</td>\n",
       "      <td>female</td>\n",
       "      <td>38.0</td>\n",
       "      <td>1</td>\n",
       "      <td>0</td>\n",
       "      <td>PC 17599</td>\n",
       "      <td>71.2833</td>\n",
       "      <td>C85</td>\n",
       "      <td>C</td>\n",
       "    </tr>\n",
       "    <tr>\n",
       "      <th>2</th>\n",
       "      <td>3</td>\n",
       "      <td>1</td>\n",
       "      <td>3</td>\n",
       "      <td>Heikkinen, Miss. Laina</td>\n",
       "      <td>female</td>\n",
       "      <td>26.0</td>\n",
       "      <td>0</td>\n",
       "      <td>0</td>\n",
       "      <td>STON/O2. 3101282</td>\n",
       "      <td>7.9250</td>\n",
       "      <td>NaN</td>\n",
       "      <td>S</td>\n",
       "    </tr>\n",
       "    <tr>\n",
       "      <th>3</th>\n",
       "      <td>4</td>\n",
       "      <td>1</td>\n",
       "      <td>1</td>\n",
       "      <td>Futrelle, Mrs. Jacques Heath (Lily May Peel)</td>\n",
       "      <td>female</td>\n",
       "      <td>35.0</td>\n",
       "      <td>1</td>\n",
       "      <td>0</td>\n",
       "      <td>113803</td>\n",
       "      <td>53.1000</td>\n",
       "      <td>C123</td>\n",
       "      <td>S</td>\n",
       "    </tr>\n",
       "    <tr>\n",
       "      <th>4</th>\n",
       "      <td>5</td>\n",
       "      <td>0</td>\n",
       "      <td>3</td>\n",
       "      <td>Allen, Mr. William Henry</td>\n",
       "      <td>male</td>\n",
       "      <td>35.0</td>\n",
       "      <td>0</td>\n",
       "      <td>0</td>\n",
       "      <td>373450</td>\n",
       "      <td>8.0500</td>\n",
       "      <td>NaN</td>\n",
       "      <td>S</td>\n",
       "    </tr>\n",
       "  </tbody>\n",
       "</table>\n",
       "</div>"
      ],
      "text/plain": [
       "   PassengerId  Survived  Pclass  \\\n",
       "0            1         0       3   \n",
       "1            2         1       1   \n",
       "2            3         1       3   \n",
       "3            4         1       1   \n",
       "4            5         0       3   \n",
       "\n",
       "                                                Name     Sex   Age  SibSp  \\\n",
       "0                            Braund, Mr. Owen Harris    male  22.0      1   \n",
       "1  Cumings, Mrs. John Bradley (Florence Briggs Th...  female  38.0      1   \n",
       "2                             Heikkinen, Miss. Laina  female  26.0      0   \n",
       "3       Futrelle, Mrs. Jacques Heath (Lily May Peel)  female  35.0      1   \n",
       "4                           Allen, Mr. William Henry    male  35.0      0   \n",
       "\n",
       "   Parch            Ticket     Fare Cabin Embarked  \n",
       "0      0         A/5 21171   7.2500   NaN        S  \n",
       "1      0          PC 17599  71.2833   C85        C  \n",
       "2      0  STON/O2. 3101282   7.9250   NaN        S  \n",
       "3      0            113803  53.1000  C123        S  \n",
       "4      0            373450   8.0500   NaN        S  "
      ]
     },
     "execution_count": 26,
     "metadata": {},
     "output_type": "execute_result"
    }
   ],
   "source": [
    "titanic_data.head((5))"
   ]
  },
  {
   "cell_type": "code",
   "execution_count": 31,
   "id": "10c1f98c",
   "metadata": {},
   "outputs": [
    {
     "ename": "KeyError",
     "evalue": "\"['Cabin'] not found in axis\"",
     "output_type": "error",
     "traceback": [
      "\u001b[0;31m---------------------------------------------------------------------------\u001b[0m",
      "\u001b[0;31mKeyError\u001b[0m                                  Traceback (most recent call last)",
      "Cell \u001b[0;32mIn [31], line 1\u001b[0m\n\u001b[0;32m----> 1\u001b[0m \u001b[43mtitanic_data\u001b[49m\u001b[38;5;241;43m.\u001b[39;49m\u001b[43mdrop\u001b[49m\u001b[43m(\u001b[49m\u001b[38;5;124;43m\"\u001b[39;49m\u001b[38;5;124;43mCabin\u001b[39;49m\u001b[38;5;124;43m\"\u001b[39;49m\u001b[43m,\u001b[49m\u001b[43m \u001b[49m\u001b[43maxis\u001b[49m\u001b[38;5;241;43m=\u001b[39;49m\u001b[38;5;241;43m1\u001b[39;49m\u001b[43m,\u001b[49m\u001b[43m \u001b[49m\u001b[43minplace\u001b[49m\u001b[38;5;241;43m=\u001b[39;49m\u001b[38;5;28;43;01mTrue\u001b[39;49;00m\u001b[43m)\u001b[49m\n",
      "File \u001b[0;32m/opt/homebrew/lib/python3.10/site-packages/pandas/util/_decorators.py:331\u001b[0m, in \u001b[0;36mdeprecate_nonkeyword_arguments.<locals>.decorate.<locals>.wrapper\u001b[0;34m(*args, **kwargs)\u001b[0m\n\u001b[1;32m    325\u001b[0m \u001b[38;5;28;01mif\u001b[39;00m \u001b[38;5;28mlen\u001b[39m(args) \u001b[38;5;241m>\u001b[39m num_allow_args:\n\u001b[1;32m    326\u001b[0m     warnings\u001b[38;5;241m.\u001b[39mwarn(\n\u001b[1;32m    327\u001b[0m         msg\u001b[38;5;241m.\u001b[39mformat(arguments\u001b[38;5;241m=\u001b[39m_format_argument_list(allow_args)),\n\u001b[1;32m    328\u001b[0m         \u001b[38;5;167;01mFutureWarning\u001b[39;00m,\n\u001b[1;32m    329\u001b[0m         stacklevel\u001b[38;5;241m=\u001b[39mfind_stack_level(),\n\u001b[1;32m    330\u001b[0m     )\n\u001b[0;32m--> 331\u001b[0m \u001b[38;5;28;01mreturn\u001b[39;00m \u001b[43mfunc\u001b[49m\u001b[43m(\u001b[49m\u001b[38;5;241;43m*\u001b[39;49m\u001b[43margs\u001b[49m\u001b[43m,\u001b[49m\u001b[43m \u001b[49m\u001b[38;5;241;43m*\u001b[39;49m\u001b[38;5;241;43m*\u001b[39;49m\u001b[43mkwargs\u001b[49m\u001b[43m)\u001b[49m\n",
      "File \u001b[0;32m/opt/homebrew/lib/python3.10/site-packages/pandas/core/frame.py:5399\u001b[0m, in \u001b[0;36mDataFrame.drop\u001b[0;34m(self, labels, axis, index, columns, level, inplace, errors)\u001b[0m\n\u001b[1;32m   5251\u001b[0m \u001b[38;5;129m@deprecate_nonkeyword_arguments\u001b[39m(version\u001b[38;5;241m=\u001b[39m\u001b[38;5;28;01mNone\u001b[39;00m, allowed_args\u001b[38;5;241m=\u001b[39m[\u001b[38;5;124m\"\u001b[39m\u001b[38;5;124mself\u001b[39m\u001b[38;5;124m\"\u001b[39m, \u001b[38;5;124m\"\u001b[39m\u001b[38;5;124mlabels\u001b[39m\u001b[38;5;124m\"\u001b[39m])\n\u001b[1;32m   5252\u001b[0m \u001b[38;5;28;01mdef\u001b[39;00m \u001b[38;5;21mdrop\u001b[39m(  \u001b[38;5;66;03m# type: ignore[override]\u001b[39;00m\n\u001b[1;32m   5253\u001b[0m     \u001b[38;5;28mself\u001b[39m,\n\u001b[0;32m   (...)\u001b[0m\n\u001b[1;32m   5260\u001b[0m     errors: IgnoreRaise \u001b[38;5;241m=\u001b[39m \u001b[38;5;124m\"\u001b[39m\u001b[38;5;124mraise\u001b[39m\u001b[38;5;124m\"\u001b[39m,\n\u001b[1;32m   5261\u001b[0m ) \u001b[38;5;241m-\u001b[39m\u001b[38;5;241m>\u001b[39m DataFrame \u001b[38;5;241m|\u001b[39m \u001b[38;5;28;01mNone\u001b[39;00m:\n\u001b[1;32m   5262\u001b[0m     \u001b[38;5;124;03m\"\"\"\u001b[39;00m\n\u001b[1;32m   5263\u001b[0m \u001b[38;5;124;03m    Drop specified labels from rows or columns.\u001b[39;00m\n\u001b[1;32m   5264\u001b[0m \n\u001b[0;32m   (...)\u001b[0m\n\u001b[1;32m   5397\u001b[0m \u001b[38;5;124;03m            weight  1.0     0.8\u001b[39;00m\n\u001b[1;32m   5398\u001b[0m \u001b[38;5;124;03m    \"\"\"\u001b[39;00m\n\u001b[0;32m-> 5399\u001b[0m     \u001b[38;5;28;01mreturn\u001b[39;00m \u001b[38;5;28;43msuper\u001b[39;49m\u001b[43m(\u001b[49m\u001b[43m)\u001b[49m\u001b[38;5;241;43m.\u001b[39;49m\u001b[43mdrop\u001b[49m\u001b[43m(\u001b[49m\n\u001b[1;32m   5400\u001b[0m \u001b[43m        \u001b[49m\u001b[43mlabels\u001b[49m\u001b[38;5;241;43m=\u001b[39;49m\u001b[43mlabels\u001b[49m\u001b[43m,\u001b[49m\n\u001b[1;32m   5401\u001b[0m \u001b[43m        \u001b[49m\u001b[43maxis\u001b[49m\u001b[38;5;241;43m=\u001b[39;49m\u001b[43maxis\u001b[49m\u001b[43m,\u001b[49m\n\u001b[1;32m   5402\u001b[0m \u001b[43m        \u001b[49m\u001b[43mindex\u001b[49m\u001b[38;5;241;43m=\u001b[39;49m\u001b[43mindex\u001b[49m\u001b[43m,\u001b[49m\n\u001b[1;32m   5403\u001b[0m \u001b[43m        \u001b[49m\u001b[43mcolumns\u001b[49m\u001b[38;5;241;43m=\u001b[39;49m\u001b[43mcolumns\u001b[49m\u001b[43m,\u001b[49m\n\u001b[1;32m   5404\u001b[0m \u001b[43m        \u001b[49m\u001b[43mlevel\u001b[49m\u001b[38;5;241;43m=\u001b[39;49m\u001b[43mlevel\u001b[49m\u001b[43m,\u001b[49m\n\u001b[1;32m   5405\u001b[0m \u001b[43m        \u001b[49m\u001b[43minplace\u001b[49m\u001b[38;5;241;43m=\u001b[39;49m\u001b[43minplace\u001b[49m\u001b[43m,\u001b[49m\n\u001b[1;32m   5406\u001b[0m \u001b[43m        \u001b[49m\u001b[43merrors\u001b[49m\u001b[38;5;241;43m=\u001b[39;49m\u001b[43merrors\u001b[49m\u001b[43m,\u001b[49m\n\u001b[1;32m   5407\u001b[0m \u001b[43m    \u001b[49m\u001b[43m)\u001b[49m\n",
      "File \u001b[0;32m/opt/homebrew/lib/python3.10/site-packages/pandas/util/_decorators.py:331\u001b[0m, in \u001b[0;36mdeprecate_nonkeyword_arguments.<locals>.decorate.<locals>.wrapper\u001b[0;34m(*args, **kwargs)\u001b[0m\n\u001b[1;32m    325\u001b[0m \u001b[38;5;28;01mif\u001b[39;00m \u001b[38;5;28mlen\u001b[39m(args) \u001b[38;5;241m>\u001b[39m num_allow_args:\n\u001b[1;32m    326\u001b[0m     warnings\u001b[38;5;241m.\u001b[39mwarn(\n\u001b[1;32m    327\u001b[0m         msg\u001b[38;5;241m.\u001b[39mformat(arguments\u001b[38;5;241m=\u001b[39m_format_argument_list(allow_args)),\n\u001b[1;32m    328\u001b[0m         \u001b[38;5;167;01mFutureWarning\u001b[39;00m,\n\u001b[1;32m    329\u001b[0m         stacklevel\u001b[38;5;241m=\u001b[39mfind_stack_level(),\n\u001b[1;32m    330\u001b[0m     )\n\u001b[0;32m--> 331\u001b[0m \u001b[38;5;28;01mreturn\u001b[39;00m \u001b[43mfunc\u001b[49m\u001b[43m(\u001b[49m\u001b[38;5;241;43m*\u001b[39;49m\u001b[43margs\u001b[49m\u001b[43m,\u001b[49m\u001b[43m \u001b[49m\u001b[38;5;241;43m*\u001b[39;49m\u001b[38;5;241;43m*\u001b[39;49m\u001b[43mkwargs\u001b[49m\u001b[43m)\u001b[49m\n",
      "File \u001b[0;32m/opt/homebrew/lib/python3.10/site-packages/pandas/core/generic.py:4505\u001b[0m, in \u001b[0;36mNDFrame.drop\u001b[0;34m(self, labels, axis, index, columns, level, inplace, errors)\u001b[0m\n\u001b[1;32m   4503\u001b[0m \u001b[38;5;28;01mfor\u001b[39;00m axis, labels \u001b[38;5;129;01min\u001b[39;00m axes\u001b[38;5;241m.\u001b[39mitems():\n\u001b[1;32m   4504\u001b[0m     \u001b[38;5;28;01mif\u001b[39;00m labels \u001b[38;5;129;01mis\u001b[39;00m \u001b[38;5;129;01mnot\u001b[39;00m \u001b[38;5;28;01mNone\u001b[39;00m:\n\u001b[0;32m-> 4505\u001b[0m         obj \u001b[38;5;241m=\u001b[39m \u001b[43mobj\u001b[49m\u001b[38;5;241;43m.\u001b[39;49m\u001b[43m_drop_axis\u001b[49m\u001b[43m(\u001b[49m\u001b[43mlabels\u001b[49m\u001b[43m,\u001b[49m\u001b[43m \u001b[49m\u001b[43maxis\u001b[49m\u001b[43m,\u001b[49m\u001b[43m \u001b[49m\u001b[43mlevel\u001b[49m\u001b[38;5;241;43m=\u001b[39;49m\u001b[43mlevel\u001b[49m\u001b[43m,\u001b[49m\u001b[43m \u001b[49m\u001b[43merrors\u001b[49m\u001b[38;5;241;43m=\u001b[39;49m\u001b[43merrors\u001b[49m\u001b[43m)\u001b[49m\n\u001b[1;32m   4507\u001b[0m \u001b[38;5;28;01mif\u001b[39;00m inplace:\n\u001b[1;32m   4508\u001b[0m     \u001b[38;5;28mself\u001b[39m\u001b[38;5;241m.\u001b[39m_update_inplace(obj)\n",
      "File \u001b[0;32m/opt/homebrew/lib/python3.10/site-packages/pandas/core/generic.py:4546\u001b[0m, in \u001b[0;36mNDFrame._drop_axis\u001b[0;34m(self, labels, axis, level, errors, only_slice)\u001b[0m\n\u001b[1;32m   4544\u001b[0m         new_axis \u001b[38;5;241m=\u001b[39m axis\u001b[38;5;241m.\u001b[39mdrop(labels, level\u001b[38;5;241m=\u001b[39mlevel, errors\u001b[38;5;241m=\u001b[39merrors)\n\u001b[1;32m   4545\u001b[0m     \u001b[38;5;28;01melse\u001b[39;00m:\n\u001b[0;32m-> 4546\u001b[0m         new_axis \u001b[38;5;241m=\u001b[39m \u001b[43maxis\u001b[49m\u001b[38;5;241;43m.\u001b[39;49m\u001b[43mdrop\u001b[49m\u001b[43m(\u001b[49m\u001b[43mlabels\u001b[49m\u001b[43m,\u001b[49m\u001b[43m \u001b[49m\u001b[43merrors\u001b[49m\u001b[38;5;241;43m=\u001b[39;49m\u001b[43merrors\u001b[49m\u001b[43m)\u001b[49m\n\u001b[1;32m   4547\u001b[0m     indexer \u001b[38;5;241m=\u001b[39m axis\u001b[38;5;241m.\u001b[39mget_indexer(new_axis)\n\u001b[1;32m   4549\u001b[0m \u001b[38;5;66;03m# Case for non-unique axis\u001b[39;00m\n\u001b[1;32m   4550\u001b[0m \u001b[38;5;28;01melse\u001b[39;00m:\n",
      "File \u001b[0;32m/opt/homebrew/lib/python3.10/site-packages/pandas/core/indexes/base.py:6934\u001b[0m, in \u001b[0;36mIndex.drop\u001b[0;34m(self, labels, errors)\u001b[0m\n\u001b[1;32m   6932\u001b[0m \u001b[38;5;28;01mif\u001b[39;00m mask\u001b[38;5;241m.\u001b[39many():\n\u001b[1;32m   6933\u001b[0m     \u001b[38;5;28;01mif\u001b[39;00m errors \u001b[38;5;241m!=\u001b[39m \u001b[38;5;124m\"\u001b[39m\u001b[38;5;124mignore\u001b[39m\u001b[38;5;124m\"\u001b[39m:\n\u001b[0;32m-> 6934\u001b[0m         \u001b[38;5;28;01mraise\u001b[39;00m \u001b[38;5;167;01mKeyError\u001b[39;00m(\u001b[38;5;124mf\u001b[39m\u001b[38;5;124m\"\u001b[39m\u001b[38;5;132;01m{\u001b[39;00m\u001b[38;5;28mlist\u001b[39m(labels[mask])\u001b[38;5;132;01m}\u001b[39;00m\u001b[38;5;124m not found in axis\u001b[39m\u001b[38;5;124m\"\u001b[39m)\n\u001b[1;32m   6935\u001b[0m     indexer \u001b[38;5;241m=\u001b[39m indexer[\u001b[38;5;241m~\u001b[39mmask]\n\u001b[1;32m   6936\u001b[0m \u001b[38;5;28;01mreturn\u001b[39;00m \u001b[38;5;28mself\u001b[39m\u001b[38;5;241m.\u001b[39mdelete(indexer)\n",
      "\u001b[0;31mKeyError\u001b[0m: \"['Cabin'] not found in axis\""
     ]
    }
   ],
   "source": [
    "titanic_data.drop(\"Cabin\", axis=1, inplace=True)"
   ]
  },
  {
   "cell_type": "code",
   "execution_count": 32,
   "id": "c5283b4e",
   "metadata": {},
   "outputs": [
    {
     "data": {
      "text/html": [
       "<div>\n",
       "<style scoped>\n",
       "    .dataframe tbody tr th:only-of-type {\n",
       "        vertical-align: middle;\n",
       "    }\n",
       "\n",
       "    .dataframe tbody tr th {\n",
       "        vertical-align: top;\n",
       "    }\n",
       "\n",
       "    .dataframe thead th {\n",
       "        text-align: right;\n",
       "    }\n",
       "</style>\n",
       "<table border=\"1\" class=\"dataframe\">\n",
       "  <thead>\n",
       "    <tr style=\"text-align: right;\">\n",
       "      <th></th>\n",
       "      <th>PassengerId</th>\n",
       "      <th>Survived</th>\n",
       "      <th>Pclass</th>\n",
       "      <th>Name</th>\n",
       "      <th>Sex</th>\n",
       "      <th>Age</th>\n",
       "      <th>SibSp</th>\n",
       "      <th>Parch</th>\n",
       "      <th>Ticket</th>\n",
       "      <th>Fare</th>\n",
       "      <th>Embarked</th>\n",
       "    </tr>\n",
       "  </thead>\n",
       "  <tbody>\n",
       "    <tr>\n",
       "      <th>0</th>\n",
       "      <td>1</td>\n",
       "      <td>0</td>\n",
       "      <td>3</td>\n",
       "      <td>Braund, Mr. Owen Harris</td>\n",
       "      <td>male</td>\n",
       "      <td>22.0</td>\n",
       "      <td>1</td>\n",
       "      <td>0</td>\n",
       "      <td>A/5 21171</td>\n",
       "      <td>7.2500</td>\n",
       "      <td>S</td>\n",
       "    </tr>\n",
       "    <tr>\n",
       "      <th>1</th>\n",
       "      <td>2</td>\n",
       "      <td>1</td>\n",
       "      <td>1</td>\n",
       "      <td>Cumings, Mrs. John Bradley (Florence Briggs Th...</td>\n",
       "      <td>female</td>\n",
       "      <td>38.0</td>\n",
       "      <td>1</td>\n",
       "      <td>0</td>\n",
       "      <td>PC 17599</td>\n",
       "      <td>71.2833</td>\n",
       "      <td>C</td>\n",
       "    </tr>\n",
       "    <tr>\n",
       "      <th>2</th>\n",
       "      <td>3</td>\n",
       "      <td>1</td>\n",
       "      <td>3</td>\n",
       "      <td>Heikkinen, Miss. Laina</td>\n",
       "      <td>female</td>\n",
       "      <td>26.0</td>\n",
       "      <td>0</td>\n",
       "      <td>0</td>\n",
       "      <td>STON/O2. 3101282</td>\n",
       "      <td>7.9250</td>\n",
       "      <td>S</td>\n",
       "    </tr>\n",
       "    <tr>\n",
       "      <th>3</th>\n",
       "      <td>4</td>\n",
       "      <td>1</td>\n",
       "      <td>1</td>\n",
       "      <td>Futrelle, Mrs. Jacques Heath (Lily May Peel)</td>\n",
       "      <td>female</td>\n",
       "      <td>35.0</td>\n",
       "      <td>1</td>\n",
       "      <td>0</td>\n",
       "      <td>113803</td>\n",
       "      <td>53.1000</td>\n",
       "      <td>S</td>\n",
       "    </tr>\n",
       "    <tr>\n",
       "      <th>4</th>\n",
       "      <td>5</td>\n",
       "      <td>0</td>\n",
       "      <td>3</td>\n",
       "      <td>Allen, Mr. William Henry</td>\n",
       "      <td>male</td>\n",
       "      <td>35.0</td>\n",
       "      <td>0</td>\n",
       "      <td>0</td>\n",
       "      <td>373450</td>\n",
       "      <td>8.0500</td>\n",
       "      <td>S</td>\n",
       "    </tr>\n",
       "  </tbody>\n",
       "</table>\n",
       "</div>"
      ],
      "text/plain": [
       "   PassengerId  Survived  Pclass  \\\n",
       "0            1         0       3   \n",
       "1            2         1       1   \n",
       "2            3         1       3   \n",
       "3            4         1       1   \n",
       "4            5         0       3   \n",
       "\n",
       "                                                Name     Sex   Age  SibSp  \\\n",
       "0                            Braund, Mr. Owen Harris    male  22.0      1   \n",
       "1  Cumings, Mrs. John Bradley (Florence Briggs Th...  female  38.0      1   \n",
       "2                             Heikkinen, Miss. Laina  female  26.0      0   \n",
       "3       Futrelle, Mrs. Jacques Heath (Lily May Peel)  female  35.0      1   \n",
       "4                           Allen, Mr. William Henry    male  35.0      0   \n",
       "\n",
       "   Parch            Ticket     Fare Embarked  \n",
       "0      0         A/5 21171   7.2500        S  \n",
       "1      0          PC 17599  71.2833        C  \n",
       "2      0  STON/O2. 3101282   7.9250        S  \n",
       "3      0            113803  53.1000        S  \n",
       "4      0            373450   8.0500        S  "
      ]
     },
     "execution_count": 32,
     "metadata": {},
     "output_type": "execute_result"
    }
   ],
   "source": [
    "titanic_data.head(5)"
   ]
  },
  {
   "cell_type": "code",
   "execution_count": 33,
   "id": "0a40d197",
   "metadata": {},
   "outputs": [],
   "source": [
    "titanic_data.dropna(inplace=True)"
   ]
  },
  {
   "cell_type": "code",
   "execution_count": 34,
   "id": "fa741e74",
   "metadata": {},
   "outputs": [
    {
     "data": {
      "text/plain": [
       "<AxesSubplot: >"
      ]
     },
     "execution_count": 34,
     "metadata": {},
     "output_type": "execute_result"
    },
    {
     "data": {
      "image/png": "[encoded data removed]",
      "text/plain": [
       "<Figure size 640x480 with 1 Axes>"
      ]
     },
     "metadata": {},
     "output_type": "display_data"
    }
   ],
   "source": [
    "sns.heatmap(titanic_data.isnull(), yticklabels=False, cbar=False)"
   ]
  },
  {
   "cell_type": "code",
   "execution_count": 35,
   "id": "04f32cdb",
   "metadata": {},
   "outputs": [
    {
     "data": {
      "text/plain": [
       "PassengerId    0\n",
       "Survived       0\n",
       "Pclass         0\n",
       "Name           0\n",
       "Sex            0\n",
       "Age            0\n",
       "SibSp          0\n",
       "Parch          0\n",
       "Ticket         0\n",
       "Fare           0\n",
       "Embarked       0\n",
       "dtype: int64"
      ]
     },
     "execution_count": 35,
     "metadata": {},
     "output_type": "execute_result"
    }
   ],
   "source": [
    "titanic_data.isnull().sum()"
   ]
  },
  {
   "cell_type": "code",
   "execution_count": 36,
   "id": "0628552e",
   "metadata": {
    "scrolled": true
   },
   "outputs": [
    {
     "data": {
      "text/html": [
       "<div>\n",
       "<style scoped>\n",
       "    .dataframe tbody tr th:only-of-type {\n",
       "        vertical-align: middle;\n",
       "    }\n",
       "\n",
       "    .dataframe tbody tr th {\n",
       "        vertical-align: top;\n",
       "    }\n",
       "\n",
       "    .dataframe thead th {\n",
       "        text-align: right;\n",
       "    }\n",
       "</style>\n",
       "<table border=\"1\" class=\"dataframe\">\n",
       "  <thead>\n",
       "    <tr style=\"text-align: right;\">\n",
       "      <th></th>\n",
       "      <th>PassengerId</th>\n",
       "      <th>Survived</th>\n",
       "      <th>Pclass</th>\n",
       "      <th>Name</th>\n",
       "      <th>Sex</th>\n",
       "      <th>Age</th>\n",
       "      <th>SibSp</th>\n",
       "      <th>Parch</th>\n",
       "      <th>Ticket</th>\n",
       "      <th>Fare</th>\n",
       "      <th>Embarked</th>\n",
       "    </tr>\n",
       "  </thead>\n",
       "  <tbody>\n",
       "    <tr>\n",
       "      <th>0</th>\n",
       "      <td>1</td>\n",
       "      <td>0</td>\n",
       "      <td>3</td>\n",
       "      <td>Braund, Mr. Owen Harris</td>\n",
       "      <td>male</td>\n",
       "      <td>22.0</td>\n",
       "      <td>1</td>\n",
       "      <td>0</td>\n",
       "      <td>A/5 21171</td>\n",
       "      <td>7.2500</td>\n",
       "      <td>S</td>\n",
       "    </tr>\n",
       "    <tr>\n",
       "      <th>1</th>\n",
       "      <td>2</td>\n",
       "      <td>1</td>\n",
       "      <td>1</td>\n",
       "      <td>Cumings, Mrs. John Bradley (Florence Briggs Th...</td>\n",
       "      <td>female</td>\n",
       "      <td>38.0</td>\n",
       "      <td>1</td>\n",
       "      <td>0</td>\n",
       "      <td>PC 17599</td>\n",
       "      <td>71.2833</td>\n",
       "      <td>C</td>\n",
       "    </tr>\n",
       "  </tbody>\n",
       "</table>\n",
       "</div>"
      ],
      "text/plain": [
       "   PassengerId  Survived  Pclass  \\\n",
       "0            1         0       3   \n",
       "1            2         1       1   \n",
       "\n",
       "                                                Name     Sex   Age  SibSp  \\\n",
       "0                            Braund, Mr. Owen Harris    male  22.0      1   \n",
       "1  Cumings, Mrs. John Bradley (Florence Briggs Th...  female  38.0      1   \n",
       "\n",
       "   Parch     Ticket     Fare Embarked  \n",
       "0      0  A/5 21171   7.2500        S  \n",
       "1      0   PC 17599  71.2833        C  "
      ]
     },
     "execution_count": 36,
     "metadata": {},
     "output_type": "execute_result"
    }
   ],
   "source": [
    "titanic_data.head(2)"
   ]
  },
  {
   "cell_type": "code",
   "execution_count": 39,
   "id": "466e3059",
   "metadata": {},
   "outputs": [
    {
     "data": {
      "text/html": [
       "<div>\n",
       "<style scoped>\n",
       "    .dataframe tbody tr th:only-of-type {\n",
       "        vertical-align: middle;\n",
       "    }\n",
       "\n",
       "    .dataframe tbody tr th {\n",
       "        vertical-align: top;\n",
       "    }\n",
       "\n",
       "    .dataframe thead th {\n",
       "        text-align: right;\n",
       "    }\n",
       "</style>\n",
       "<table border=\"1\" class=\"dataframe\">\n",
       "  <thead>\n",
       "    <tr style=\"text-align: right;\">\n",
       "      <th></th>\n",
       "      <th>male</th>\n",
       "    </tr>\n",
       "  </thead>\n",
       "  <tbody>\n",
       "    <tr>\n",
       "      <th>0</th>\n",
       "      <td>1</td>\n",
       "    </tr>\n",
       "    <tr>\n",
       "      <th>1</th>\n",
       "      <td>0</td>\n",
       "    </tr>\n",
       "    <tr>\n",
       "      <th>2</th>\n",
       "      <td>0</td>\n",
       "    </tr>\n",
       "    <tr>\n",
       "      <th>3</th>\n",
       "      <td>0</td>\n",
       "    </tr>\n",
       "    <tr>\n",
       "      <th>4</th>\n",
       "      <td>1</td>\n",
       "    </tr>\n",
       "  </tbody>\n",
       "</table>\n",
       "</div>"
      ],
      "text/plain": [
       "   male\n",
       "0     1\n",
       "1     0\n",
       "2     0\n",
       "3     0\n",
       "4     1"
      ]
     },
     "execution_count": 39,
     "metadata": {},
     "output_type": "execute_result"
    }
   ],
   "source": [
    "sex= pd.get_dummies(titanic_data['Sex'], drop_first=True)\n",
    "sex.head((5))"
   ]
  },
  {
   "cell_type": "code",
   "execution_count": 41,
   "id": "d95a803d",
   "metadata": {},
   "outputs": [
    {
     "data": {
      "text/html": [
       "<div>\n",
       "<style scoped>\n",
       "    .dataframe tbody tr th:only-of-type {\n",
       "        vertical-align: middle;\n",
       "    }\n",
       "\n",
       "    .dataframe tbody tr th {\n",
       "        vertical-align: top;\n",
       "    }\n",
       "\n",
       "    .dataframe thead th {\n",
       "        text-align: right;\n",
       "    }\n",
       "</style>\n",
       "<table border=\"1\" class=\"dataframe\">\n",
       "  <thead>\n",
       "    <tr style=\"text-align: right;\">\n",
       "      <th></th>\n",
       "      <th>Q</th>\n",
       "      <th>S</th>\n",
       "    </tr>\n",
       "  </thead>\n",
       "  <tbody>\n",
       "    <tr>\n",
       "      <th>0</th>\n",
       "      <td>0</td>\n",
       "      <td>1</td>\n",
       "    </tr>\n",
       "    <tr>\n",
       "      <th>1</th>\n",
       "      <td>0</td>\n",
       "      <td>0</td>\n",
       "    </tr>\n",
       "    <tr>\n",
       "      <th>2</th>\n",
       "      <td>0</td>\n",
       "      <td>1</td>\n",
       "    </tr>\n",
       "    <tr>\n",
       "      <th>3</th>\n",
       "      <td>0</td>\n",
       "      <td>1</td>\n",
       "    </tr>\n",
       "    <tr>\n",
       "      <th>4</th>\n",
       "      <td>0</td>\n",
       "      <td>1</td>\n",
       "    </tr>\n",
       "  </tbody>\n",
       "</table>\n",
       "</div>"
      ],
      "text/plain": [
       "   Q  S\n",
       "0  0  1\n",
       "1  0  0\n",
       "2  0  1\n",
       "3  0  1\n",
       "4  0  1"
      ]
     },
     "execution_count": 41,
     "metadata": {},
     "output_type": "execute_result"
    }
   ],
   "source": [
    "embark = pd.get_dummies(titanic_data[\"Embarked\"], drop_first=True)\n",
    "embark.head(5)"
   ]
  },
  {
   "cell_type": "code",
   "execution_count": 42,
   "id": "1966b342",
   "metadata": {},
   "outputs": [
    {
     "data": {
      "text/html": [
       "<div>\n",
       "<style scoped>\n",
       "    .dataframe tbody tr th:only-of-type {\n",
       "        vertical-align: middle;\n",
       "    }\n",
       "\n",
       "    .dataframe tbody tr th {\n",
       "        vertical-align: top;\n",
       "    }\n",
       "\n",
       "    .dataframe thead th {\n",
       "        text-align: right;\n",
       "    }\n",
       "</style>\n",
       "<table border=\"1\" class=\"dataframe\">\n",
       "  <thead>\n",
       "    <tr style=\"text-align: right;\">\n",
       "      <th></th>\n",
       "      <th>2</th>\n",
       "      <th>3</th>\n",
       "    </tr>\n",
       "  </thead>\n",
       "  <tbody>\n",
       "    <tr>\n",
       "      <th>0</th>\n",
       "      <td>0</td>\n",
       "      <td>1</td>\n",
       "    </tr>\n",
       "    <tr>\n",
       "      <th>1</th>\n",
       "      <td>0</td>\n",
       "      <td>0</td>\n",
       "    </tr>\n",
       "    <tr>\n",
       "      <th>2</th>\n",
       "      <td>0</td>\n",
       "      <td>1</td>\n",
       "    </tr>\n",
       "    <tr>\n",
       "      <th>3</th>\n",
       "      <td>0</td>\n",
       "      <td>0</td>\n",
       "    </tr>\n",
       "    <tr>\n",
       "      <th>4</th>\n",
       "      <td>0</td>\n",
       "      <td>1</td>\n",
       "    </tr>\n",
       "  </tbody>\n",
       "</table>\n",
       "</div>"
      ],
      "text/plain": [
       "   2  3\n",
       "0  0  1\n",
       "1  0  0\n",
       "2  0  1\n",
       "3  0  0\n",
       "4  0  1"
      ]
     },
     "execution_count": 42,
     "metadata": {},
     "output_type": "execute_result"
    }
   ],
   "source": [
    "Pcl = pd.get_dummies(titanic_data[\"Pclass\"], drop_first=True)\n",
    "Pcl.head(5)"
   ]
  },
  {
   "cell_type": "code",
   "execution_count": 43,
   "id": "dad53682",
   "metadata": {},
   "outputs": [],
   "source": [
    "titanic_data = pd.concat([titanic_data,sex,embark,Pcl], axis= 1)"
   ]
  },
  {
   "cell_type": "code",
   "execution_count": 44,
   "id": "e539c31b",
   "metadata": {},
   "outputs": [
    {
     "data": {
      "text/html": [
       "<div>\n",
       "<style scoped>\n",
       "    .dataframe tbody tr th:only-of-type {\n",
       "        vertical-align: middle;\n",
       "    }\n",
       "\n",
       "    .dataframe tbody tr th {\n",
       "        vertical-align: top;\n",
       "    }\n",
       "\n",
       "    .dataframe thead th {\n",
       "        text-align: right;\n",
       "    }\n",
       "</style>\n",
       "<table border=\"1\" class=\"dataframe\">\n",
       "  <thead>\n",
       "    <tr style=\"text-align: right;\">\n",
       "      <th></th>\n",
       "      <th>PassengerId</th>\n",
       "      <th>Survived</th>\n",
       "      <th>Pclass</th>\n",
       "      <th>Name</th>\n",
       "      <th>Sex</th>\n",
       "      <th>Age</th>\n",
       "      <th>SibSp</th>\n",
       "      <th>Parch</th>\n",
       "      <th>Ticket</th>\n",
       "      <th>Fare</th>\n",
       "      <th>Embarked</th>\n",
       "      <th>male</th>\n",
       "      <th>Q</th>\n",
       "      <th>S</th>\n",
       "      <th>2</th>\n",
       "      <th>3</th>\n",
       "    </tr>\n",
       "  </thead>\n",
       "  <tbody>\n",
       "    <tr>\n",
       "      <th>0</th>\n",
       "      <td>1</td>\n",
       "      <td>0</td>\n",
       "      <td>3</td>\n",
       "      <td>Braund, Mr. Owen Harris</td>\n",
       "      <td>male</td>\n",
       "      <td>22.0</td>\n",
       "      <td>1</td>\n",
       "      <td>0</td>\n",
       "      <td>A/5 21171</td>\n",
       "      <td>7.2500</td>\n",
       "      <td>S</td>\n",
       "      <td>1</td>\n",
       "      <td>0</td>\n",
       "      <td>1</td>\n",
       "      <td>0</td>\n",
       "      <td>1</td>\n",
       "    </tr>\n",
       "    <tr>\n",
       "      <th>1</th>\n",
       "      <td>2</td>\n",
       "      <td>1</td>\n",
       "      <td>1</td>\n",
       "      <td>Cumings, Mrs. John Bradley (Florence Briggs Th...</td>\n",
       "      <td>female</td>\n",
       "      <td>38.0</td>\n",
       "      <td>1</td>\n",
       "      <td>0</td>\n",
       "      <td>PC 17599</td>\n",
       "      <td>71.2833</td>\n",
       "      <td>C</td>\n",
       "      <td>0</td>\n",
       "      <td>0</td>\n",
       "      <td>0</td>\n",
       "      <td>0</td>\n",
       "      <td>0</td>\n",
       "    </tr>\n",
       "    <tr>\n",
       "      <th>2</th>\n",
       "      <td>3</td>\n",
       "      <td>1</td>\n",
       "      <td>3</td>\n",
       "      <td>Heikkinen, Miss. Laina</td>\n",
       "      <td>female</td>\n",
       "      <td>26.0</td>\n",
       "      <td>0</td>\n",
       "      <td>0</td>\n",
       "      <td>STON/O2. 3101282</td>\n",
       "      <td>7.9250</td>\n",
       "      <td>S</td>\n",
       "      <td>0</td>\n",
       "      <td>0</td>\n",
       "      <td>1</td>\n",
       "      <td>0</td>\n",
       "      <td>1</td>\n",
       "    </tr>\n",
       "    <tr>\n",
       "      <th>3</th>\n",
       "      <td>4</td>\n",
       "      <td>1</td>\n",
       "      <td>1</td>\n",
       "      <td>Futrelle, Mrs. Jacques Heath (Lily May Peel)</td>\n",
       "      <td>female</td>\n",
       "      <td>35.0</td>\n",
       "      <td>1</td>\n",
       "      <td>0</td>\n",
       "      <td>113803</td>\n",
       "      <td>53.1000</td>\n",
       "      <td>S</td>\n",
       "      <td>0</td>\n",
       "      <td>0</td>\n",
       "      <td>1</td>\n",
       "      <td>0</td>\n",
       "      <td>0</td>\n",
       "    </tr>\n",
       "    <tr>\n",
       "      <th>4</th>\n",
       "      <td>5</td>\n",
       "      <td>0</td>\n",
       "      <td>3</td>\n",
       "      <td>Allen, Mr. William Henry</td>\n",
       "      <td>male</td>\n",
       "      <td>35.0</td>\n",
       "      <td>0</td>\n",
       "      <td>0</td>\n",
       "      <td>373450</td>\n",
       "      <td>8.0500</td>\n",
       "      <td>S</td>\n",
       "      <td>1</td>\n",
       "      <td>0</td>\n",
       "      <td>1</td>\n",
       "      <td>0</td>\n",
       "      <td>1</td>\n",
       "    </tr>\n",
       "  </tbody>\n",
       "</table>\n",
       "</div>"
      ],
      "text/plain": [
       "   PassengerId  Survived  Pclass  \\\n",
       "0            1         0       3   \n",
       "1            2         1       1   \n",
       "2            3         1       3   \n",
       "3            4         1       1   \n",
       "4            5         0       3   \n",
       "\n",
       "                                                Name     Sex   Age  SibSp  \\\n",
       "0                            Braund, Mr. Owen Harris    male  22.0      1   \n",
       "1  Cumings, Mrs. John Bradley (Florence Briggs Th...  female  38.0      1   \n",
       "2                             Heikkinen, Miss. Laina  female  26.0      0   \n",
       "3       Futrelle, Mrs. Jacques Heath (Lily May Peel)  female  35.0      1   \n",
       "4                           Allen, Mr. William Henry    male  35.0      0   \n",
       "\n",
       "   Parch            Ticket     Fare Embarked  male  Q  S  2  3  \n",
       "0      0         A/5 21171   7.2500        S     1  0  1  0  1  \n",
       "1      0          PC 17599  71.2833        C     0  0  0  0  0  \n",
       "2      0  STON/O2. 3101282   7.9250        S     0  0  1  0  1  \n",
       "3      0            113803  53.1000        S     0  0  1  0  0  \n",
       "4      0            373450   8.0500        S     1  0  1  0  1  "
      ]
     },
     "execution_count": 44,
     "metadata": {},
     "output_type": "execute_result"
    }
   ],
   "source": [
    "titanic_data.head(5)"
   ]
  },
  {
   "cell_type": "code",
   "execution_count": 49,
   "id": "a61cfab2",
   "metadata": {},
   "outputs": [
    {
     "ename": "KeyError",
     "evalue": "\"['Sex', 'Embarked', 'PassengerId', 'Name', 'Ticket'] not found in axis\"",
     "output_type": "error",
     "traceback": [
      "\u001b[0;31m---------------------------------------------------------------------------\u001b[0m",
      "\u001b[0;31mKeyError\u001b[0m                                  Traceback (most recent call last)",
      "Cell \u001b[0;32mIn [49], line 1\u001b[0m\n\u001b[0;32m----> 1\u001b[0m \u001b[43mtitanic_data\u001b[49m\u001b[38;5;241;43m.\u001b[39;49m\u001b[43mdrop\u001b[49m\u001b[43m(\u001b[49m\u001b[43m[\u001b[49m\u001b[38;5;124;43m'\u001b[39;49m\u001b[38;5;124;43mSex\u001b[39;49m\u001b[38;5;124;43m'\u001b[39;49m\u001b[43m,\u001b[49m\u001b[38;5;124;43m'\u001b[39;49m\u001b[38;5;124;43mEmbarked\u001b[39;49m\u001b[38;5;124;43m'\u001b[39;49m\u001b[43m,\u001b[49m\u001b[43m \u001b[49m\u001b[38;5;124;43m'\u001b[39;49m\u001b[38;5;124;43mPassengerId\u001b[39;49m\u001b[38;5;124;43m'\u001b[39;49m\u001b[43m,\u001b[49m\u001b[43m \u001b[49m\u001b[38;5;124;43m'\u001b[39;49m\u001b[38;5;124;43mName\u001b[39;49m\u001b[38;5;124;43m'\u001b[39;49m\u001b[43m,\u001b[49m\u001b[38;5;124;43m'\u001b[39;49m\u001b[38;5;124;43mTicket\u001b[39;49m\u001b[38;5;124;43m'\u001b[39;49m\u001b[43m]\u001b[49m\u001b[43m,\u001b[49m\u001b[43m \u001b[49m\u001b[43maxis\u001b[49m\u001b[38;5;241;43m=\u001b[39;49m\u001b[38;5;241;43m1\u001b[39;49m\u001b[43m,\u001b[49m\u001b[43m \u001b[49m\u001b[43minplace\u001b[49m\u001b[38;5;241;43m=\u001b[39;49m\u001b[38;5;28;43;01mTrue\u001b[39;49;00m\u001b[43m)\u001b[49m\n",
      "File \u001b[0;32m/opt/homebrew/lib/python3.10/site-packages/pandas/util/_decorators.py:331\u001b[0m, in \u001b[0;36mdeprecate_nonkeyword_arguments.<locals>.decorate.<locals>.wrapper\u001b[0;34m(*args, **kwargs)\u001b[0m\n\u001b[1;32m    325\u001b[0m \u001b[38;5;28;01mif\u001b[39;00m \u001b[38;5;28mlen\u001b[39m(args) \u001b[38;5;241m>\u001b[39m num_allow_args:\n\u001b[1;32m    326\u001b[0m     warnings\u001b[38;5;241m.\u001b[39mwarn(\n\u001b[1;32m    327\u001b[0m         msg\u001b[38;5;241m.\u001b[39mformat(arguments\u001b[38;5;241m=\u001b[39m_format_argument_list(allow_args)),\n\u001b[1;32m    328\u001b[0m         \u001b[38;5;167;01mFutureWarning\u001b[39;00m,\n\u001b[1;32m    329\u001b[0m         stacklevel\u001b[38;5;241m=\u001b[39mfind_stack_level(),\n\u001b[1;32m    330\u001b[0m     )\n\u001b[0;32m--> 331\u001b[0m \u001b[38;5;28;01mreturn\u001b[39;00m \u001b[43mfunc\u001b[49m\u001b[43m(\u001b[49m\u001b[38;5;241;43m*\u001b[39;49m\u001b[43margs\u001b[49m\u001b[43m,\u001b[49m\u001b[43m \u001b[49m\u001b[38;5;241;43m*\u001b[39;49m\u001b[38;5;241;43m*\u001b[39;49m\u001b[43mkwargs\u001b[49m\u001b[43m)\u001b[49m\n",
      "File \u001b[0;32m/opt/homebrew/lib/python3.10/site-packages/pandas/core/frame.py:5399\u001b[0m, in \u001b[0;36mDataFrame.drop\u001b[0;34m(self, labels, axis, index, columns, level, inplace, errors)\u001b[0m\n\u001b[1;32m   5251\u001b[0m \u001b[38;5;129m@deprecate_nonkeyword_arguments\u001b[39m(version\u001b[38;5;241m=\u001b[39m\u001b[38;5;28;01mNone\u001b[39;00m, allowed_args\u001b[38;5;241m=\u001b[39m[\u001b[38;5;124m\"\u001b[39m\u001b[38;5;124mself\u001b[39m\u001b[38;5;124m\"\u001b[39m, \u001b[38;5;124m\"\u001b[39m\u001b[38;5;124mlabels\u001b[39m\u001b[38;5;124m\"\u001b[39m])\n\u001b[1;32m   5252\u001b[0m \u001b[38;5;28;01mdef\u001b[39;00m \u001b[38;5;21mdrop\u001b[39m(  \u001b[38;5;66;03m# type: ignore[override]\u001b[39;00m\n\u001b[1;32m   5253\u001b[0m     \u001b[38;5;28mself\u001b[39m,\n\u001b[0;32m   (...)\u001b[0m\n\u001b[1;32m   5260\u001b[0m     errors: IgnoreRaise \u001b[38;5;241m=\u001b[39m \u001b[38;5;124m\"\u001b[39m\u001b[38;5;124mraise\u001b[39m\u001b[38;5;124m\"\u001b[39m,\n\u001b[1;32m   5261\u001b[0m ) \u001b[38;5;241m-\u001b[39m\u001b[38;5;241m>\u001b[39m DataFrame \u001b[38;5;241m|\u001b[39m \u001b[38;5;28;01mNone\u001b[39;00m:\n\u001b[1;32m   5262\u001b[0m     \u001b[38;5;124;03m\"\"\"\u001b[39;00m\n\u001b[1;32m   5263\u001b[0m \u001b[38;5;124;03m    Drop specified labels from rows or columns.\u001b[39;00m\n\u001b[1;32m   5264\u001b[0m \n\u001b[0;32m   (...)\u001b[0m\n\u001b[1;32m   5397\u001b[0m \u001b[38;5;124;03m            weight  1.0     0.8\u001b[39;00m\n\u001b[1;32m   5398\u001b[0m \u001b[38;5;124;03m    \"\"\"\u001b[39;00m\n\u001b[0;32m-> 5399\u001b[0m     \u001b[38;5;28;01mreturn\u001b[39;00m \u001b[38;5;28;43msuper\u001b[39;49m\u001b[43m(\u001b[49m\u001b[43m)\u001b[49m\u001b[38;5;241;43m.\u001b[39;49m\u001b[43mdrop\u001b[49m\u001b[43m(\u001b[49m\n\u001b[1;32m   5400\u001b[0m \u001b[43m        \u001b[49m\u001b[43mlabels\u001b[49m\u001b[38;5;241;43m=\u001b[39;49m\u001b[43mlabels\u001b[49m\u001b[43m,\u001b[49m\n\u001b[1;32m   5401\u001b[0m \u001b[43m        \u001b[49m\u001b[43maxis\u001b[49m\u001b[38;5;241;43m=\u001b[39;49m\u001b[43maxis\u001b[49m\u001b[43m,\u001b[49m\n\u001b[1;32m   5402\u001b[0m \u001b[43m        \u001b[49m\u001b[43mindex\u001b[49m\u001b[38;5;241;43m=\u001b[39;49m\u001b[43mindex\u001b[49m\u001b[43m,\u001b[49m\n\u001b[1;32m   5403\u001b[0m \u001b[43m        \u001b[49m\u001b[43mcolumns\u001b[49m\u001b[38;5;241;43m=\u001b[39;49m\u001b[43mcolumns\u001b[49m\u001b[43m,\u001b[49m\n\u001b[1;32m   5404\u001b[0m \u001b[43m        \u001b[49m\u001b[43mlevel\u001b[49m\u001b[38;5;241;43m=\u001b[39;49m\u001b[43mlevel\u001b[49m\u001b[43m,\u001b[49m\n\u001b[1;32m   5405\u001b[0m \u001b[43m        \u001b[49m\u001b[43minplace\u001b[49m\u001b[38;5;241;43m=\u001b[39;49m\u001b[43minplace\u001b[49m\u001b[43m,\u001b[49m\n\u001b[1;32m   5406\u001b[0m \u001b[43m        \u001b[49m\u001b[43merrors\u001b[49m\u001b[38;5;241;43m=\u001b[39;49m\u001b[43merrors\u001b[49m\u001b[43m,\u001b[49m\n\u001b[1;32m   5407\u001b[0m \u001b[43m    \u001b[49m\u001b[43m)\u001b[49m\n",
      "File \u001b[0;32m/opt/homebrew/lib/python3.10/site-packages/pandas/util/_decorators.py:331\u001b[0m, in \u001b[0;36mdeprecate_nonkeyword_arguments.<locals>.decorate.<locals>.wrapper\u001b[0;34m(*args, **kwargs)\u001b[0m\n\u001b[1;32m    325\u001b[0m \u001b[38;5;28;01mif\u001b[39;00m \u001b[38;5;28mlen\u001b[39m(args) \u001b[38;5;241m>\u001b[39m num_allow_args:\n\u001b[1;32m    326\u001b[0m     warnings\u001b[38;5;241m.\u001b[39mwarn(\n\u001b[1;32m    327\u001b[0m         msg\u001b[38;5;241m.\u001b[39mformat(arguments\u001b[38;5;241m=\u001b[39m_format_argument_list(allow_args)),\n\u001b[1;32m    328\u001b[0m         \u001b[38;5;167;01mFutureWarning\u001b[39;00m,\n\u001b[1;32m    329\u001b[0m         stacklevel\u001b[38;5;241m=\u001b[39mfind_stack_level(),\n\u001b[1;32m    330\u001b[0m     )\n\u001b[0;32m--> 331\u001b[0m \u001b[38;5;28;01mreturn\u001b[39;00m \u001b[43mfunc\u001b[49m\u001b[43m(\u001b[49m\u001b[38;5;241;43m*\u001b[39;49m\u001b[43margs\u001b[49m\u001b[43m,\u001b[49m\u001b[43m \u001b[49m\u001b[38;5;241;43m*\u001b[39;49m\u001b[38;5;241;43m*\u001b[39;49m\u001b[43mkwargs\u001b[49m\u001b[43m)\u001b[49m\n",
      "File \u001b[0;32m/opt/homebrew/lib/python3.10/site-packages/pandas/core/generic.py:4505\u001b[0m, in \u001b[0;36mNDFrame.drop\u001b[0;34m(self, labels, axis, index, columns, level, inplace, errors)\u001b[0m\n\u001b[1;32m   4503\u001b[0m \u001b[38;5;28;01mfor\u001b[39;00m axis, labels \u001b[38;5;129;01min\u001b[39;00m axes\u001b[38;5;241m.\u001b[39mitems():\n\u001b[1;32m   4504\u001b[0m     \u001b[38;5;28;01mif\u001b[39;00m labels \u001b[38;5;129;01mis\u001b[39;00m \u001b[38;5;129;01mnot\u001b[39;00m \u001b[38;5;28;01mNone\u001b[39;00m:\n\u001b[0;32m-> 4505\u001b[0m         obj \u001b[38;5;241m=\u001b[39m \u001b[43mobj\u001b[49m\u001b[38;5;241;43m.\u001b[39;49m\u001b[43m_drop_axis\u001b[49m\u001b[43m(\u001b[49m\u001b[43mlabels\u001b[49m\u001b[43m,\u001b[49m\u001b[43m \u001b[49m\u001b[43maxis\u001b[49m\u001b[43m,\u001b[49m\u001b[43m \u001b[49m\u001b[43mlevel\u001b[49m\u001b[38;5;241;43m=\u001b[39;49m\u001b[43mlevel\u001b[49m\u001b[43m,\u001b[49m\u001b[43m \u001b[49m\u001b[43merrors\u001b[49m\u001b[38;5;241;43m=\u001b[39;49m\u001b[43merrors\u001b[49m\u001b[43m)\u001b[49m\n\u001b[1;32m   4507\u001b[0m \u001b[38;5;28;01mif\u001b[39;00m inplace:\n\u001b[1;32m   4508\u001b[0m     \u001b[38;5;28mself\u001b[39m\u001b[38;5;241m.\u001b[39m_update_inplace(obj)\n",
      "File \u001b[0;32m/opt/homebrew/lib/python3.10/site-packages/pandas/core/generic.py:4546\u001b[0m, in \u001b[0;36mNDFrame._drop_axis\u001b[0;34m(self, labels, axis, level, errors, only_slice)\u001b[0m\n\u001b[1;32m   4544\u001b[0m         new_axis \u001b[38;5;241m=\u001b[39m axis\u001b[38;5;241m.\u001b[39mdrop(labels, level\u001b[38;5;241m=\u001b[39mlevel, errors\u001b[38;5;241m=\u001b[39merrors)\n\u001b[1;32m   4545\u001b[0m     \u001b[38;5;28;01melse\u001b[39;00m:\n\u001b[0;32m-> 4546\u001b[0m         new_axis \u001b[38;5;241m=\u001b[39m \u001b[43maxis\u001b[49m\u001b[38;5;241;43m.\u001b[39;49m\u001b[43mdrop\u001b[49m\u001b[43m(\u001b[49m\u001b[43mlabels\u001b[49m\u001b[43m,\u001b[49m\u001b[43m \u001b[49m\u001b[43merrors\u001b[49m\u001b[38;5;241;43m=\u001b[39;49m\u001b[43merrors\u001b[49m\u001b[43m)\u001b[49m\n\u001b[1;32m   4547\u001b[0m     indexer \u001b[38;5;241m=\u001b[39m axis\u001b[38;5;241m.\u001b[39mget_indexer(new_axis)\n\u001b[1;32m   4549\u001b[0m \u001b[38;5;66;03m# Case for non-unique axis\u001b[39;00m\n\u001b[1;32m   4550\u001b[0m \u001b[38;5;28;01melse\u001b[39;00m:\n",
      "File \u001b[0;32m/opt/homebrew/lib/python3.10/site-packages/pandas/core/indexes/base.py:6934\u001b[0m, in \u001b[0;36mIndex.drop\u001b[0;34m(self, labels, errors)\u001b[0m\n\u001b[1;32m   6932\u001b[0m \u001b[38;5;28;01mif\u001b[39;00m mask\u001b[38;5;241m.\u001b[39many():\n\u001b[1;32m   6933\u001b[0m     \u001b[38;5;28;01mif\u001b[39;00m errors \u001b[38;5;241m!=\u001b[39m \u001b[38;5;124m\"\u001b[39m\u001b[38;5;124mignore\u001b[39m\u001b[38;5;124m\"\u001b[39m:\n\u001b[0;32m-> 6934\u001b[0m         \u001b[38;5;28;01mraise\u001b[39;00m \u001b[38;5;167;01mKeyError\u001b[39;00m(\u001b[38;5;124mf\u001b[39m\u001b[38;5;124m\"\u001b[39m\u001b[38;5;132;01m{\u001b[39;00m\u001b[38;5;28mlist\u001b[39m(labels[mask])\u001b[38;5;132;01m}\u001b[39;00m\u001b[38;5;124m not found in axis\u001b[39m\u001b[38;5;124m\"\u001b[39m)\n\u001b[1;32m   6935\u001b[0m     indexer \u001b[38;5;241m=\u001b[39m indexer[\u001b[38;5;241m~\u001b[39mmask]\n\u001b[1;32m   6936\u001b[0m \u001b[38;5;28;01mreturn\u001b[39;00m \u001b[38;5;28mself\u001b[39m\u001b[38;5;241m.\u001b[39mdelete(indexer)\n",
      "\u001b[0;31mKeyError\u001b[0m: \"['Sex', 'Embarked', 'PassengerId', 'Name', 'Ticket'] not found in axis\""
     ]
    }
   ],
   "source": [
    "titanic_data.drop(['Sex','Embarked', 'PassengerId', 'Name','Ticket'], axis=1, inplace=True)"
   ]
  },
  {
   "cell_type": "code",
   "execution_count": 50,
   "id": "de8a19e7",
   "metadata": {},
   "outputs": [
    {
     "data": {
      "text/html": [
       "<div>\n",
       "<style scoped>\n",
       "    .dataframe tbody tr th:only-of-type {\n",
       "        vertical-align: middle;\n",
       "    }\n",
       "\n",
       "    .dataframe tbody tr th {\n",
       "        vertical-align: top;\n",
       "    }\n",
       "\n",
       "    .dataframe thead th {\n",
       "        text-align: right;\n",
       "    }\n",
       "</style>\n",
       "<table border=\"1\" class=\"dataframe\">\n",
       "  <thead>\n",
       "    <tr style=\"text-align: right;\">\n",
       "      <th></th>\n",
       "      <th>Survived</th>\n",
       "      <th>Pclass</th>\n",
       "      <th>Age</th>\n",
       "      <th>SibSp</th>\n",
       "      <th>Parch</th>\n",
       "      <th>Fare</th>\n",
       "      <th>male</th>\n",
       "      <th>Q</th>\n",
       "      <th>S</th>\n",
       "      <th>2</th>\n",
       "      <th>3</th>\n",
       "    </tr>\n",
       "  </thead>\n",
       "  <tbody>\n",
       "    <tr>\n",
       "      <th>0</th>\n",
       "      <td>0</td>\n",
       "      <td>3</td>\n",
       "      <td>22.0</td>\n",
       "      <td>1</td>\n",
       "      <td>0</td>\n",
       "      <td>7.2500</td>\n",
       "      <td>1</td>\n",
       "      <td>0</td>\n",
       "      <td>1</td>\n",
       "      <td>0</td>\n",
       "      <td>1</td>\n",
       "    </tr>\n",
       "    <tr>\n",
       "      <th>1</th>\n",
       "      <td>1</td>\n",
       "      <td>1</td>\n",
       "      <td>38.0</td>\n",
       "      <td>1</td>\n",
       "      <td>0</td>\n",
       "      <td>71.2833</td>\n",
       "      <td>0</td>\n",
       "      <td>0</td>\n",
       "      <td>0</td>\n",
       "      <td>0</td>\n",
       "      <td>0</td>\n",
       "    </tr>\n",
       "    <tr>\n",
       "      <th>2</th>\n",
       "      <td>1</td>\n",
       "      <td>3</td>\n",
       "      <td>26.0</td>\n",
       "      <td>0</td>\n",
       "      <td>0</td>\n",
       "      <td>7.9250</td>\n",
       "      <td>0</td>\n",
       "      <td>0</td>\n",
       "      <td>1</td>\n",
       "      <td>0</td>\n",
       "      <td>1</td>\n",
       "    </tr>\n",
       "    <tr>\n",
       "      <th>3</th>\n",
       "      <td>1</td>\n",
       "      <td>1</td>\n",
       "      <td>35.0</td>\n",
       "      <td>1</td>\n",
       "      <td>0</td>\n",
       "      <td>53.1000</td>\n",
       "      <td>0</td>\n",
       "      <td>0</td>\n",
       "      <td>1</td>\n",
       "      <td>0</td>\n",
       "      <td>0</td>\n",
       "    </tr>\n",
       "    <tr>\n",
       "      <th>4</th>\n",
       "      <td>0</td>\n",
       "      <td>3</td>\n",
       "      <td>35.0</td>\n",
       "      <td>0</td>\n",
       "      <td>0</td>\n",
       "      <td>8.0500</td>\n",
       "      <td>1</td>\n",
       "      <td>0</td>\n",
       "      <td>1</td>\n",
       "      <td>0</td>\n",
       "      <td>1</td>\n",
       "    </tr>\n",
       "  </tbody>\n",
       "</table>\n",
       "</div>"
      ],
      "text/plain": [
       "   Survived  Pclass   Age  SibSp  Parch     Fare  male  Q  S  2  3\n",
       "0         0       3  22.0      1      0   7.2500     1  0  1  0  1\n",
       "1         1       1  38.0      1      0  71.2833     0  0  0  0  0\n",
       "2         1       3  26.0      0      0   7.9250     0  0  1  0  1\n",
       "3         1       1  35.0      1      0  53.1000     0  0  1  0  0\n",
       "4         0       3  35.0      0      0   8.0500     1  0  1  0  1"
      ]
     },
     "execution_count": 50,
     "metadata": {},
     "output_type": "execute_result"
    }
   ],
   "source": [
    "titanic_data.head(5)"
   ]
  },
  {
   "cell_type": "code",
   "execution_count": 51,
   "id": "9a59b3f3",
   "metadata": {},
   "outputs": [],
   "source": [
    "titanic_data.drop('Pclass', axis=1, inplace= True)"
   ]
  },
  {
   "cell_type": "markdown",
   "id": "e7bc3149",
   "metadata": {},
   "source": [
    "### Train Data"
   ]
  },
  {
   "cell_type": "code",
   "execution_count": 52,
   "id": "00ef9498",
   "metadata": {},
   "outputs": [],
   "source": [
    "X = titanic_data.drop(\"Survived\", axis=1)\n",
    "y = titanic_data[\"Survived\"]"
   ]
  },
  {
   "cell_type": "code",
   "execution_count": 55,
   "id": "9d93b87c",
   "metadata": {},
   "outputs": [],
   "source": [
    "import sklearn\n",
    "from sklearn.model_selection import train_test_split"
   ]
  },
  {
   "cell_type": "code",
   "execution_count": 56,
   "id": "65f2beea",
   "metadata": {},
   "outputs": [],
   "source": [
    "X_train, X_test, y_train, y_test = train_test_split(X, y, test_size=0.3, random_state=1)"
   ]
  },
  {
   "cell_type": "code",
   "execution_count": 57,
   "id": "a3aa841a",
   "metadata": {},
   "outputs": [],
   "source": [
    "from sklearn.linear_model import LogisticRegression"
   ]
  },
  {
   "cell_type": "code",
   "execution_count": 63,
   "id": "cf25606e",
   "metadata": {},
   "outputs": [],
   "source": [
    "logmodel = LogisticRegression(solver='lbfgs',max_iter=10000)"
   ]
  },
  {
   "cell_type": "code",
   "execution_count": 70,
   "id": "55a104c7",
   "metadata": {},
   "outputs": [
    {
     "data": {
      "text/html": [
       "<style>#sk-container-id-5 {color: black;background-color: white;}#sk-container-id-5 pre{padding: 0;}#sk-container-id-5 div.sk-toggleable {background-color: white;}#sk-container-id-5 label.sk-toggleable__label {cursor: pointer;display: block;width: 100%;margin-bottom: 0;padding: 0.3em;box-sizing: border-box;text-align: center;}#sk-container-id-5 label.sk-toggleable__label-arrow:before {content: \"▸\";float: left;margin-right: 0.25em;color: #696969;}#sk-container-id-5 label.sk-toggleable__label-arrow:hover:before {color: black;}#sk-container-id-5 div.sk-estimator:hover label.sk-toggleable__label-arrow:before {color: black;}#sk-container-id-5 div.sk-toggleable__content {max-height: 0;max-width: 0;overflow: hidden;text-align: left;background-color: #f0f8ff;}#sk-container-id-5 div.sk-toggleable__content pre {margin: 0.2em;color: black;border-radius: 0.25em;background-color: #f0f8ff;}#sk-container-id-5 input.sk-toggleable__control:checked~div.sk-toggleable__content {max-height: 200px;max-width: 100%;overflow: auto;}#sk-container-id-5 input.sk-toggleable__control:checked~label.sk-toggleable__label-arrow:before {content: \"▾\";}#sk-container-id-5 div.sk-estimator input.sk-toggleable__control:checked~label.sk-toggleable__label {background-color: #d4ebff;}#sk-container-id-5 div.sk-label input.sk-toggleable__control:checked~label.sk-toggleable__label {background-color: #d4ebff;}#sk-container-id-5 input.sk-hidden--visually {border: 0;clip: rect(1px 1px 1px 1px);clip: rect(1px, 1px, 1px, 1px);height: 1px;margin: -1px;overflow: hidden;padding: 0;position: absolute;width: 1px;}#sk-container-id-5 div.sk-estimator {font-family: monospace;background-color: #f0f8ff;border: 1px dotted black;border-radius: 0.25em;box-sizing: border-box;margin-bottom: 0.5em;}#sk-container-id-5 div.sk-estimator:hover {background-color: #d4ebff;}#sk-container-id-5 div.sk-parallel-item::after {content: \"\";width: 100%;border-bottom: 1px solid gray;flex-grow: 1;}#sk-container-id-5 div.sk-label:hover label.sk-toggleable__label {background-color: #d4ebff;}#sk-container-id-5 div.sk-serial::before {content: \"\";position: absolute;border-left: 1px solid gray;box-sizing: border-box;top: 0;bottom: 0;left: 50%;z-index: 0;}#sk-container-id-5 div.sk-serial {display: flex;flex-direction: column;align-items: center;background-color: white;padding-right: 0.2em;padding-left: 0.2em;position: relative;}#sk-container-id-5 div.sk-item {position: relative;z-index: 1;}#sk-container-id-5 div.sk-parallel {display: flex;align-items: stretch;justify-content: center;background-color: white;position: relative;}#sk-container-id-5 div.sk-item::before, #sk-container-id-5 div.sk-parallel-item::before {content: \"\";position: absolute;border-left: 1px solid gray;box-sizing: border-box;top: 0;bottom: 0;left: 50%;z-index: -1;}#sk-container-id-5 div.sk-parallel-item {display: flex;flex-direction: column;z-index: 1;position: relative;background-color: white;}#sk-container-id-5 div.sk-parallel-item:first-child::after {align-self: flex-end;width: 50%;}#sk-container-id-5 div.sk-parallel-item:last-child::after {align-self: flex-start;width: 50%;}#sk-container-id-5 div.sk-parallel-item:only-child::after {width: 0;}#sk-container-id-5 div.sk-dashed-wrapped {border: 1px dashed gray;margin: 0 0.4em 0.5em 0.4em;box-sizing: border-box;padding-bottom: 0.4em;background-color: white;}#sk-container-id-5 div.sk-label label {font-family: monospace;font-weight: bold;display: inline-block;line-height: 1.2em;}#sk-container-id-5 div.sk-label-container {text-align: center;}#sk-container-id-5 div.sk-container {/* jupyter's `normalize.less` sets `[hidden] { display: none; }` but bootstrap.min.css set `[hidden] { display: none !important; }` so we also need the `!important` here to be able to override the default hidden behavior on the sphinx rendered scikit-learn.org. See: https://github.com/scikit-learn/scikit-learn/issues/21755 */display: inline-block !important;position: relative;}#sk-container-id-5 div.sk-text-repr-fallback {display: none;}</style><div id=\"sk-container-id-5\" class=\"sk-top-container\"><div class=\"sk-text-repr-fallback\"><pre>LogisticRegression(max_iter=10000)</pre><b>In a Jupyter environment, please rerun this cell to show the HTML representation or trust the notebook. <br />On GitHub, the HTML representation is unable to render, please try loading this page with nbviewer.org.</b></div><div class=\"sk-container\" hidden><div class=\"sk-item\"><div class=\"sk-estimator sk-toggleable\"><input class=\"sk-toggleable__control sk-hidden--visually\" id=\"sk-estimator-id-5\" type=\"checkbox\" checked><label for=\"sk-estimator-id-5\" class=\"sk-toggleable__label sk-toggleable__label-arrow\">LogisticRegression</label><div class=\"sk-toggleable__content\"><pre>LogisticRegression(max_iter=10000)</pre></div></div></div></div></div>"
      ],
      "text/plain": [
       "LogisticRegression(max_iter=10000)"
      ]
     },
     "execution_count": 70,
     "metadata": {},
     "output_type": "execute_result"
    }
   ],
   "source": [
    "logmodel.fit(X_train.values, y_train)"
   ]
  },
  {
   "cell_type": "code",
   "execution_count": 75,
   "id": "604c4fd6",
   "metadata": {},
   "outputs": [],
   "source": [
    "predictions = logmodel.predict(X_test.values)"
   ]
  },
  {
   "cell_type": "code",
   "execution_count": 76,
   "id": "69472211",
   "metadata": {},
   "outputs": [],
   "source": [
    "from sklearn.metrics import classification_report"
   ]
  },
  {
   "cell_type": "code",
   "execution_count": 77,
   "id": "ffbb2a8e",
   "metadata": {},
   "outputs": [
    {
     "data": {
      "text/plain": [
       "'              precision    recall  f1-score   support\\n\\n           0       0.80      0.81      0.81       126\\n           1       0.72      0.72      0.72        88\\n\\n    accuracy                           0.77       214\\n   macro avg       0.76      0.76      0.76       214\\nweighted avg       0.77      0.77      0.77       214\\n'"
      ]
     },
     "execution_count": 77,
     "metadata": {},
     "output_type": "execute_result"
    }
   ],
   "source": [
    "classification_report(y_test, predictions)"
   ]
  },
  {
   "cell_type": "code",
   "execution_count": 78,
   "id": "cd316dab",
   "metadata": {},
   "outputs": [],
   "source": [
    "from sklearn.metrics import confusion_matrix"
   ]
  },
  {
   "cell_type": "code",
   "execution_count": 79,
   "id": "7e6f7fd6",
   "metadata": {},
   "outputs": [
    {
     "data": {
      "text/plain": [
       "array([[102,  24],\n",
       "       [ 25,  63]])"
      ]
     },
     "execution_count": 79,
     "metadata": {},
     "output_type": "execute_result"
    }
   ],
   "source": [
    "confusion_matrix(y_test, predictions)"
   ]
  },
  {
   "cell_type": "code",
   "execution_count": 80,
   "id": "d21c8a05",
   "metadata": {},
   "outputs": [],
   "source": [
    "from sklearn.metrics import accuracy_score"
   ]
  },
  {
   "cell_type": "code",
   "execution_count": 81,
   "id": "a223c7f6",
   "metadata": {},
   "outputs": [
    {
     "data": {
      "text/plain": [
       "0.7710280373831776"
      ]
     },
     "execution_count": 81,
     "metadata": {},
     "output_type": "execute_result"
    }
   ],
   "source": [
    "accuracy_score(y_test, predictions)"
   ]
  },
  {
   "cell_type": "markdown",
   "id": "bd58e4d3",
   "metadata": {},
   "source": [
    "# Decision Tree"
   ]
  },
  {
   "cell_type": "code",
   "execution_count": 42,
   "id": "aaa1f1d3",
   "metadata": {},
   "outputs": [
    {
     "data": {
      "text/html": [
       "<div>\n",
       "<style scoped>\n",
       "    .dataframe tbody tr th:only-of-type {\n",
       "        vertical-align: middle;\n",
       "    }\n",
       "\n",
       "    .dataframe tbody tr th {\n",
       "        vertical-align: top;\n",
       "    }\n",
       "\n",
       "    .dataframe thead th {\n",
       "        text-align: right;\n",
       "    }\n",
       "</style>\n",
       "<table border=\"1\" class=\"dataframe\">\n",
       "  <thead>\n",
       "    <tr style=\"text-align: right;\">\n",
       "      <th></th>\n",
       "      <th>Color</th>\n",
       "      <th>Diameter</th>\n",
       "      <th>Label</th>\n",
       "    </tr>\n",
       "  </thead>\n",
       "  <tbody>\n",
       "    <tr>\n",
       "      <th>0</th>\n",
       "      <td>Green</td>\n",
       "      <td>5</td>\n",
       "      <td>Mango</td>\n",
       "    </tr>\n",
       "    <tr>\n",
       "      <th>1</th>\n",
       "      <td>Yellow</td>\n",
       "      <td>1</td>\n",
       "      <td>Grape</td>\n",
       "    </tr>\n",
       "    <tr>\n",
       "      <th>2</th>\n",
       "      <td>Red</td>\n",
       "      <td>2</td>\n",
       "      <td>Mango</td>\n",
       "    </tr>\n",
       "    <tr>\n",
       "      <th>3</th>\n",
       "      <td>Red</td>\n",
       "      <td>5</td>\n",
       "      <td>Mango</td>\n",
       "    </tr>\n",
       "    <tr>\n",
       "      <th>4</th>\n",
       "      <td>Yellow</td>\n",
       "      <td>3</td>\n",
       "      <td>Lemon</td>\n",
       "    </tr>\n",
       "    <tr>\n",
       "      <th>5</th>\n",
       "      <td>Yellow</td>\n",
       "      <td>5</td>\n",
       "      <td>Lemon</td>\n",
       "    </tr>\n",
       "    <tr>\n",
       "      <th>6</th>\n",
       "      <td>Green</td>\n",
       "      <td>3</td>\n",
       "      <td>Grape</td>\n",
       "    </tr>\n",
       "    <tr>\n",
       "      <th>7</th>\n",
       "      <td>Red</td>\n",
       "      <td>2</td>\n",
       "      <td>Grape</td>\n",
       "    </tr>\n",
       "    <tr>\n",
       "      <th>8</th>\n",
       "      <td>Yellow</td>\n",
       "      <td>3</td>\n",
       "      <td>Mango</td>\n",
       "    </tr>\n",
       "    <tr>\n",
       "      <th>9</th>\n",
       "      <td>Yellow</td>\n",
       "      <td>4</td>\n",
       "      <td>Lemon</td>\n",
       "    </tr>\n",
       "  </tbody>\n",
       "</table>\n",
       "</div>"
      ],
      "text/plain": [
       "    Color  Diameter  Label\n",
       "0   Green         5  Mango\n",
       "1  Yellow         1  Grape\n",
       "2     Red         2  Mango\n",
       "3     Red         5  Mango\n",
       "4  Yellow         3  Lemon\n",
       "5  Yellow         5  Lemon\n",
       "6   Green         3  Grape\n",
       "7     Red         2  Grape\n",
       "8  Yellow         3  Mango\n",
       "9  Yellow         4  Lemon"
      ]
     },
     "execution_count": 42,
     "metadata": {},
     "output_type": "execute_result"
    }
   ],
   "source": [
    "# sanple dataset\n",
    "# the first two colums are features\n",
    "# the last column is a label\n",
    "\n",
    "training_data = pd.read_csv('fruit.csv')\n",
    "training_data.head(10)"
   ]
  },
  {
   "cell_type": "code",
   "execution_count": 37,
   "id": "e4ef8c61",
   "metadata": {},
   "outputs": [
    {
     "data": {
      "text/plain": [
       "[['Green', 5, 'Mango'],\n",
       " ['Yellow', 1, 'Grape'],\n",
       " ['Red', 2, 'Mango'],\n",
       " ['Red', 5, 'Mango'],\n",
       " ['Yellow', 3, 'Lemon'],\n",
       " ['Yellow', 5, 'Lemon'],\n",
       " ['Green', 3, 'Grape'],\n",
       " ['Red', 2, 'Grape'],\n",
       " ['Yellow', 3, 'Mango'],\n",
       " ['Yellow', 4, 'Lemon'],\n",
       " ['Yellow', 1, 'Lemon'],\n",
       " ['Green', 4, 'Mango'],\n",
       " ['Yellow', 3, 'Mango'],\n",
       " ['Green', 1, 'Grape'],\n",
       " ['Red', 3, 'Grape'],\n",
       " ['Yellow', 2, 'Lemon'],\n",
       " ['Red', 2, 'Grape'],\n",
       " ['Green', 4, 'Grape'],\n",
       " ['Green', 5, 'Grape'],\n",
       " ['Yellow', 4, 'Mango'],\n",
       " ['Yellow', 3, 'Lemon'],\n",
       " ['Yellow', 4, 'Lemon'],\n",
       " ['Red', 1, 'Grape'],\n",
       " ['Yellow', 3, 'Mango'],\n",
       " ['Red', 1, 'Grape'],\n",
       " ['Yellow', 4, 'Mango'],\n",
       " ['Green', 3, 'Mango'],\n",
       " ['Green', 5, 'Grape'],\n",
       " ['Green', 4, 'Grape'],\n",
       " ['Yellow', 1, 'Lemon'],\n",
       " ['Green', 2, 'Lemon'],\n",
       " ['Green', 1, 'Mango'],\n",
       " ['Yellow', 1, 'Lemon'],\n",
       " ['Green', 1, 'Grape'],\n",
       " ['Yellow', 2, 'Mango'],\n",
       " ['Yellow', 1, 'Grape'],\n",
       " ['Red', 4, 'Mango'],\n",
       " ['Yellow', 4, 'Grape'],\n",
       " ['Red', 2, 'Grape'],\n",
       " ['Red', 4, 'Mango'],\n",
       " ['Green', 2, 'Lemon'],\n",
       " ['Green', 3, 'Mango'],\n",
       " ['Yellow', 4, 'Mango'],\n",
       " ['Yellow', 5, 'Grape'],\n",
       " ['Red', 5, 'Lemon'],\n",
       " ['Red', 4, 'Mango'],\n",
       " ['Yellow', 3, 'Lemon'],\n",
       " ['Red', 2, 'Grape'],\n",
       " ['Red', 4, 'Mango'],\n",
       " ['Yellow', 3, 'Mango'],\n",
       " ['Yellow', 2, 'Mango'],\n",
       " ['Yellow', 2, 'Grape'],\n",
       " ['Yellow', 5, 'Mango'],\n",
       " ['Yellow', 3, 'Mango'],\n",
       " ['Red', 5, 'Grape'],\n",
       " ['Green', 1, 'Lemon'],\n",
       " ['Red', 5, 'Grape'],\n",
       " ['Green', 4, 'Mango'],\n",
       " ['Green', 5, 'Lemon'],\n",
       " ['Yellow', 2, 'Grape'],\n",
       " ['Red', 2, 'Grape'],\n",
       " ['Green', 2, 'Grape'],\n",
       " ['Yellow', 1, 'Mango'],\n",
       " ['Yellow', 2, 'Grape'],\n",
       " ['Yellow', 2, 'Mango'],\n",
       " ['Red', 5, 'Grape'],\n",
       " ['Yellow', 2, 'Lemon'],\n",
       " ['Yellow', 1, 'Grape'],\n",
       " ['Red', 5, 'Grape'],\n",
       " ['Green', 3, 'Mango'],\n",
       " ['Red', 1, 'Lemon'],\n",
       " ['Red', 1, 'Lemon'],\n",
       " ['Red', 4, 'Grape'],\n",
       " ['Green', 2, 'Lemon'],\n",
       " ['Green', 5, 'Mango'],\n",
       " ['Yellow', 2, 'Lemon'],\n",
       " ['Red', 1, 'Grape'],\n",
       " ['Red', 3, 'Lemon'],\n",
       " ['Yellow', 4, 'Lemon'],\n",
       " ['Green', 2, 'Mango'],\n",
       " ['Green', 5, 'Grape'],\n",
       " ['Green', 5, 'Lemon'],\n",
       " ['Yellow', 4, 'Grape'],\n",
       " ['Green', 2, 'Lemon'],\n",
       " ['Red', 4, 'Grape'],\n",
       " ['Red', 5, 'Mango'],\n",
       " ['Yellow', 1, 'Grape'],\n",
       " ['Red', 3, 'Mango'],\n",
       " ['Yellow', 3, 'Grape'],\n",
       " ['Red', 2, 'Lemon'],\n",
       " ['Red', 5, 'Lemon'],\n",
       " ['Green', 3, 'Mango'],\n",
       " ['Yellow', 3, 'Grape'],\n",
       " ['Yellow', 5, 'Mango'],\n",
       " ['Yellow', 1, 'Mango'],\n",
       " ['Red', 5, 'Lemon'],\n",
       " ['Yellow', 3, 'Lemon'],\n",
       " ['Yellow', 3, 'Mango'],\n",
       " ['Green', 5, 'Mango'],\n",
       " ['Red', 2, 'Grape'],\n",
       " ['Red', 3, 'Mango'],\n",
       " ['Yellow', 5, 'Mango'],\n",
       " ['Red', 4, 'Mango'],\n",
       " ['Red', 3, 'Mango'],\n",
       " ['Green', 5, 'Grape'],\n",
       " ['Red', 5, 'Lemon'],\n",
       " ['Yellow', 5, 'Grape'],\n",
       " ['Green', 1, 'Mango'],\n",
       " ['Yellow', 4, 'Mango'],\n",
       " ['Yellow', 5, 'Mango'],\n",
       " ['Green', 4, 'Grape'],\n",
       " ['Yellow', 3, 'Grape'],\n",
       " ['Yellow', 3, 'Grape'],\n",
       " ['Red', 1, 'Lemon'],\n",
       " ['Red', 2, 'Grape'],\n",
       " ['Green', 3, 'Lemon'],\n",
       " ['Green', 4, 'Grape'],\n",
       " ['Yellow', 2, 'Lemon'],\n",
       " ['Green', 5, 'Lemon'],\n",
       " ['Yellow', 2, 'Grape'],\n",
       " ['Yellow', 4, 'Mango'],\n",
       " ['Yellow', 3, 'Mango'],\n",
       " ['Green', 5, 'Grape'],\n",
       " ['Red', 3, 'Lemon'],\n",
       " ['Red', 4, 'Mango'],\n",
       " ['Yellow', 1, 'Lemon'],\n",
       " ['Green', 4, 'Mango'],\n",
       " ['Green', 1, 'Grape'],\n",
       " ['Red', 5, 'Grape'],\n",
       " ['Yellow', 5, 'Mango'],\n",
       " ['Red', 4, 'Lemon'],\n",
       " ['Yellow', 4, 'Grape'],\n",
       " ['Red', 4, 'Mango'],\n",
       " ['Yellow', 3, 'Mango'],\n",
       " ['Yellow', 5, 'Mango'],\n",
       " ['Yellow', 3, 'Grape'],\n",
       " ['Red', 2, 'Mango'],\n",
       " ['Red', 4, 'Mango'],\n",
       " ['Red', 1, 'Mango'],\n",
       " ['Yellow', 3, 'Grape'],\n",
       " ['Red', 3, 'Lemon'],\n",
       " ['Red', 4, 'Mango'],\n",
       " ['Red', 1, 'Grape'],\n",
       " ['Yellow', 2, 'Grape'],\n",
       " ['Green', 3, 'Grape'],\n",
       " ['Yellow', 3, 'Lemon'],\n",
       " ['Yellow', 4, 'Mango'],\n",
       " ['Red', 3, 'Mango'],\n",
       " ['Green', 1, 'Grape'],\n",
       " ['Green', 2, 'Lemon'],\n",
       " ['Green', 4, 'Grape'],\n",
       " ['Green', 5, 'Lemon'],\n",
       " ['Yellow', 5, 'Lemon'],\n",
       " ['Yellow', 1, 'Mango'],\n",
       " ['Green', 4, 'Grape'],\n",
       " ['Red', 2, 'Grape'],\n",
       " ['Yellow', 1, 'Mango'],\n",
       " ['Green', 3, 'Lemon'],\n",
       " ['Green', 2, 'Grape'],\n",
       " ['Yellow', 5, 'Mango'],\n",
       " ['Red', 2, 'Mango'],\n",
       " ['Yellow', 4, 'Mango'],\n",
       " ['Yellow', 5, 'Grape'],\n",
       " ['Yellow', 2, 'Lemon'],\n",
       " ['Yellow', 1, 'Mango'],\n",
       " ['Yellow', 1, 'Grape'],\n",
       " ['Red', 1, 'Lemon'],\n",
       " ['Red', 5, 'Grape'],\n",
       " ['Red', 1, 'Mango'],\n",
       " ['Yellow', 3, 'Mango'],\n",
       " ['Green', 4, 'Mango'],\n",
       " ['Green', 2, 'Lemon'],\n",
       " ['Yellow', 1, 'Grape'],\n",
       " ['Yellow', 1, 'Lemon'],\n",
       " ['Yellow', 1, 'Grape'],\n",
       " ['Yellow', 3, 'Lemon'],\n",
       " ['Green', 1, 'Mango'],\n",
       " ['Green', 2, 'Grape'],\n",
       " ['Red', 4, 'Lemon'],\n",
       " ['Yellow', 5, 'Grape'],\n",
       " ['Yellow', 5, 'Lemon'],\n",
       " ['Red', 5, 'Mango'],\n",
       " ['Yellow', 1, 'Mango'],\n",
       " ['Red', 2, 'Lemon'],\n",
       " ['Green', 4, 'Mango'],\n",
       " ['Yellow', 2, 'Grape'],\n",
       " ['Green', 3, 'Lemon'],\n",
       " ['Red', 4, 'Grape'],\n",
       " ['Red', 1, 'Mango'],\n",
       " ['Green', 4, 'Grape'],\n",
       " ['Green', 5, 'Grape'],\n",
       " ['Red', 3, 'Grape'],\n",
       " ['Green', 5, 'Grape'],\n",
       " ['Red', 2, 'Mango'],\n",
       " ['Green', 5, 'Grape'],\n",
       " ['Yellow', 3, 'Mango'],\n",
       " ['Green', 2, 'Lemon'],\n",
       " ['Green', 5, 'Mango'],\n",
       " ['Green', 2, 'Lemon'],\n",
       " ['Red', 5, 'Lemon'],\n",
       " ['Yellow', 1, 'Mango'],\n",
       " ['Green', 1, 'Mango'],\n",
       " ['Red', 1, 'Mango'],\n",
       " ['Yellow', 3, 'Lemon'],\n",
       " ['Yellow', 5, 'Grape'],\n",
       " ['Green', 5, 'Lemon'],\n",
       " ['Yellow', 2, 'Grape'],\n",
       " ['Yellow', 5, 'Lemon'],\n",
       " ['Red', 2, 'Grape'],\n",
       " ['Green', 1, 'Grape'],\n",
       " ['Red', 2, 'Lemon'],\n",
       " ['Yellow', 1, 'Mango'],\n",
       " ['Green', 4, 'Mango'],\n",
       " ['Green', 5, 'Grape'],\n",
       " ['Red', 2, 'Grape'],\n",
       " ['Red', 4, 'Lemon'],\n",
       " ['Yellow', 3, 'Mango'],\n",
       " ['Yellow', 3, 'Mango'],\n",
       " ['Yellow', 2, 'Grape'],\n",
       " ['Red', 5, 'Lemon'],\n",
       " ['Red', 4, 'Grape'],\n",
       " ['Green', 5, 'Mango'],\n",
       " ['Green', 1, 'Mango'],\n",
       " ['Green', 3, 'Mango'],\n",
       " ['Red', 3, 'Grape'],\n",
       " ['Green', 5, 'Mango'],\n",
       " ['Green', 1, 'Grape'],\n",
       " ['Green', 4, 'Lemon'],\n",
       " ['Yellow', 2, 'Mango'],\n",
       " ['Yellow', 4, 'Grape'],\n",
       " ['Yellow', 1, 'Mango'],\n",
       " ['Green', 2, 'Grape'],\n",
       " ['Red', 4, 'Grape'],\n",
       " ['Green', 3, 'Lemon'],\n",
       " ['Yellow', 4, 'Grape'],\n",
       " ['Yellow', 2, 'Mango'],\n",
       " ['Yellow', 5, 'Grape']]"
      ]
     },
     "execution_count": 37,
     "metadata": {},
     "output_type": "execute_result"
    }
   ],
   "source": [
    "training_data_set = []\n",
    "for index, row in training_data.iterrows():\n",
    "    training_data_set.append([row[0], row[1], row[2]])\n",
    "\n",
    "training_data_set"
   ]
  },
  {
   "cell_type": "code",
   "execution_count": 27,
   "id": "5095c2bb",
   "metadata": {},
   "outputs": [],
   "source": [
    "header = [\"color\",\"diameter\", \"label\"]"
   ]
  },
  {
   "cell_type": "markdown",
   "id": "6d5d070d",
   "metadata": {},
   "source": [
    "Find the unique values for a column in a dataset"
   ]
  },
  {
   "cell_type": "code",
   "execution_count": 9,
   "id": "493c30c2",
   "metadata": {},
   "outputs": [],
   "source": [
    "def unique_vals(rows, col):\n",
    "    return set([row[col] for row in rows])"
   ]
  },
  {
   "cell_type": "code",
   "execution_count": 38,
   "id": "d1e9dea8",
   "metadata": {},
   "outputs": [
    {
     "data": {
      "text/plain": [
       "{'Green', 'Red', 'Yellow'}"
      ]
     },
     "execution_count": 38,
     "metadata": {},
     "output_type": "execute_result"
    }
   ],
   "source": [
    "unique_vals(training_data_set,0)"
   ]
  },
  {
   "cell_type": "markdown",
   "id": "5165e5ab",
   "metadata": {},
   "source": [
    "Counts the number of each type of example in the dataset"
   ]
  },
  {
   "cell_type": "code",
   "execution_count": 11,
   "id": "05451544",
   "metadata": {},
   "outputs": [],
   "source": [
    "def class_counts(rows):\n",
    "    counts = {} # a dictionary of Label\n",
    "    for row in rows:\n",
    "        label = row[-1]\n",
    "        if label not in counts:\n",
    "            counts[label] = 0\n",
    "        counts[label] +=1\n",
    "    return counts\n",
    "    "
   ]
  },
  {
   "cell_type": "code",
   "execution_count": 39,
   "id": "7295eb7b",
   "metadata": {},
   "outputs": [
    {
     "data": {
      "text/plain": [
       "{'Mango': 87, 'Grape': 88, 'Lemon': 62}"
      ]
     },
     "execution_count": 39,
     "metadata": {},
     "output_type": "execute_result"
    }
   ],
   "source": [
    "class_counts(training_data_set)"
   ]
  },
  {
   "cell_type": "markdown",
   "id": "ac1797ee",
   "metadata": {},
   "source": [
    "Test if a value is numeric or not"
   ]
  },
  {
   "cell_type": "code",
   "execution_count": 12,
   "id": "80b78582",
   "metadata": {},
   "outputs": [],
   "source": [
    "def is_numeric(value):\n",
    "    return isinstance(value, int) or isinstance(value, float)"
   ]
  },
  {
   "cell_type": "code",
   "execution_count": 18,
   "id": "526844fd",
   "metadata": {},
   "outputs": [
    {
     "data": {
      "text/plain": [
       "False"
      ]
     },
     "execution_count": 18,
     "metadata": {},
     "output_type": "execute_result"
    }
   ],
   "source": [
    "is_numeric(\"Red\")"
   ]
  },
  {
   "cell_type": "markdown",
   "id": "e8914bd8",
   "metadata": {},
   "source": [
    "A Question is used to partition a dataset.\n",
    "\n",
    "This class just records a 'colums number' (e.g., 0 for Color) and a 'column value' (e.g., Green).\n",
    "The 'match' method is used to compare the feature in an example to the feature value stored in the question."
   ]
  },
  {
   "cell_type": "code",
   "execution_count": 19,
   "id": "9a31dd71",
   "metadata": {},
   "outputs": [],
   "source": [
    "class Question:\n",
    "    \n",
    "    def __init__(self, column, value):\n",
    "        self.column = column\n",
    "        self.value = value\n",
    "        \n",
    "    def match(self, example):\n",
    "        # Compare the feature value in an example to the\n",
    "        # feature value in this question\n",
    "        val = example[self.column]\n",
    "        if is_numeric(val):\n",
    "            return val >= self.value\n",
    "        else:\n",
    "            return val == self.value\n",
    "        \n",
    "    def __repr__(self):\n",
    "        # This is just a helper method to print\n",
    "        # the question in a readable format.\n",
    "        condition = \"==\"\n",
    "        if is_numeric(self.value):\n",
    "            condition = \">=\"\n",
    "        return \"Is %s %s %s?\" % (\n",
    "            header[self.column], condition, str(self.value))"
   ]
  },
  {
   "cell_type": "markdown",
   "id": "55b66996",
   "metadata": {},
   "source": [
    "Partition a dataset"
   ]
  },
  {
   "cell_type": "code",
   "execution_count": 21,
   "id": "baa73731",
   "metadata": {},
   "outputs": [],
   "source": [
    "def partition(rows, question):\n",
    "    # For each row in the dataset, check if it matches the question.\n",
    "    # if so, add ot to 'true rows', otherwise, add it to 'false rows'.\n",
    "    \n",
    "    true_rows, false_rows = [], []\n",
    "    for row in rows:\n",
    "        if question.match(row):\n",
    "            true_rows.append(row)\n",
    "        else:\n",
    "            false_rows.append(row)\n",
    "    return true_rows, false_rows"
   ]
  },
  {
   "cell_type": "code",
   "execution_count": 43,
   "id": "3bbb4c69",
   "metadata": {},
   "outputs": [
    {
     "data": {
      "text/plain": [
       "[['Green', 5, 'Mango'],\n",
       " ['Yellow', 1, 'Grape'],\n",
       " ['Yellow', 3, 'Lemon'],\n",
       " ['Yellow', 5, 'Lemon'],\n",
       " ['Green', 3, 'Grape'],\n",
       " ['Yellow', 3, 'Mango'],\n",
       " ['Yellow', 4, 'Lemon'],\n",
       " ['Yellow', 1, 'Lemon'],\n",
       " ['Green', 4, 'Mango'],\n",
       " ['Yellow', 3, 'Mango'],\n",
       " ['Green', 1, 'Grape'],\n",
       " ['Yellow', 2, 'Lemon'],\n",
       " ['Green', 4, 'Grape'],\n",
       " ['Green', 5, 'Grape'],\n",
       " ['Yellow', 4, 'Mango'],\n",
       " ['Yellow', 3, 'Lemon'],\n",
       " ['Yellow', 4, 'Lemon'],\n",
       " ['Yellow', 3, 'Mango'],\n",
       " ['Yellow', 4, 'Mango'],\n",
       " ['Green', 3, 'Mango'],\n",
       " ['Green', 5, 'Grape'],\n",
       " ['Green', 4, 'Grape'],\n",
       " ['Yellow', 1, 'Lemon'],\n",
       " ['Green', 2, 'Lemon'],\n",
       " ['Green', 1, 'Mango'],\n",
       " ['Yellow', 1, 'Lemon'],\n",
       " ['Green', 1, 'Grape'],\n",
       " ['Yellow', 2, 'Mango'],\n",
       " ['Yellow', 1, 'Grape'],\n",
       " ['Yellow', 4, 'Grape'],\n",
       " ['Green', 2, 'Lemon'],\n",
       " ['Green', 3, 'Mango'],\n",
       " ['Yellow', 4, 'Mango'],\n",
       " ['Yellow', 5, 'Grape'],\n",
       " ['Yellow', 3, 'Lemon'],\n",
       " ['Yellow', 3, 'Mango'],\n",
       " ['Yellow', 2, 'Mango'],\n",
       " ['Yellow', 2, 'Grape'],\n",
       " ['Yellow', 5, 'Mango'],\n",
       " ['Yellow', 3, 'Mango'],\n",
       " ['Green', 1, 'Lemon'],\n",
       " ['Green', 4, 'Mango'],\n",
       " ['Green', 5, 'Lemon'],\n",
       " ['Yellow', 2, 'Grape'],\n",
       " ['Green', 2, 'Grape'],\n",
       " ['Yellow', 1, 'Mango'],\n",
       " ['Yellow', 2, 'Grape'],\n",
       " ['Yellow', 2, 'Mango'],\n",
       " ['Yellow', 2, 'Lemon'],\n",
       " ['Yellow', 1, 'Grape'],\n",
       " ['Green', 3, 'Mango'],\n",
       " ['Green', 2, 'Lemon'],\n",
       " ['Green', 5, 'Mango'],\n",
       " ['Yellow', 2, 'Lemon'],\n",
       " ['Yellow', 4, 'Lemon'],\n",
       " ['Green', 2, 'Mango'],\n",
       " ['Green', 5, 'Grape'],\n",
       " ['Green', 5, 'Lemon'],\n",
       " ['Yellow', 4, 'Grape'],\n",
       " ['Green', 2, 'Lemon'],\n",
       " ['Yellow', 1, 'Grape'],\n",
       " ['Yellow', 3, 'Grape'],\n",
       " ['Green', 3, 'Mango'],\n",
       " ['Yellow', 3, 'Grape'],\n",
       " ['Yellow', 5, 'Mango'],\n",
       " ['Yellow', 1, 'Mango'],\n",
       " ['Yellow', 3, 'Lemon'],\n",
       " ['Yellow', 3, 'Mango'],\n",
       " ['Green', 5, 'Mango'],\n",
       " ['Yellow', 5, 'Mango'],\n",
       " ['Green', 5, 'Grape'],\n",
       " ['Yellow', 5, 'Grape'],\n",
       " ['Green', 1, 'Mango'],\n",
       " ['Yellow', 4, 'Mango'],\n",
       " ['Yellow', 5, 'Mango'],\n",
       " ['Green', 4, 'Grape'],\n",
       " ['Yellow', 3, 'Grape'],\n",
       " ['Yellow', 3, 'Grape'],\n",
       " ['Green', 3, 'Lemon'],\n",
       " ['Green', 4, 'Grape'],\n",
       " ['Yellow', 2, 'Lemon'],\n",
       " ['Green', 5, 'Lemon'],\n",
       " ['Yellow', 2, 'Grape'],\n",
       " ['Yellow', 4, 'Mango'],\n",
       " ['Yellow', 3, 'Mango'],\n",
       " ['Green', 5, 'Grape'],\n",
       " ['Yellow', 1, 'Lemon'],\n",
       " ['Green', 4, 'Mango'],\n",
       " ['Green', 1, 'Grape'],\n",
       " ['Yellow', 5, 'Mango'],\n",
       " ['Yellow', 4, 'Grape'],\n",
       " ['Yellow', 3, 'Mango'],\n",
       " ['Yellow', 5, 'Mango'],\n",
       " ['Yellow', 3, 'Grape'],\n",
       " ['Yellow', 3, 'Grape'],\n",
       " ['Yellow', 2, 'Grape'],\n",
       " ['Green', 3, 'Grape'],\n",
       " ['Yellow', 3, 'Lemon'],\n",
       " ['Yellow', 4, 'Mango'],\n",
       " ['Green', 1, 'Grape'],\n",
       " ['Green', 2, 'Lemon'],\n",
       " ['Green', 4, 'Grape'],\n",
       " ['Green', 5, 'Lemon'],\n",
       " ['Yellow', 5, 'Lemon'],\n",
       " ['Yellow', 1, 'Mango'],\n",
       " ['Green', 4, 'Grape'],\n",
       " ['Yellow', 1, 'Mango'],\n",
       " ['Green', 3, 'Lemon'],\n",
       " ['Green', 2, 'Grape'],\n",
       " ['Yellow', 5, 'Mango'],\n",
       " ['Yellow', 4, 'Mango'],\n",
       " ['Yellow', 5, 'Grape'],\n",
       " ['Yellow', 2, 'Lemon'],\n",
       " ['Yellow', 1, 'Mango'],\n",
       " ['Yellow', 1, 'Grape'],\n",
       " ['Yellow', 3, 'Mango'],\n",
       " ['Green', 4, 'Mango'],\n",
       " ['Green', 2, 'Lemon'],\n",
       " ['Yellow', 1, 'Grape'],\n",
       " ['Yellow', 1, 'Lemon'],\n",
       " ['Yellow', 1, 'Grape'],\n",
       " ['Yellow', 3, 'Lemon'],\n",
       " ['Green', 1, 'Mango'],\n",
       " ['Green', 2, 'Grape'],\n",
       " ['Yellow', 5, 'Grape'],\n",
       " ['Yellow', 5, 'Lemon'],\n",
       " ['Yellow', 1, 'Mango'],\n",
       " ['Green', 4, 'Mango'],\n",
       " ['Yellow', 2, 'Grape'],\n",
       " ['Green', 3, 'Lemon'],\n",
       " ['Green', 4, 'Grape'],\n",
       " ['Green', 5, 'Grape'],\n",
       " ['Green', 5, 'Grape'],\n",
       " ['Green', 5, 'Grape'],\n",
       " ['Yellow', 3, 'Mango'],\n",
       " ['Green', 2, 'Lemon'],\n",
       " ['Green', 5, 'Mango'],\n",
       " ['Green', 2, 'Lemon'],\n",
       " ['Yellow', 1, 'Mango'],\n",
       " ['Green', 1, 'Mango'],\n",
       " ['Yellow', 3, 'Lemon'],\n",
       " ['Yellow', 5, 'Grape'],\n",
       " ['Green', 5, 'Lemon'],\n",
       " ['Yellow', 2, 'Grape'],\n",
       " ['Yellow', 5, 'Lemon'],\n",
       " ['Green', 1, 'Grape'],\n",
       " ['Yellow', 1, 'Mango'],\n",
       " ['Green', 4, 'Mango'],\n",
       " ['Green', 5, 'Grape'],\n",
       " ['Yellow', 3, 'Mango'],\n",
       " ['Yellow', 3, 'Mango'],\n",
       " ['Yellow', 2, 'Grape'],\n",
       " ['Green', 5, 'Mango'],\n",
       " ['Green', 1, 'Mango'],\n",
       " ['Green', 3, 'Mango'],\n",
       " ['Green', 5, 'Mango'],\n",
       " ['Green', 1, 'Grape'],\n",
       " ['Green', 4, 'Lemon'],\n",
       " ['Yellow', 2, 'Mango'],\n",
       " ['Yellow', 4, 'Grape'],\n",
       " ['Yellow', 1, 'Mango'],\n",
       " ['Green', 2, 'Grape'],\n",
       " ['Green', 3, 'Lemon'],\n",
       " ['Yellow', 4, 'Grape'],\n",
       " ['Yellow', 2, 'Mango'],\n",
       " ['Yellow', 5, 'Grape']]"
      ]
     },
     "execution_count": 43,
     "metadata": {},
     "output_type": "execute_result"
    }
   ],
   "source": [
    "true_rows, false_rows = partition(training_data_set, Question(0,'Red'))\n",
    "true_rows\n",
    "false_rows"
   ]
  },
  {
   "cell_type": "markdown",
   "id": "b56d7a67",
   "metadata": {},
   "source": [
    "Calculate the Gini Impurity for a list of rows"
   ]
  },
  {
   "cell_type": "code",
   "execution_count": 44,
   "id": "3f291f55",
   "metadata": {},
   "outputs": [],
   "source": [
    "def gini(rows):\n",
    "    counts = class_counts(rows)\n",
    "    impurity = 1\n",
    "    for label in counts:\n",
    "        prob_of_label = counts[label]/float(len(rows))\n",
    "        impurity -= prob_of_label**2\n",
    "    return impurity"
   ]
  },
  {
   "cell_type": "code",
   "execution_count": 45,
   "id": "3da2735c",
   "metadata": {},
   "outputs": [
    {
     "data": {
      "text/plain": [
       "0.6589399846890633"
      ]
     },
     "execution_count": 45,
     "metadata": {},
     "output_type": "execute_result"
    }
   ],
   "source": [
    "gini(training_data_set)"
   ]
  },
  {
   "cell_type": "code",
   "execution_count": 46,
   "id": "9808702e",
   "metadata": {},
   "outputs": [],
   "source": [
    "def info_gain(left, right, current_uncertainty):\n",
    "    # The current uncertainty of the starting node, minus\n",
    "    # the weighted impurity of two child nodes.\n",
    "    p = float(len(left))/ (len(left) + len(right))\n",
    "    return current_uncertainty - p*gini(left) - (1 - p) * gini(right)"
   ]
  },
  {
   "cell_type": "code",
   "execution_count": 47,
   "id": "8af52fad",
   "metadata": {},
   "outputs": [
    {
     "data": {
      "text/plain": [
       "0.0006040200424577424"
      ]
     },
     "execution_count": 47,
     "metadata": {},
     "output_type": "execute_result"
    }
   ],
   "source": [
    "# Demo\n",
    "# calculate the actual uncertainty of our training data\n",
    "\n",
    "current_uncertainty = gini(training_data_set)\n",
    "true_rows, false_rows = partition(training_data_set, Question(0,'Red'))\n",
    "info_gain(true_rows, false_rows, current_uncertainty)"
   ]
  },
  {
   "cell_type": "code",
   "execution_count": 55,
   "id": "7eca5767",
   "metadata": {},
   "outputs": [],
   "source": [
    "def find_best_split(rows):\n",
    "    \"\"\"find the best question to ask by iterating over every feature/value and calculating the information gain\"\"\"\n",
    "    best_gain = 0 #keep track of the best information gain\n",
    "    best_question = None #keep train of the feature / value that produced it\n",
    "    current_uncertainty = gini(rows)\n",
    "    n_features = len(rows[0]) -1 # number of columns\n",
    "    for col in range(n_features): # for each feature\n",
    "        values = set([row[col] for row in rows]) # unique values in column\n",
    "        \n",
    "        for val in values:  # for each value\n",
    "            question = Question(col, val)\n",
    "            \n",
    "            # try splitting the dataset\n",
    "            true_rows, false_rows = partition(rows, question)\n",
    "            \n",
    "            # skip this split if it does not divide the dataset\n",
    "            if len(true_rows) == 0 or len(false_rows) ==0:\n",
    "                continue\n",
    "            # Calculate the information gain from this split \n",
    "            gain = info_gain(true_rows, false_rows, current_uncertainty)\n",
    "            \n",
    "            # We actually can use '>' instead of '>=' here\n",
    "            if gain >= best_gain:\n",
    "                best_gain, best_question = gain, question\n",
    "        return best_gain, best_question"
   ]
  },
  {
   "cell_type": "code",
   "execution_count": 56,
   "id": "78fbee16",
   "metadata": {},
   "outputs": [
    {
     "data": {
      "text/plain": [
       "Is color == Yellow?"
      ]
     },
     "execution_count": 56,
     "metadata": {},
     "output_type": "execute_result"
    }
   ],
   "source": [
    "best_gain, best_question = find_best_split(training_data_set)\n",
    "best_gain\n",
    "best_question"
   ]
  },
  {
   "cell_type": "code",
   "execution_count": 57,
   "id": "82ed867e",
   "metadata": {},
   "outputs": [],
   "source": [
    "class Leaf:\n",
    "    \"\"\"A Leaf node classifies data.\n",
    "    \n",
    "    This holds a dictionnary of classes(e.g., \"Mango\")-> number of times\n",
    "    it appears in the rows from the training data that reach this leaf.\"\"\"\n",
    "    \n",
    "    def __init__(self, rows):\n",
    "        self.predictions = class_counts(rows)"
   ]
  },
  {
   "cell_type": "code",
   "execution_count": 58,
   "id": "ea21fbc6",
   "metadata": {},
   "outputs": [],
   "source": [
    "class Decision_Node:\n",
    "    \"\"\"A Decision Node asks a question.\n",
    "    \n",
    "    This holds a reference to a question, and to the two child nodes.\"\"\"\n",
    "    \n",
    "    def __init__(self,\n",
    "                question,\n",
    "                true_branch,\n",
    "                false_branch):\n",
    "        self.question = question\n",
    "        self.true_branch = true_branch\n",
    "        self.false_branch = false_branch"
   ]
  },
  {
   "cell_type": "code",
   "execution_count": 67,
   "id": "ec17edb9",
   "metadata": {},
   "outputs": [],
   "source": [
    "def build_tree(rows):\n",
    "    \"\"\"Builds the tree.\"\"\"\n",
    "    \n",
    "    # Try partitioning the dataset on each of the unique attribute,\n",
    "    # calculate the information gain,\n",
    "    # and return the question that produces the highest gain.\n",
    "    gain, question = find_best_split(rows)\n",
    "    \n",
    "    # Base case: no further info gain\n",
    "    # Since we can ask no further questions,\n",
    "    # we will return a leaf.\n",
    "    if gain == 0:\n",
    "        return Leaf(rows)\n",
    "    # If we reach here, we have found a useful feature / value\n",
    "    # to partition on.\n",
    "    true_rows, false_rows = partition(rows, question)\n",
    "    \n",
    "    # Recursively build the true branch.\n",
    "    true_branch = build_tree(true_rows)\n",
    "    \n",
    "    # Recursively build the false branch.\n",
    "    false_branch = build_tree(false_rows)\n",
    "    \n",
    "    # Return a Question node.\n",
    "    # This records the best feature / value to ask at this point,\n",
    "    # as well as the branches to follow depending on the answer.\n",
    "    return Decision_Node(question, true_branch, false_branch)"
   ]
  },
  {
   "cell_type": "code",
   "execution_count": 60,
   "id": "6c0a31a8",
   "metadata": {},
   "outputs": [],
   "source": [
    "def print_tree(node, spacing = \"\"):\n",
    "    \"\"\"Tree printing function\"\"\"\n",
    "    \n",
    "    # Base case: we've reached a Leaf\n",
    "    if isinstance(node, Leaf):\n",
    "        print(spacing + \"Predict\", node.predictions)\n",
    "        return\n",
    "    \n",
    "    # Print the question at this node\n",
    "    print(spacing + str(node.question))\n",
    "    \n",
    "    # Call this function recursively on the true branch\n",
    "    print(spacing + '--> True:')\n",
    "    print_tree(node.true_branch, spacing + \"  \")\n",
    "    \n",
    "     # Call this function recursively on the false branch\n",
    "    print(spacing + '--> False:')\n",
    "    print_tree(node.false_branch, spacing + \"  \")\n",
    "    "
   ]
  },
  {
   "cell_type": "code",
   "execution_count": 61,
   "id": "4c8a47cb",
   "metadata": {},
   "outputs": [],
   "source": [
    "def classify(row, node):\n",
    "    # Base case: we've reached a leaf\n",
    "    if isinstance(node, Leaf):\n",
    "        return node.predictions\n",
    "    \n",
    "    # Decide whether to follow the true-branch or the false-branch.\n",
    "    # Compare the feature /value stored in the node,\n",
    "    # to the example we're considering.\n",
    "    if node.question.match(row):\n",
    "        return classify(row, node.true_branch)\n",
    "    else:\n",
    "        return classify(row, node.false_branch)"
   ]
  },
  {
   "cell_type": "code",
   "execution_count": 62,
   "id": "742c5615",
   "metadata": {},
   "outputs": [],
   "source": [
    "def print_leaf(counts):\n",
    "    \"\"\"Print the predictions at leaf.\"\"\"\n",
    "    total = sum(counts.values())*1.0\n",
    "    probs = {}\n",
    "    for label in counts.keys():\n",
    "        probs[label] = str(int(counts[label] / total*100)) + \"%\"\n",
    "    return probs"
   ]
  },
  {
   "cell_type": "code",
   "execution_count": 70,
   "id": "d1c5035b",
   "metadata": {},
   "outputs": [
    {
     "name": "stdout",
     "output_type": "stream",
     "text": [
      "<__main__.Decision_Node object at 0x150982500>\n",
      "Actual: Mango. Predicted: {'Mango': '32%', 'Grape': '40%', 'Lemon': '27%'}\n",
      "Actual: Mango. Predicted: {'Grape': '33%', 'Lemon': '25%', 'Mango': '41%'}\n",
      "Actual: Mango. Predicted: {'Mango': '32%', 'Grape': '40%', 'Lemon': '27%'}\n",
      "Actual: Grape. Predicted: {'Mango': '33%', 'Grape': '39%', 'Lemon': '26%'}\n",
      "Actual: Grape. Predicted: {'Mango': '33%', 'Grape': '39%', 'Lemon': '26%'}\n",
      "Actual: Lemon. Predicted: {'Grape': '33%', 'Lemon': '25%', 'Mango': '41%'}\n",
      "Actual: Grape. Predicted: {'Mango': '33%', 'Grape': '39%', 'Lemon': '26%'}\n",
      "Actual: Mango. Predicted: {'Mango': '33%', 'Grape': '39%', 'Lemon': '26%'}\n",
      "Actual: Mango. Predicted: {'Mango': '32%', 'Grape': '40%', 'Lemon': '27%'}\n",
      "Actual: Lemon. Predicted: {'Mango': '33%', 'Grape': '39%', 'Lemon': '26%'}\n",
      "Actual: Grape. Predicted: {'Mango': '33%', 'Grape': '39%', 'Lemon': '26%'}\n",
      "Actual: Lemon. Predicted: {'Mango': '32%', 'Grape': '40%', 'Lemon': '27%'}\n",
      "Actual: Grape. Predicted: {'Mango': '32%', 'Grape': '40%', 'Lemon': '27%'}\n",
      "Actual: Grape. Predicted: {'Grape': '33%', 'Lemon': '25%', 'Mango': '41%'}\n",
      "Actual: Grape. Predicted: {'Grape': '33%', 'Lemon': '25%', 'Mango': '41%'}\n",
      "Actual: Mango. Predicted: {'Grape': '33%', 'Lemon': '25%', 'Mango': '41%'}\n",
      "Actual: Mango. Predicted: {'Mango': '33%', 'Grape': '39%', 'Lemon': '26%'}\n",
      "Actual: Lemon. Predicted: {'Mango': '33%', 'Grape': '39%', 'Lemon': '26%'}\n",
      "Actual: Mango. Predicted: {'Mango': '33%', 'Grape': '39%', 'Lemon': '26%'}\n",
      "Actual: Grape. Predicted: {'Mango': '33%', 'Grape': '39%', 'Lemon': '26%'}\n",
      "Actual: Mango. Predicted: {'Grape': '33%', 'Lemon': '25%', 'Mango': '41%'}\n",
      "Actual: Grape. Predicted: {'Mango': '33%', 'Grape': '39%', 'Lemon': '26%'}\n",
      "Actual: Grape. Predicted: {'Grape': '33%', 'Lemon': '25%', 'Mango': '41%'}\n",
      "Actual: Lemon. Predicted: {'Mango': '32%', 'Grape': '40%', 'Lemon': '27%'}\n",
      "Actual: Lemon. Predicted: {'Mango': '32%', 'Grape': '40%', 'Lemon': '27%'}\n",
      "Actual: Grape. Predicted: {'Grape': '33%', 'Lemon': '25%', 'Mango': '41%'}\n",
      "Actual: Lemon. Predicted: {'Mango': '33%', 'Grape': '39%', 'Lemon': '26%'}\n",
      "Actual: Mango. Predicted: {'Mango': '33%', 'Grape': '39%', 'Lemon': '26%'}\n",
      "Actual: Mango. Predicted: {'Mango': '32%', 'Grape': '40%', 'Lemon': '27%'}\n",
      "Actual: Mango. Predicted: {'Mango': '32%', 'Grape': '40%', 'Lemon': '27%'}\n",
      "Actual: Grape. Predicted: {'Grape': '33%', 'Lemon': '25%', 'Mango': '41%'}\n",
      "Actual: Lemon. Predicted: {'Grape': '33%', 'Lemon': '25%', 'Mango': '41%'}\n",
      "Actual: Mango. Predicted: {'Mango': '32%', 'Grape': '40%', 'Lemon': '27%'}\n",
      "Actual: Lemon. Predicted: {'Mango': '32%', 'Grape': '40%', 'Lemon': '27%'}\n",
      "Actual: Grape. Predicted: {'Grape': '33%', 'Lemon': '25%', 'Mango': '41%'}\n",
      "Actual: Grape. Predicted: {'Grape': '33%', 'Lemon': '25%', 'Mango': '41%'}\n",
      "Actual: Grape. Predicted: {'Mango': '33%', 'Grape': '39%', 'Lemon': '26%'}\n",
      "Actual: Grape. Predicted: {'Grape': '33%', 'Lemon': '25%', 'Mango': '41%'}\n",
      "Actual: Mango. Predicted: {'Mango': '32%', 'Grape': '40%', 'Lemon': '27%'}\n",
      "Actual: Grape. Predicted: {'Mango': '33%', 'Grape': '39%', 'Lemon': '26%'}\n",
      "Actual: Grape. Predicted: {'Mango': '33%', 'Grape': '39%', 'Lemon': '26%'}\n",
      "Actual: Lemon. Predicted: {'Mango': '32%', 'Grape': '40%', 'Lemon': '27%'}\n",
      "Actual: Mango. Predicted: {'Mango': '32%', 'Grape': '40%', 'Lemon': '27%'}\n",
      "Actual: Grape. Predicted: {'Mango': '33%', 'Grape': '39%', 'Lemon': '26%'}\n",
      "Actual: Lemon. Predicted: {'Mango': '33%', 'Grape': '39%', 'Lemon': '26%'}\n",
      "Actual: Grape. Predicted: {'Mango': '32%', 'Grape': '40%', 'Lemon': '27%'}\n",
      "Actual: Grape. Predicted: {'Mango': '32%', 'Grape': '40%', 'Lemon': '27%'}\n",
      "Actual: Lemon. Predicted: {'Mango': '32%', 'Grape': '40%', 'Lemon': '27%'}\n",
      "Actual: Lemon. Predicted: {'Mango': '33%', 'Grape': '39%', 'Lemon': '26%'}\n",
      "Actual: Mango. Predicted: {'Grape': '33%', 'Lemon': '25%', 'Mango': '41%'}\n",
      "Actual: Grape. Predicted: {'Grape': '33%', 'Lemon': '25%', 'Mango': '41%'}\n",
      "Actual: Grape. Predicted: {'Mango': '32%', 'Grape': '40%', 'Lemon': '27%'}\n",
      "Actual: Mango. Predicted: {'Mango': '32%', 'Grape': '40%', 'Lemon': '27%'}\n",
      "Actual: Lemon. Predicted: {'Mango': '32%', 'Grape': '40%', 'Lemon': '27%'}\n",
      "Actual: Mango. Predicted: {'Mango': '33%', 'Grape': '39%', 'Lemon': '26%'}\n",
      "Actual: Mango. Predicted: {'Mango': '33%', 'Grape': '39%', 'Lemon': '26%'}\n",
      "Actual: Grape. Predicted: {'Mango': '32%', 'Grape': '40%', 'Lemon': '27%'}\n",
      "Actual: Mango. Predicted: {'Mango': '32%', 'Grape': '40%', 'Lemon': '27%'}\n",
      "Actual: Grape. Predicted: {'Grape': '33%', 'Lemon': '25%', 'Mango': '41%'}\n",
      "Actual: Lemon. Predicted: {'Grape': '33%', 'Lemon': '25%', 'Mango': '41%'}\n",
      "Actual: Grape. Predicted: {'Mango': '33%', 'Grape': '39%', 'Lemon': '26%'}\n",
      "Actual: Mango. Predicted: {'Mango': '32%', 'Grape': '40%', 'Lemon': '27%'}\n",
      "Actual: Mango. Predicted: {'Mango': '32%', 'Grape': '40%', 'Lemon': '27%'}\n",
      "Actual: Lemon. Predicted: {'Mango': '32%', 'Grape': '40%', 'Lemon': '27%'}\n",
      "Actual: Lemon. Predicted: {'Mango': '33%', 'Grape': '39%', 'Lemon': '26%'}\n",
      "Actual: Grape. Predicted: {'Grape': '33%', 'Lemon': '25%', 'Mango': '41%'}\n",
      "Actual: Grape. Predicted: {'Grape': '33%', 'Lemon': '25%', 'Mango': '41%'}\n",
      "Actual: Mango. Predicted: {'Mango': '33%', 'Grape': '39%', 'Lemon': '26%'}\n",
      "Actual: Lemon. Predicted: {'Grape': '33%', 'Lemon': '25%', 'Mango': '41%'}\n",
      "Actual: Mango. Predicted: {'Grape': '33%', 'Lemon': '25%', 'Mango': '41%'}\n",
      "Actual: Mango. Predicted: {'Grape': '33%', 'Lemon': '25%', 'Mango': '41%'}\n",
      "Actual: Lemon. Predicted: {'Grape': '33%', 'Lemon': '25%', 'Mango': '41%'}\n",
      "Actual: Mango. Predicted: {'Grape': '33%', 'Lemon': '25%', 'Mango': '41%'}\n",
      "Actual: Mango. Predicted: {'Mango': '32%', 'Grape': '40%', 'Lemon': '27%'}\n",
      "Actual: Mango. Predicted: {'Grape': '33%', 'Lemon': '25%', 'Mango': '41%'}\n",
      "Actual: Grape. Predicted: {'Mango': '32%', 'Grape': '40%', 'Lemon': '27%'}\n",
      "Actual: Mango. Predicted: {'Mango': '32%', 'Grape': '40%', 'Lemon': '27%'}\n",
      "Actual: Lemon. Predicted: {'Grape': '33%', 'Lemon': '25%', 'Mango': '41%'}\n",
      "Actual: Lemon. Predicted: {'Grape': '33%', 'Lemon': '25%', 'Mango': '41%'}\n",
      "Actual: Lemon. Predicted: {'Mango': '32%', 'Grape': '40%', 'Lemon': '27%'}\n",
      "Actual: Grape. Predicted: {'Mango': '32%', 'Grape': '40%', 'Lemon': '27%'}\n",
      "Actual: Lemon. Predicted: {'Mango': '32%', 'Grape': '40%', 'Lemon': '27%'}\n",
      "Actual: Lemon. Predicted: {'Mango': '32%', 'Grape': '40%', 'Lemon': '27%'}\n",
      "Actual: Mango. Predicted: {'Grape': '33%', 'Lemon': '25%', 'Mango': '41%'}\n",
      "Actual: Mango. Predicted: {'Grape': '33%', 'Lemon': '25%', 'Mango': '41%'}\n",
      "Actual: Mango. Predicted: {'Mango': '33%', 'Grape': '39%', 'Lemon': '26%'}\n",
      "Actual: Mango. Predicted: {'Mango': '32%', 'Grape': '40%', 'Lemon': '27%'}\n",
      "Actual: Lemon. Predicted: {'Grape': '33%', 'Lemon': '25%', 'Mango': '41%'}\n",
      "Actual: Grape. Predicted: {'Grape': '33%', 'Lemon': '25%', 'Mango': '41%'}\n",
      "Actual: Lemon. Predicted: {'Grape': '33%', 'Lemon': '25%', 'Mango': '41%'}\n",
      "Actual: Grape. Predicted: {'Grape': '33%', 'Lemon': '25%', 'Mango': '41%'}\n",
      "Actual: Grape. Predicted: {'Mango': '33%', 'Grape': '39%', 'Lemon': '26%'}\n",
      "Actual: Grape. Predicted: {'Grape': '33%', 'Lemon': '25%', 'Mango': '41%'}\n",
      "Actual: Grape. Predicted: {'Mango': '32%', 'Grape': '40%', 'Lemon': '27%'}\n",
      "Actual: Lemon. Predicted: {'Grape': '33%', 'Lemon': '25%', 'Mango': '41%'}\n",
      "Actual: Grape. Predicted: {'Mango': '32%', 'Grape': '40%', 'Lemon': '27%'}\n",
      "Actual: Mango. Predicted: {'Mango': '33%', 'Grape': '39%', 'Lemon': '26%'}\n",
      "Actual: Lemon. Predicted: {'Mango': '33%', 'Grape': '39%', 'Lemon': '26%'}\n",
      "Actual: Mango. Predicted: {'Grape': '33%', 'Lemon': '25%', 'Mango': '41%'}\n",
      "Actual: Mango. Predicted: {'Mango': '33%', 'Grape': '39%', 'Lemon': '26%'}\n",
      "Actual: Mango. Predicted: {'Grape': '33%', 'Lemon': '25%', 'Mango': '41%'}\n",
      "Actual: Lemon. Predicted: {'Mango': '32%', 'Grape': '40%', 'Lemon': '27%'}\n",
      "Actual: Grape. Predicted: {'Mango': '33%', 'Grape': '39%', 'Lemon': '26%'}\n",
      "Actual: Mango. Predicted: {'Mango': '32%', 'Grape': '40%', 'Lemon': '27%'}\n",
      "Actual: Lemon. Predicted: {'Grape': '33%', 'Lemon': '25%', 'Mango': '41%'}\n",
      "Actual: Mango. Predicted: {'Mango': '33%', 'Grape': '39%', 'Lemon': '26%'}\n",
      "Actual: Lemon. Predicted: {'Grape': '33%', 'Lemon': '25%', 'Mango': '41%'}\n",
      "Actual: Lemon. Predicted: {'Mango': '33%', 'Grape': '39%', 'Lemon': '26%'}\n",
      "Actual: Lemon. Predicted: {'Grape': '33%', 'Lemon': '25%', 'Mango': '41%'}\n",
      "Actual: Lemon. Predicted: {'Grape': '33%', 'Lemon': '25%', 'Mango': '41%'}\n",
      "Actual: Mango. Predicted: {'Grape': '33%', 'Lemon': '25%', 'Mango': '41%'}\n",
      "Actual: Mango. Predicted: {'Mango': '32%', 'Grape': '40%', 'Lemon': '27%'}\n",
      "Actual: Mango. Predicted: {'Mango': '33%', 'Grape': '39%', 'Lemon': '26%'}\n",
      "Actual: Mango. Predicted: {'Mango': '33%', 'Grape': '39%', 'Lemon': '26%'}\n",
      "Actual: Lemon. Predicted: {'Grape': '33%', 'Lemon': '25%', 'Mango': '41%'}\n",
      "Actual: Mango. Predicted: {'Mango': '33%', 'Grape': '39%', 'Lemon': '26%'}\n",
      "Actual: Lemon. Predicted: {'Grape': '33%', 'Lemon': '25%', 'Mango': '41%'}\n",
      "Actual: Lemon. Predicted: {'Mango': '33%', 'Grape': '39%', 'Lemon': '26%'}\n",
      "Actual: Mango. Predicted: {'Grape': '33%', 'Lemon': '25%', 'Mango': '41%'}\n",
      "Actual: Mango. Predicted: {'Mango': '33%', 'Grape': '39%', 'Lemon': '26%'}\n",
      "Actual: Lemon. Predicted: {'Grape': '33%', 'Lemon': '25%', 'Mango': '41%'}\n",
      "Actual: Grape. Predicted: {'Mango': '33%', 'Grape': '39%', 'Lemon': '26%'}\n",
      "Actual: Mango. Predicted: {'Grape': '33%', 'Lemon': '25%', 'Mango': '41%'}\n",
      "Actual: Mango. Predicted: {'Mango': '32%', 'Grape': '40%', 'Lemon': '27%'}\n",
      "Actual: Grape. Predicted: {'Mango': '33%', 'Grape': '39%', 'Lemon': '26%'}\n",
      "Actual: Lemon. Predicted: {'Mango': '33%', 'Grape': '39%', 'Lemon': '26%'}\n",
      "Actual: Lemon. Predicted: {'Grape': '33%', 'Lemon': '25%', 'Mango': '41%'}\n",
      "Actual: Lemon. Predicted: {'Mango': '33%', 'Grape': '39%', 'Lemon': '26%'}\n",
      "Actual: Grape. Predicted: {'Mango': '32%', 'Grape': '40%', 'Lemon': '27%'}\n",
      "Actual: Mango. Predicted: {'Grape': '33%', 'Lemon': '25%', 'Mango': '41%'}\n",
      "Actual: Grape. Predicted: {'Grape': '33%', 'Lemon': '25%', 'Mango': '41%'}\n",
      "Actual: Grape. Predicted: {'Mango': '32%', 'Grape': '40%', 'Lemon': '27%'}\n",
      "Actual: Mango. Predicted: {'Mango': '33%', 'Grape': '39%', 'Lemon': '26%'}\n",
      "Actual: Lemon. Predicted: {'Grape': '33%', 'Lemon': '25%', 'Mango': '41%'}\n",
      "Actual: Lemon. Predicted: {'Mango': '33%', 'Grape': '39%', 'Lemon': '26%'}\n",
      "Actual: Grape. Predicted: {'Mango': '33%', 'Grape': '39%', 'Lemon': '26%'}\n",
      "Actual: Grape. Predicted: {'Mango': '32%', 'Grape': '40%', 'Lemon': '27%'}\n",
      "Actual: Lemon. Predicted: {'Mango': '33%', 'Grape': '39%', 'Lemon': '26%'}\n",
      "Actual: Grape. Predicted: {'Grape': '33%', 'Lemon': '25%', 'Mango': '41%'}\n",
      "Actual: Grape. Predicted: {'Mango': '33%', 'Grape': '39%', 'Lemon': '26%'}\n",
      "Actual: Grape. Predicted: {'Mango': '32%', 'Grape': '40%', 'Lemon': '27%'}\n",
      "Actual: Grape. Predicted: {'Grape': '33%', 'Lemon': '25%', 'Mango': '41%'}\n",
      "Actual: Mango. Predicted: {'Mango': '33%', 'Grape': '39%', 'Lemon': '26%'}\n",
      "Actual: Lemon. Predicted: {'Grape': '33%', 'Lemon': '25%', 'Mango': '41%'}\n",
      "Actual: Lemon. Predicted: {'Mango': '33%', 'Grape': '39%', 'Lemon': '26%'}\n",
      "Actual: Lemon. Predicted: {'Mango': '33%', 'Grape': '39%', 'Lemon': '26%'}\n",
      "Actual: Grape. Predicted: {'Mango': '32%', 'Grape': '40%', 'Lemon': '27%'}\n",
      "Actual: Mango. Predicted: {'Grape': '33%', 'Lemon': '25%', 'Mango': '41%'}\n",
      "Actual: Grape. Predicted: {'Mango': '32%', 'Grape': '40%', 'Lemon': '27%'}\n",
      "Actual: Grape. Predicted: {'Grape': '33%', 'Lemon': '25%', 'Mango': '41%'}\n",
      "Actual: Grape. Predicted: {'Grape': '33%', 'Lemon': '25%', 'Mango': '41%'}\n",
      "Actual: Grape. Predicted: {'Mango': '33%', 'Grape': '39%', 'Lemon': '26%'}\n",
      "Actual: Mango. Predicted: {'Grape': '33%', 'Lemon': '25%', 'Mango': '41%'}\n",
      "Actual: Grape. Predicted: {'Mango': '33%', 'Grape': '39%', 'Lemon': '26%'}\n",
      "Actual: Lemon. Predicted: {'Mango': '33%', 'Grape': '39%', 'Lemon': '26%'}\n",
      "Actual: Lemon. Predicted: {'Mango': '32%', 'Grape': '40%', 'Lemon': '27%'}\n",
      "Actual: Mango. Predicted: {'Mango': '33%', 'Grape': '39%', 'Lemon': '26%'}\n",
      "Actual: Mango. Predicted: {'Mango': '32%', 'Grape': '40%', 'Lemon': '27%'}\n",
      "Actual: Lemon. Predicted: {'Grape': '33%', 'Lemon': '25%', 'Mango': '41%'}\n",
      "Actual: Grape. Predicted: {'Mango': '32%', 'Grape': '40%', 'Lemon': '27%'}\n",
      "Actual: Grape. Predicted: {'Grape': '33%', 'Lemon': '25%', 'Mango': '41%'}\n",
      "Actual: Lemon. Predicted: {'Mango': '32%', 'Grape': '40%', 'Lemon': '27%'}\n",
      "Actual: Lemon. Predicted: {'Mango': '32%', 'Grape': '40%', 'Lemon': '27%'}\n",
      "Actual: Grape. Predicted: {'Mango': '33%', 'Grape': '39%', 'Lemon': '26%'}\n",
      "Actual: Grape. Predicted: {'Mango': '32%', 'Grape': '40%', 'Lemon': '27%'}\n",
      "Actual: Mango. Predicted: {'Grape': '33%', 'Lemon': '25%', 'Mango': '41%'}\n",
      "Actual: Mango. Predicted: {'Mango': '33%', 'Grape': '39%', 'Lemon': '26%'}\n",
      "Actual: Mango. Predicted: {'Grape': '33%', 'Lemon': '25%', 'Mango': '41%'}\n",
      "Actual: Lemon. Predicted: {'Mango': '32%', 'Grape': '40%', 'Lemon': '27%'}\n",
      "Actual: Grape. Predicted: {'Mango': '32%', 'Grape': '40%', 'Lemon': '27%'}\n",
      "Actual: Grape. Predicted: {'Grape': '33%', 'Lemon': '25%', 'Mango': '41%'}\n",
      "Actual: Mango. Predicted: {'Grape': '33%', 'Lemon': '25%', 'Mango': '41%'}\n",
      "Actual: Lemon. Predicted: {'Mango': '32%', 'Grape': '40%', 'Lemon': '27%'}\n",
      "Actual: Grape. Predicted: {'Grape': '33%', 'Lemon': '25%', 'Mango': '41%'}\n",
      "Actual: Grape. Predicted: {'Grape': '33%', 'Lemon': '25%', 'Mango': '41%'}\n",
      "Actual: Mango. Predicted: {'Mango': '32%', 'Grape': '40%', 'Lemon': '27%'}\n",
      "Actual: Grape. Predicted: {'Grape': '33%', 'Lemon': '25%', 'Mango': '41%'}\n",
      "Actual: Grape. Predicted: {'Grape': '33%', 'Lemon': '25%', 'Mango': '41%'}\n",
      "Actual: Mango. Predicted: {'Grape': '33%', 'Lemon': '25%', 'Mango': '41%'}\n",
      "Actual: Mango. Predicted: {'Grape': '33%', 'Lemon': '25%', 'Mango': '41%'}\n",
      "Actual: Mango. Predicted: {'Grape': '33%', 'Lemon': '25%', 'Mango': '41%'}\n",
      "Actual: Lemon. Predicted: {'Mango': '32%', 'Grape': '40%', 'Lemon': '27%'}\n",
      "Actual: Lemon. Predicted: {'Mango': '32%', 'Grape': '40%', 'Lemon': '27%'}\n",
      "Actual: Mango. Predicted: {'Grape': '33%', 'Lemon': '25%', 'Mango': '41%'}\n",
      "Actual: Lemon. Predicted: {'Mango': '33%', 'Grape': '39%', 'Lemon': '26%'}\n",
      "Actual: Lemon. Predicted: {'Mango': '32%', 'Grape': '40%', 'Lemon': '27%'}\n",
      "Actual: Lemon. Predicted: {'Mango': '33%', 'Grape': '39%', 'Lemon': '26%'}\n",
      "Actual: Lemon. Predicted: {'Grape': '33%', 'Lemon': '25%', 'Mango': '41%'}\n",
      "Actual: Lemon. Predicted: {'Grape': '33%', 'Lemon': '25%', 'Mango': '41%'}\n",
      "Actual: Lemon. Predicted: {'Mango': '32%', 'Grape': '40%', 'Lemon': '27%'}\n",
      "Actual: Grape. Predicted: {'Mango': '33%', 'Grape': '39%', 'Lemon': '26%'}\n",
      "Actual: Grape. Predicted: {'Grape': '33%', 'Lemon': '25%', 'Mango': '41%'}\n",
      "Actual: Grape. Predicted: {'Mango': '33%', 'Grape': '39%', 'Lemon': '26%'}\n",
      "Actual: Mango. Predicted: {'Mango': '33%', 'Grape': '39%', 'Lemon': '26%'}\n",
      "Actual: Mango. Predicted: {'Grape': '33%', 'Lemon': '25%', 'Mango': '41%'}\n",
      "Actual: Mango. Predicted: {'Grape': '33%', 'Lemon': '25%', 'Mango': '41%'}\n",
      "Actual: Mango. Predicted: {'Grape': '33%', 'Lemon': '25%', 'Mango': '41%'}\n",
      "Actual: Mango. Predicted: {'Mango': '32%', 'Grape': '40%', 'Lemon': '27%'}\n",
      "Actual: Mango. Predicted: {'Grape': '33%', 'Lemon': '25%', 'Mango': '41%'}\n",
      "Actual: Grape. Predicted: {'Grape': '33%', 'Lemon': '25%', 'Mango': '41%'}\n",
      "Actual: Grape. Predicted: {'Mango': '33%', 'Grape': '39%', 'Lemon': '26%'}\n",
      "Actual: Grape. Predicted: {'Grape': '33%', 'Lemon': '25%', 'Mango': '41%'}\n",
      "Actual: Mango. Predicted: {'Grape': '33%', 'Lemon': '25%', 'Mango': '41%'}\n",
      "Actual: Mango. Predicted: {'Mango': '33%', 'Grape': '39%', 'Lemon': '26%'}\n",
      "Actual: Grape. Predicted: {'Mango': '33%', 'Grape': '39%', 'Lemon': '26%'}\n",
      "Actual: Grape. Predicted: {'Mango': '33%', 'Grape': '39%', 'Lemon': '26%'}\n",
      "Actual: Lemon. Predicted: {'Mango': '33%', 'Grape': '39%', 'Lemon': '26%'}\n",
      "Actual: Grape. Predicted: {'Mango': '32%', 'Grape': '40%', 'Lemon': '27%'}\n",
      "Actual: Lemon. Predicted: {'Mango': '32%', 'Grape': '40%', 'Lemon': '27%'}\n",
      "Actual: Lemon. Predicted: {'Grape': '33%', 'Lemon': '25%', 'Mango': '41%'}\n",
      "Actual: Lemon. Predicted: {'Mango': '32%', 'Grape': '40%', 'Lemon': '27%'}\n",
      "Actual: Grape. Predicted: {'Mango': '32%', 'Grape': '40%', 'Lemon': '27%'}\n",
      "Actual: Mango. Predicted: {'Mango': '32%', 'Grape': '40%', 'Lemon': '27%'}\n",
      "Actual: Mango. Predicted: {'Mango': '33%', 'Grape': '39%', 'Lemon': '26%'}\n",
      "Actual: Lemon. Predicted: {'Mango': '32%', 'Grape': '40%', 'Lemon': '27%'}\n",
      "Actual: Mango. Predicted: {'Mango': '32%', 'Grape': '40%', 'Lemon': '27%'}\n",
      "Actual: Mango. Predicted: {'Grape': '33%', 'Lemon': '25%', 'Mango': '41%'}\n",
      "Actual: Grape. Predicted: {'Mango': '32%', 'Grape': '40%', 'Lemon': '27%'}\n",
      "Actual: Mango. Predicted: {'Mango': '33%', 'Grape': '39%', 'Lemon': '26%'}\n",
      "Actual: Lemon. Predicted: {'Mango': '33%', 'Grape': '39%', 'Lemon': '26%'}\n",
      "Actual: Lemon. Predicted: {'Mango': '33%', 'Grape': '39%', 'Lemon': '26%'}\n",
      "Actual: Mango. Predicted: {'Mango': '32%', 'Grape': '40%', 'Lemon': '27%'}\n",
      "Actual: Grape. Predicted: {'Mango': '33%', 'Grape': '39%', 'Lemon': '26%'}\n",
      "Actual: Grape. Predicted: {'Mango': '32%', 'Grape': '40%', 'Lemon': '27%'}\n",
      "Actual: Grape. Predicted: {'Mango': '33%', 'Grape': '39%', 'Lemon': '26%'}\n",
      "Actual: Mango. Predicted: {'Grape': '33%', 'Lemon': '25%', 'Mango': '41%'}\n",
      "Actual: Grape. Predicted: {'Mango': '33%', 'Grape': '39%', 'Lemon': '26%'}\n",
      "Actual: Lemon. Predicted: {'Mango': '32%', 'Grape': '40%', 'Lemon': '27%'}\n",
      "Actual: Mango. Predicted: {'Mango': '32%', 'Grape': '40%', 'Lemon': '27%'}\n",
      "Actual: Mango. Predicted: {'Mango': '33%', 'Grape': '39%', 'Lemon': '26%'}\n",
      "Actual: Mango. Predicted: {'Grape': '33%', 'Lemon': '25%', 'Mango': '41%'}\n",
      "Actual: Mango. Predicted: {'Mango': '33%', 'Grape': '39%', 'Lemon': '26%'}\n",
      "Actual: Mango. Predicted: {'Mango': '32%', 'Grape': '40%', 'Lemon': '27%'}\n",
      "Actual: Lemon. Predicted: {'Grape': '33%', 'Lemon': '25%', 'Mango': '41%'}\n",
      "Actual: Mango. Predicted: {'Mango': '32%', 'Grape': '40%', 'Lemon': '27%'}\n",
      "Actual: Mango. Predicted: {'Mango': '33%', 'Grape': '39%', 'Lemon': '26%'}\n",
      "Actual: Grape. Predicted: {'Mango': '32%', 'Grape': '40%', 'Lemon': '27%'}\n",
      "Actual: Grape. Predicted: {'Mango': '33%', 'Grape': '39%', 'Lemon': '26%'}\n"
     ]
    }
   ],
   "source": [
    "# Demo\n",
    "# Printing that is a bit nicer\n",
    "# print_Leaf(classify(training_data_set[0], my_tree))\n",
    "\n",
    "# On the second example, the confidence is lower\n",
    "# print_Leaf(classify(training_data_set[1], my_tree))\n",
    "\n",
    "if __name__ == '__main__':\n",
    "    my_tree = build_tree(training_data_set)\n",
    "    \n",
    "    print(my_tree)\n",
    "    \n",
    "    # Evaluate\n",
    "    testing_data = pd.read_csv('fruit_test.csv')\n",
    "    testing_data_set = []\n",
    "    for index, row in testing_data.iterrows():\n",
    "        testing_data_set.append([row[0], row[1], row[2]])\n",
    "    \n",
    "    for row in testing_data_set:\n",
    "        print(\"Actual: %s. Predicted: %s\"%\n",
    "             (row[-1], print_leaf(classify(row, my_tree))))"
   ]
  },
  {
   "cell_type": "markdown",
   "id": "0e25e463",
   "metadata": {},
   "source": [
    "# Anomaly Detection Algorithm"
   ]
  },
  {
   "cell_type": "markdown",
   "id": "51fcf7eb",
   "metadata": {},
   "source": [
    "### Anomaly detection algorithm using KMeans clustering and Elliptic Envelope."
   ]
  },
  {
   "cell_type": "code",
   "execution_count": 71,
   "id": "2e7ab8e9",
   "metadata": {},
   "outputs": [],
   "source": [
    "from sklearn.cluster import KMeans\n",
    "from sklearn.covariance import EllipticEnvelope"
   ]
  },
  {
   "cell_type": "code",
   "execution_count": 75,
   "id": "46095681",
   "metadata": {},
   "outputs": [],
   "source": [
    "# data: array-like, shape(n_samples, n_features)\n",
    "# the input data to train the model.\n",
    "\n",
    "#n_clusters: The number of clusters to use in the KMeans model\n",
    "#contamination: The amount of contamination of the data set,\n",
    "#i.e. the proportion of outliers in the data set. Used when fitting the EllipticEnvelope\n",
    "# This function returns a boolean array indicating whether a sample is an anomaly (True) or not (False)\n",
    "def anomaly_detection(data_set, n_clusters = 10, contamination = 0.1):\n",
    "    # fit KMeans model to data_set\n",
    "    kmeans = KMeans(n_clusters= n_clusters)\n",
    "    kmeans. fit(data_set)\n",
    "    \n",
    "    # assign each sample to its closest cluster\n",
    "    cluster_labels = kmeans.predict(data_set)\n",
    "    \n",
    "    # fit EllipticEnveloppe model to each cluster\n",
    "    anomalies = np.zeros(data_set.shape[0], dtype= bool)\n",
    "    for i in range(n_clusters):\n",
    "        cluster = data_set[cluster_labels == i]\n",
    "        clf = EllipticEnvelope(contamination= contamination)\n",
    "        clf.fit(cluster)\n",
    "        anomalies[cluster_labels == i] = clf.predict(cluster) == -1\n",
    "\n",
    "    return anomalies"
   ]
  },
  {
   "cell_type": "code",
   "execution_count": 76,
   "id": "b0868fa5",
   "metadata": {},
   "outputs": [],
   "source": [
    "# generate some example data_set\n",
    "np.random.seed(0)\n",
    "n_samples = 1000\n",
    "data_set = np.random.normal(size=(n_samples,1))"
   ]
  },
  {
   "cell_type": "code",
   "execution_count": 77,
   "id": "afcd9844",
   "metadata": {},
   "outputs": [],
   "source": [
    "# add some anomalies\n",
    "data_set[:10] = np.random.normal(loc= 10, size=(10,1))"
   ]
  },
  {
   "cell_type": "code",
   "execution_count": 80,
   "id": "76175619",
   "metadata": {},
   "outputs": [
    {
     "name": "stderr",
     "output_type": "stream",
     "text": [
      "/opt/homebrew/lib/python3.10/site-packages/sklearn/cluster/_kmeans.py:870: FutureWarning: The default value of `n_init` will change from 10 to 'auto' in 1.4. Set the value of `n_init` explicitly to suppress the warning\n",
      "  warnings.warn(\n"
     ]
    }
   ],
   "source": [
    "# run anomaly detection\n",
    "anomalies = anomaly_detection(data_set)"
   ]
  },
  {
   "cell_type": "code",
   "execution_count": 83,
   "id": "cfd9e025",
   "metadata": {},
   "outputs": [
    {
     "data": {
      "image/png": "[encoded data removed]",
      "text/plain": [
       "<Figure size 640x480 with 1 Axes>"
      ]
     },
     "metadata": {},
     "output_type": "display_data"
    }
   ],
   "source": [
    "# plot the data with the anomalies\n",
    "df = pd.DataFrame(data, columns=[\"value\"])\n",
    "df[\"anomaly\"] = anomalies\n",
    "\n",
    "normal = df[df[\"anomaly\"] == False]\n",
    "abnormal = df[df[\"anomaly\"] == True]\n",
    "\n",
    "fig, ax = plt.subplots()\n",
    "ax.scatter(normal.index, normal[\"value\"], c = \"blue\", label = \"normal\")\n",
    "ax.scatter(abnormal.index, abnormal[\"value\"], c =\"red\", label= \"abnormal\")\n",
    "ax.legend()\n",
    "ax.set_title(\"Anomaly Detection\")\n",
    "ax.set_xlabel(\"Sample index\")\n",
    "ax.set_ylabel(\"Value\")\n",
    "plt.show()"
   ]
  },
  {
   "cell_type": "code",
   "execution_count": 86,
   "id": "bdc6d0c4",
   "metadata": {},
   "outputs": [
    {
     "data": {
      "image/png": "[encoded data removed]",
      "text/plain": [
       "<Figure size 640x480 with 1 Axes>"
      ]
     },
     "metadata": {},
     "output_type": "display_data"
    }
   ],
   "source": [
    "# plot the data and the anomalies using an histogram\n",
    "df = pd.DataFrame(data, columns=[\"value\"])\n",
    "df[\"anomaly\"] = anomalies\n",
    "\n",
    "normal = df[df[\"anomaly\"]==False][\"value\"]\n",
    "abnormal = df[df[\"anomaly\"]==True][\"value\"]\n",
    "fig, ax = plt.subplots()\n",
    "ax.hist([normal, abnormal], bins = 50, color=[\"blue\", \"red\"], stacked= True, alpha = 0.5, label=[\"normal\", \"abnormal\"])\n",
    "ax.legend()\n",
    "ax.set_title(\"Anomaly Detection\")\n",
    "ax.set_xlabel(\"Value\")\n",
    "ax.set_ylabel(\"Frequency\")\n",
    "plt.show()"
   ]
  },
  {
   "cell_type": "markdown",
   "id": "4a986770",
   "metadata": {},
   "source": [
    "### Anomaly detection algorithm using the Local Outlier Factor(LOF). "
   ]
  },
  {
   "cell_type": "code",
   "execution_count": 88,
   "id": "09d4dd1a",
   "metadata": {},
   "outputs": [],
   "source": [
    "from sklearn.neighbors import LocalOutlierFactor"
   ]
  },
  {
   "cell_type": "code",
   "execution_count": 101,
   "id": "0f15c00c",
   "metadata": {},
   "outputs": [],
   "source": [
    "# data: array-like, shape(n_samples, n_features)\n",
    "# the input data to train the model.\n",
    "\n",
    "#n_clusters: The number of clusters to use in the KMeans model\n",
    "#contamination: The amount of contamination of the data set,\n",
    "#i.e. the proportion of outliers in the data set. Used when fitting the LocalOutlierFactor\n",
    "#n_neighbors: The number of neighbors to use when fitting the LocalOutlierFactor\n",
    "\n",
    "# This function returns a boolean array indicating whether a sample is an anomaly (True) or not (False)\n",
    "\n",
    "def anomaly_detection(data_set, contamination= 0.1, n_neighbors=20):\n",
    "    # fit the local outlier factor to data set\n",
    "    clf = LocalOutlierFactor(contamination= contamination, n_neighbors= n_neighbors)\n",
    "    clf.fit(data_set)\n",
    "    \n",
    "    # predict anomalies\n",
    "    anomalies = clf.fit_predict(data_set) == -1\n",
    "    \n",
    "    return anomalies"
   ]
  },
  {
   "cell_type": "code",
   "execution_count": 102,
   "id": "03b4d775",
   "metadata": {},
   "outputs": [],
   "source": [
    "# generate some example data\n",
    "np.random.seed(0)\n",
    "n_samples = 1000\n",
    "data_set = np.random.normal(size=(n_samples,1))\n",
    "\n",
    "# add some anomalies\n",
    "data_set[:10] = np.random.normal(loc = 10, size=(10,1))"
   ]
  },
  {
   "cell_type": "code",
   "execution_count": 103,
   "id": "0a6c2104",
   "metadata": {},
   "outputs": [],
   "source": [
    "# run the anomaly detection\n",
    "anomalies = anomaly_detection(data_set)"
   ]
  },
  {
   "cell_type": "code",
   "execution_count": 104,
   "id": "87460dc0",
   "metadata": {},
   "outputs": [
    {
     "data": {
      "image/png": "[encoded data removed]",
      "text/plain": [
       "<Figure size 640x480 with 1 Axes>"
      ]
     },
     "metadata": {},
     "output_type": "display_data"
    }
   ],
   "source": [
    "# plot the data and anomalies\n",
    "df = pd.DataFrame(data, columns=[\"value\"])\n",
    "df[\"anomaly\"] = anomalies\n",
    "\n",
    "normal = df[df[\"anomaly\"] == False]\n",
    "abnormal = df[df[\"anomaly\"] == True]\n",
    "\n",
    "fig, ax = plt.subplots()\n",
    "ax.scatter(normal.index, normal[\"value\"], c = \"blue\", label = \"normal\")\n",
    "ax.scatter(abnormal.index, abnormal[\"value\"], c =\"red\", label= \"abnormal\")\n",
    "ax.legend()\n",
    "ax.set_title(\"Anomaly Detection\")\n",
    "ax.set_xlabel(\"Sample index\")\n",
    "ax.set_ylabel(\"Value\")\n",
    "plt.show()"
   ]
  },
  {
   "cell_type": "code",
   "execution_count": 106,
   "id": "e1afd864",
   "metadata": {},
   "outputs": [
    {
     "data": {
      "image/png": "[encoded data removed]",
      "text/plain": [
       "<Figure size 640x480 with 1 Axes>"
      ]
     },
     "metadata": {},
     "output_type": "display_data"
    }
   ],
   "source": [
    "# plot the data and anomalies using the an histogram\n",
    "normal =   data_set[anomalies == False]\n",
    "abnormal = data_set[anomalies == True]\n",
    "\n",
    "fig, ax = plt.subplots()\n",
    "ax.hist(normal, bins =50, color=\"blue\", alpha=0.5, label =\"normal\")\n",
    "ax.hist(abnormal, bins =50, color=\"red\", alpha=0.5, label =\"abnormal\")\n",
    "ax.legend()\n",
    "ax.set_title(\"Anomaly Detection\")\n",
    "ax.set_xlabel(\"Value\")\n",
    "ax.set_ylabel(\"Frequency\")\n",
    "plt.show()"
   ]
  }
 ],
 "metadata": {
  "kernelspec": {
   "display_name": "Python 3 (ipykernel)",
   "language": "python",
   "name": "python3"
  },
  "language_info": {
   "codemirror_mode": {
    "name": "ipython",
    "version": 3
   },
   "file_extension": ".py",
   "mimetype": "text/x-python",
   "name": "python",
   "nbconvert_exporter": "python",
   "pygments_lexer": "ipython3",
   "version": "3.10.8"
  }
 },
 "nbformat": 4,
 "nbformat_minor": 5
}
