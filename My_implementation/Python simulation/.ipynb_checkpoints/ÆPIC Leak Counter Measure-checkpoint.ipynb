{
 "cells": [
  {
   "cell_type": "markdown",
   "id": "ab367477",
   "metadata": {},
   "source": [
    "# <font size =\"28\">ÆPIC LEAK countermeasure implementation using AI</font>"
   ]
  },
  {
   "cell_type": "markdown",
   "id": "0501b061",
   "metadata": {},
   "source": [
    "---\n",
    "author: \"Sory Ibrahima BARRY\"\n",
    "\n",
    "date: \"14 Février 2023\"\n",
    "\n",
    "---"
   ]
  },
  {
   "cell_type": "markdown",
   "id": "d47bbd0c",
   "metadata": {},
   "source": [
    "<font size = \"4\">The ÆPIC Leak has become one of the most pressing issues in the field of microarchitecture cybersecurity.\n",
    "The leak has resulted in the exposure of sensitive information and has had a significant impact on individuals, organizations, and governments worldwide. In order to address this issue and prevent future breaches, it is crucial to understand the underlying causes and identify countermeasures.</font>\n",
    "\n",
    "<font size = \"4\">One approach to addressing the ÆPIC Leak is the use of **Machine Learning** algorithms. Machine Learning algorithms have the ability to analyze large amounts of data and identify patterns and trends that may not be immediatly apparent. In this notebook, we will explore three different machine learning algorithms - Logistic Regression, Decision Trees, and Anomaly Detection - and their potential applications in addressing the ÆPIC Leak.</font>\n",
    "\n",
    "<font size = \"4\">Specially, we will analyze some random data to emulate ÆPIC Leak, using Logistic Regression to predict the likelihood of a breach based on past data, Decision Trees to identify the most important factors contributing to a breach, and Anomaly Detection to identify unusual behaviour in the data. We will also compare three different annomaly detection algorithms - the Local Outlier Factor(LOF), algorithm, KMeans clustering and the Elliptic Envelope - to determine their effectiveness in detecting anomalies related to ÆPIC Leak.</font>\n",
    "\n",
    "<font size = \"4\">Through this analysis, we aim to provide insights into the potential applications of machine learning algorithms in addressing ÆPIC Leak and the ongoing efforts to prevent future breaches.</font>"
   ]
  },
  {
   "cell_type": "markdown",
   "id": "8028a51e",
   "metadata": {},
   "source": [
    "# <font size = \"14\">  Supervised Learning</font>"
   ]
  },
  {
   "cell_type": "markdown",
   "id": "37cf62d7",
   "metadata": {},
   "source": [
    "<font size = \"4\"> Mathematically, superveised learning is where you have some input variable X and an output variable Y, and you use an algorithm to learn the mappig function from the input to the output. \n",
    "The goal is to approximate the mapping function so wel that whenever you have a new input data, you could predict the output variable. To make it simple, it is a machine learning method where each instances of a training dataset is composed of different input attribute and ean expected output. The input attributes of a training dataset can be of any kind of data, it can be pixel of image, it can be a value of a data base row,etc...</font>\n",
    "\n",
    "<font size = \"4\">For each input instance, an output value is associated. The value can be discret, representing a cathegory, or it can be a real or continous value. In either case, the algorithm learns the input pattern that generate the expected output.\n",
    "Once the algotithm is trained, it can be used to predict the output of a never seen input.</font>\n",
    "    \n",
    "<font size = \"4\">In this presentation, we will use some Supervised Learning algorithms such as Logistic Regression and Decision Trees.\n",
    "</font>"
   ]
  },
  {
   "cell_type": "markdown",
   "id": "a1867b0a",
   "metadata": {},
   "source": [
    "# <font size = \"6\">  Classification</font>"
   ]
  },
  {
   "cell_type": "markdown",
   "id": "71aa9590",
   "metadata": {},
   "source": [
    "<font size = \"4\">Classification is a supervised learning approach in which the computer program learns from the input given to it and then uses this learning to classify new observations.\n",
    "Some examples of classification problems are: speech organization, handwriting recognization, biometric recognization etc...\n",
    "</font>"
   ]
  },
  {
   "cell_type": "markdown",
   "id": "5cd6d5fd",
   "metadata": {},
   "source": [
    "# Logistic Regression"
   ]
  },
  {
   "cell_type": "markdown",
   "id": "345064b3",
   "metadata": {},
   "source": [
    "<font size = \"4\"> Regression is one of the most importan and broadly used machine learning and statistics tool.\n",
    "It allows you to make prediction from data by learning the relationship between the features of your data and some observe continous valued response.\n",
    "</font>\n",
    "\n",
    "<font size = \"4\">In this part of the implementation, I will use a random dataset, the famous titanic.csv file. The choice of the algorithm depend on the dataset chosen, and the acuracy of a model depend on the data set as well as on the algorithm chosen. The predictions may vary, and it is important to use different models for the prediction of the same dataset in order to make the best choice.</font>"
   ]
  },
  {
   "cell_type": "markdown",
   "id": "839ea459",
   "metadata": {},
   "source": [
    "### Step 1: Data collection"
   ]
  },
  {
   "cell_type": "code",
   "execution_count": 1,
   "id": "5c6d8f16",
   "metadata": {},
   "outputs": [
    {
     "data": {
      "text/html": [
       "<div>\n",
       "<style scoped>\n",
       "    .dataframe tbody tr th:only-of-type {\n",
       "        vertical-align: middle;\n",
       "    }\n",
       "\n",
       "    .dataframe tbody tr th {\n",
       "        vertical-align: top;\n",
       "    }\n",
       "\n",
       "    .dataframe thead th {\n",
       "        text-align: right;\n",
       "    }\n",
       "</style>\n",
       "<table border=\"1\" class=\"dataframe\">\n",
       "  <thead>\n",
       "    <tr style=\"text-align: right;\">\n",
       "      <th></th>\n",
       "      <th>PassengerId</th>\n",
       "      <th>Survived</th>\n",
       "      <th>Pclass</th>\n",
       "      <th>Name</th>\n",
       "      <th>Sex</th>\n",
       "      <th>Age</th>\n",
       "      <th>SibSp</th>\n",
       "      <th>Parch</th>\n",
       "      <th>Ticket</th>\n",
       "      <th>Fare</th>\n",
       "      <th>Cabin</th>\n",
       "      <th>Embarked</th>\n",
       "    </tr>\n",
       "  </thead>\n",
       "  <tbody>\n",
       "    <tr>\n",
       "      <th>0</th>\n",
       "      <td>1</td>\n",
       "      <td>0</td>\n",
       "      <td>3</td>\n",
       "      <td>Braund, Mr. Owen Harris</td>\n",
       "      <td>male</td>\n",
       "      <td>22.0</td>\n",
       "      <td>1</td>\n",
       "      <td>0</td>\n",
       "      <td>A/5 21171</td>\n",
       "      <td>7.2500</td>\n",
       "      <td>NaN</td>\n",
       "      <td>S</td>\n",
       "    </tr>\n",
       "    <tr>\n",
       "      <th>1</th>\n",
       "      <td>2</td>\n",
       "      <td>1</td>\n",
       "      <td>1</td>\n",
       "      <td>Cumings, Mrs. John Bradley (Florence Briggs Th...</td>\n",
       "      <td>female</td>\n",
       "      <td>38.0</td>\n",
       "      <td>1</td>\n",
       "      <td>0</td>\n",
       "      <td>PC 17599</td>\n",
       "      <td>71.2833</td>\n",
       "      <td>C85</td>\n",
       "      <td>C</td>\n",
       "    </tr>\n",
       "    <tr>\n",
       "      <th>2</th>\n",
       "      <td>3</td>\n",
       "      <td>1</td>\n",
       "      <td>3</td>\n",
       "      <td>Heikkinen, Miss. Laina</td>\n",
       "      <td>female</td>\n",
       "      <td>26.0</td>\n",
       "      <td>0</td>\n",
       "      <td>0</td>\n",
       "      <td>STON/O2. 3101282</td>\n",
       "      <td>7.9250</td>\n",
       "      <td>NaN</td>\n",
       "      <td>S</td>\n",
       "    </tr>\n",
       "    <tr>\n",
       "      <th>3</th>\n",
       "      <td>4</td>\n",
       "      <td>1</td>\n",
       "      <td>1</td>\n",
       "      <td>Futrelle, Mrs. Jacques Heath (Lily May Peel)</td>\n",
       "      <td>female</td>\n",
       "      <td>35.0</td>\n",
       "      <td>1</td>\n",
       "      <td>0</td>\n",
       "      <td>113803</td>\n",
       "      <td>53.1000</td>\n",
       "      <td>C123</td>\n",
       "      <td>S</td>\n",
       "    </tr>\n",
       "    <tr>\n",
       "      <th>4</th>\n",
       "      <td>5</td>\n",
       "      <td>0</td>\n",
       "      <td>3</td>\n",
       "      <td>Allen, Mr. William Henry</td>\n",
       "      <td>male</td>\n",
       "      <td>35.0</td>\n",
       "      <td>0</td>\n",
       "      <td>0</td>\n",
       "      <td>373450</td>\n",
       "      <td>8.0500</td>\n",
       "      <td>NaN</td>\n",
       "      <td>S</td>\n",
       "    </tr>\n",
       "    <tr>\n",
       "      <th>5</th>\n",
       "      <td>6</td>\n",
       "      <td>0</td>\n",
       "      <td>3</td>\n",
       "      <td>Moran, Mr. James</td>\n",
       "      <td>male</td>\n",
       "      <td>NaN</td>\n",
       "      <td>0</td>\n",
       "      <td>0</td>\n",
       "      <td>330877</td>\n",
       "      <td>8.4583</td>\n",
       "      <td>NaN</td>\n",
       "      <td>Q</td>\n",
       "    </tr>\n",
       "    <tr>\n",
       "      <th>6</th>\n",
       "      <td>7</td>\n",
       "      <td>0</td>\n",
       "      <td>1</td>\n",
       "      <td>McCarthy, Mr. Timothy J</td>\n",
       "      <td>male</td>\n",
       "      <td>54.0</td>\n",
       "      <td>0</td>\n",
       "      <td>0</td>\n",
       "      <td>17463</td>\n",
       "      <td>51.8625</td>\n",
       "      <td>E46</td>\n",
       "      <td>S</td>\n",
       "    </tr>\n",
       "    <tr>\n",
       "      <th>7</th>\n",
       "      <td>8</td>\n",
       "      <td>0</td>\n",
       "      <td>3</td>\n",
       "      <td>Palsson, Master. Gosta Leonard</td>\n",
       "      <td>male</td>\n",
       "      <td>2.0</td>\n",
       "      <td>3</td>\n",
       "      <td>1</td>\n",
       "      <td>349909</td>\n",
       "      <td>21.0750</td>\n",
       "      <td>NaN</td>\n",
       "      <td>S</td>\n",
       "    </tr>\n",
       "    <tr>\n",
       "      <th>8</th>\n",
       "      <td>9</td>\n",
       "      <td>1</td>\n",
       "      <td>3</td>\n",
       "      <td>Johnson, Mrs. Oscar W (Elisabeth Vilhelmina Berg)</td>\n",
       "      <td>female</td>\n",
       "      <td>27.0</td>\n",
       "      <td>0</td>\n",
       "      <td>2</td>\n",
       "      <td>347742</td>\n",
       "      <td>11.1333</td>\n",
       "      <td>NaN</td>\n",
       "      <td>S</td>\n",
       "    </tr>\n",
       "    <tr>\n",
       "      <th>9</th>\n",
       "      <td>10</td>\n",
       "      <td>1</td>\n",
       "      <td>2</td>\n",
       "      <td>Nasser, Mrs. Nicholas (Adele Achem)</td>\n",
       "      <td>female</td>\n",
       "      <td>14.0</td>\n",
       "      <td>1</td>\n",
       "      <td>0</td>\n",
       "      <td>237736</td>\n",
       "      <td>30.0708</td>\n",
       "      <td>NaN</td>\n",
       "      <td>C</td>\n",
       "    </tr>\n",
       "  </tbody>\n",
       "</table>\n",
       "</div>"
      ],
      "text/plain": [
       "   PassengerId  Survived  Pclass  \\\n",
       "0            1         0       3   \n",
       "1            2         1       1   \n",
       "2            3         1       3   \n",
       "3            4         1       1   \n",
       "4            5         0       3   \n",
       "5            6         0       3   \n",
       "6            7         0       1   \n",
       "7            8         0       3   \n",
       "8            9         1       3   \n",
       "9           10         1       2   \n",
       "\n",
       "                                                Name     Sex   Age  SibSp  \\\n",
       "0                            Braund, Mr. Owen Harris    male  22.0      1   \n",
       "1  Cumings, Mrs. John Bradley (Florence Briggs Th...  female  38.0      1   \n",
       "2                             Heikkinen, Miss. Laina  female  26.0      0   \n",
       "3       Futrelle, Mrs. Jacques Heath (Lily May Peel)  female  35.0      1   \n",
       "4                           Allen, Mr. William Henry    male  35.0      0   \n",
       "5                                   Moran, Mr. James    male   NaN      0   \n",
       "6                            McCarthy, Mr. Timothy J    male  54.0      0   \n",
       "7                     Palsson, Master. Gosta Leonard    male   2.0      3   \n",
       "8  Johnson, Mrs. Oscar W (Elisabeth Vilhelmina Berg)  female  27.0      0   \n",
       "9                Nasser, Mrs. Nicholas (Adele Achem)  female  14.0      1   \n",
       "\n",
       "   Parch            Ticket     Fare Cabin Embarked  \n",
       "0      0         A/5 21171   7.2500   NaN        S  \n",
       "1      0          PC 17599  71.2833   C85        C  \n",
       "2      0  STON/O2. 3101282   7.9250   NaN        S  \n",
       "3      0            113803  53.1000  C123        S  \n",
       "4      0            373450   8.0500   NaN        S  \n",
       "5      0            330877   8.4583   NaN        Q  \n",
       "6      0             17463  51.8625   E46        S  \n",
       "7      1            349909  21.0750   NaN        S  \n",
       "8      2            347742  11.1333   NaN        S  \n",
       "9      0            237736  30.0708   NaN        C  "
      ]
     },
     "execution_count": 1,
     "metadata": {},
     "output_type": "execute_result"
    }
   ],
   "source": [
    "import pandas as pd\n",
    "import numpy as np\n",
    "import seaborn as sns\n",
    "import matplotlib.pyplot as plt\n",
    "%matplotlib inline\n",
    "import math\n",
    "\n",
    "titanic_data = pd.read_csv('titanic.csv')\n",
    "titanic_data.head(10)"
   ]
  },
  {
   "cell_type": "code",
   "execution_count": 2,
   "id": "81d5f779",
   "metadata": {},
   "outputs": [
    {
     "name": "stdout",
     "output_type": "stream",
     "text": [
      "Number of passengers in original data:891\n"
     ]
    }
   ],
   "source": [
    "print(\"Number of passengers in original data:\" +str(len(titanic_data.index)))"
   ]
  },
  {
   "cell_type": "markdown",
   "id": "23b33f39",
   "metadata": {},
   "source": [
    "### Step 2: Analyzing Data"
   ]
  },
  {
   "cell_type": "code",
   "execution_count": 3,
   "id": "31f1a05b",
   "metadata": {},
   "outputs": [
    {
     "data": {
      "text/plain": [
       "<AxesSubplot: xlabel='Survived', ylabel='count'>"
      ]
     },
     "execution_count": 3,
     "metadata": {},
     "output_type": "execute_result"
    },
    {
     "data": {
      "image/png": "[encoded data removed]",
      "text/plain": [
       "<Figure size 640x480 with 1 Axes>"
      ]
     },
     "metadata": {},
     "output_type": "display_data"
    }
   ],
   "source": [
    "sns.countplot(x=\"Survived\", data = titanic_data)"
   ]
  },
  {
   "cell_type": "code",
   "execution_count": 4,
   "id": "5e879287",
   "metadata": {},
   "outputs": [
    {
     "data": {
      "text/plain": [
       "<AxesSubplot: xlabel='Survived', ylabel='count'>"
      ]
     },
     "execution_count": 4,
     "metadata": {},
     "output_type": "execute_result"
    },
    {
     "data": {
      "image/png": "[encoded data removed]",
      "text/plain": [
       "<Figure size 640x480 with 1 Axes>"
      ]
     },
     "metadata": {},
     "output_type": "display_data"
    }
   ],
   "source": [
    "sns.countplot(x =\"Survived\", hue=\"Sex\", data = titanic_data)"
   ]
  },
  {
   "cell_type": "code",
   "execution_count": 5,
   "id": "74d79f7a",
   "metadata": {},
   "outputs": [
    {
     "data": {
      "text/plain": [
       "<AxesSubplot: xlabel='Survived', ylabel='count'>"
      ]
     },
     "execution_count": 5,
     "metadata": {},
     "output_type": "execute_result"
    },
    {
     "data": {
      "image/png": "[encoded data removed]",
      "text/plain": [
       "<Figure size 640x480 with 1 Axes>"
      ]
     },
     "metadata": {},
     "output_type": "display_data"
    }
   ],
   "source": [
    "sns.countplot(x =\"Survived\", hue=\"Pclass\", data = titanic_data)"
   ]
  },
  {
   "cell_type": "code",
   "execution_count": 6,
   "id": "5c47b8ef",
   "metadata": {},
   "outputs": [
    {
     "data": {
      "text/plain": [
       "<AxesSubplot: ylabel='Frequency'>"
      ]
     },
     "execution_count": 6,
     "metadata": {},
     "output_type": "execute_result"
    },
    {
     "data": {
      "image/png": "[encoded data removed]",
      "text/plain": [
       "<Figure size 640x480 with 1 Axes>"
      ]
     },
     "metadata": {},
     "output_type": "display_data"
    }
   ],
   "source": [
    "titanic_data[\"Age\"].plot.hist()"
   ]
  },
  {
   "cell_type": "code",
   "execution_count": 7,
   "id": "7ddb6bfd",
   "metadata": {},
   "outputs": [
    {
     "data": {
      "text/plain": [
       "<AxesSubplot: ylabel='Frequency'>"
      ]
     },
     "execution_count": 7,
     "metadata": {},
     "output_type": "execute_result"
    },
    {
     "data": {
      "image/png": "[encoded data removed]",
      "text/plain": [
       "<Figure size 1000x500 with 1 Axes>"
      ]
     },
     "metadata": {},
     "output_type": "display_data"
    }
   ],
   "source": [
    "titanic_data[\"Fare\"].plot.hist(bins=20, figsize= (10,5))"
   ]
  },
  {
   "cell_type": "code",
   "execution_count": 8,
   "id": "88e9dc22",
   "metadata": {},
   "outputs": [
    {
     "name": "stdout",
     "output_type": "stream",
     "text": [
      "<class 'pandas.core.frame.DataFrame'>\n",
      "RangeIndex: 891 entries, 0 to 890\n",
      "Data columns (total 12 columns):\n",
      " #   Column       Non-Null Count  Dtype  \n",
      "---  ------       --------------  -----  \n",
      " 0   PassengerId  891 non-null    int64  \n",
      " 1   Survived     891 non-null    int64  \n",
      " 2   Pclass       891 non-null    int64  \n",
      " 3   Name         891 non-null    object \n",
      " 4   Sex          891 non-null    object \n",
      " 5   Age          714 non-null    float64\n",
      " 6   SibSp        891 non-null    int64  \n",
      " 7   Parch        891 non-null    int64  \n",
      " 8   Ticket       891 non-null    object \n",
      " 9   Fare         891 non-null    float64\n",
      " 10  Cabin        204 non-null    object \n",
      " 11  Embarked     889 non-null    object \n",
      "dtypes: float64(2), int64(5), object(5)\n",
      "memory usage: 83.7+ KB\n"
     ]
    }
   ],
   "source": [
    "titanic_data.info()"
   ]
  },
  {
   "cell_type": "code",
   "execution_count": 9,
   "id": "1431b242",
   "metadata": {},
   "outputs": [
    {
     "data": {
      "text/plain": [
       "<AxesSubplot: xlabel='SibSp', ylabel='count'>"
      ]
     },
     "execution_count": 9,
     "metadata": {},
     "output_type": "execute_result"
    },
    {
     "data": {
      "image/png": "[encoded data removed]",
      "text/plain": [
       "<Figure size 640x480 with 1 Axes>"
      ]
     },
     "metadata": {},
     "output_type": "display_data"
    }
   ],
   "source": [
    "sns.countplot(x=\"SibSp\", data= titanic_data)"
   ]
  },
  {
   "cell_type": "markdown",
   "id": "46abafe2",
   "metadata": {},
   "source": [
    "###  Step 3: Data Wrangling"
   ]
  },
  {
   "cell_type": "code",
   "execution_count": 10,
   "id": "c95489c4",
   "metadata": {},
   "outputs": [
    {
     "data": {
      "text/html": [
       "<div>\n",
       "<style scoped>\n",
       "    .dataframe tbody tr th:only-of-type {\n",
       "        vertical-align: middle;\n",
       "    }\n",
       "\n",
       "    .dataframe tbody tr th {\n",
       "        vertical-align: top;\n",
       "    }\n",
       "\n",
       "    .dataframe thead th {\n",
       "        text-align: right;\n",
       "    }\n",
       "</style>\n",
       "<table border=\"1\" class=\"dataframe\">\n",
       "  <thead>\n",
       "    <tr style=\"text-align: right;\">\n",
       "      <th></th>\n",
       "      <th>PassengerId</th>\n",
       "      <th>Survived</th>\n",
       "      <th>Pclass</th>\n",
       "      <th>Name</th>\n",
       "      <th>Sex</th>\n",
       "      <th>Age</th>\n",
       "      <th>SibSp</th>\n",
       "      <th>Parch</th>\n",
       "      <th>Ticket</th>\n",
       "      <th>Fare</th>\n",
       "      <th>Cabin</th>\n",
       "      <th>Embarked</th>\n",
       "    </tr>\n",
       "  </thead>\n",
       "  <tbody>\n",
       "    <tr>\n",
       "      <th>0</th>\n",
       "      <td>False</td>\n",
       "      <td>False</td>\n",
       "      <td>False</td>\n",
       "      <td>False</td>\n",
       "      <td>False</td>\n",
       "      <td>False</td>\n",
       "      <td>False</td>\n",
       "      <td>False</td>\n",
       "      <td>False</td>\n",
       "      <td>False</td>\n",
       "      <td>True</td>\n",
       "      <td>False</td>\n",
       "    </tr>\n",
       "    <tr>\n",
       "      <th>1</th>\n",
       "      <td>False</td>\n",
       "      <td>False</td>\n",
       "      <td>False</td>\n",
       "      <td>False</td>\n",
       "      <td>False</td>\n",
       "      <td>False</td>\n",
       "      <td>False</td>\n",
       "      <td>False</td>\n",
       "      <td>False</td>\n",
       "      <td>False</td>\n",
       "      <td>False</td>\n",
       "      <td>False</td>\n",
       "    </tr>\n",
       "    <tr>\n",
       "      <th>2</th>\n",
       "      <td>False</td>\n",
       "      <td>False</td>\n",
       "      <td>False</td>\n",
       "      <td>False</td>\n",
       "      <td>False</td>\n",
       "      <td>False</td>\n",
       "      <td>False</td>\n",
       "      <td>False</td>\n",
       "      <td>False</td>\n",
       "      <td>False</td>\n",
       "      <td>True</td>\n",
       "      <td>False</td>\n",
       "    </tr>\n",
       "    <tr>\n",
       "      <th>3</th>\n",
       "      <td>False</td>\n",
       "      <td>False</td>\n",
       "      <td>False</td>\n",
       "      <td>False</td>\n",
       "      <td>False</td>\n",
       "      <td>False</td>\n",
       "      <td>False</td>\n",
       "      <td>False</td>\n",
       "      <td>False</td>\n",
       "      <td>False</td>\n",
       "      <td>False</td>\n",
       "      <td>False</td>\n",
       "    </tr>\n",
       "    <tr>\n",
       "      <th>4</th>\n",
       "      <td>False</td>\n",
       "      <td>False</td>\n",
       "      <td>False</td>\n",
       "      <td>False</td>\n",
       "      <td>False</td>\n",
       "      <td>False</td>\n",
       "      <td>False</td>\n",
       "      <td>False</td>\n",
       "      <td>False</td>\n",
       "      <td>False</td>\n",
       "      <td>True</td>\n",
       "      <td>False</td>\n",
       "    </tr>\n",
       "    <tr>\n",
       "      <th>...</th>\n",
       "      <td>...</td>\n",
       "      <td>...</td>\n",
       "      <td>...</td>\n",
       "      <td>...</td>\n",
       "      <td>...</td>\n",
       "      <td>...</td>\n",
       "      <td>...</td>\n",
       "      <td>...</td>\n",
       "      <td>...</td>\n",
       "      <td>...</td>\n",
       "      <td>...</td>\n",
       "      <td>...</td>\n",
       "    </tr>\n",
       "    <tr>\n",
       "      <th>886</th>\n",
       "      <td>False</td>\n",
       "      <td>False</td>\n",
       "      <td>False</td>\n",
       "      <td>False</td>\n",
       "      <td>False</td>\n",
       "      <td>False</td>\n",
       "      <td>False</td>\n",
       "      <td>False</td>\n",
       "      <td>False</td>\n",
       "      <td>False</td>\n",
       "      <td>True</td>\n",
       "      <td>False</td>\n",
       "    </tr>\n",
       "    <tr>\n",
       "      <th>887</th>\n",
       "      <td>False</td>\n",
       "      <td>False</td>\n",
       "      <td>False</td>\n",
       "      <td>False</td>\n",
       "      <td>False</td>\n",
       "      <td>False</td>\n",
       "      <td>False</td>\n",
       "      <td>False</td>\n",
       "      <td>False</td>\n",
       "      <td>False</td>\n",
       "      <td>False</td>\n",
       "      <td>False</td>\n",
       "    </tr>\n",
       "    <tr>\n",
       "      <th>888</th>\n",
       "      <td>False</td>\n",
       "      <td>False</td>\n",
       "      <td>False</td>\n",
       "      <td>False</td>\n",
       "      <td>False</td>\n",
       "      <td>True</td>\n",
       "      <td>False</td>\n",
       "      <td>False</td>\n",
       "      <td>False</td>\n",
       "      <td>False</td>\n",
       "      <td>True</td>\n",
       "      <td>False</td>\n",
       "    </tr>\n",
       "    <tr>\n",
       "      <th>889</th>\n",
       "      <td>False</td>\n",
       "      <td>False</td>\n",
       "      <td>False</td>\n",
       "      <td>False</td>\n",
       "      <td>False</td>\n",
       "      <td>False</td>\n",
       "      <td>False</td>\n",
       "      <td>False</td>\n",
       "      <td>False</td>\n",
       "      <td>False</td>\n",
       "      <td>False</td>\n",
       "      <td>False</td>\n",
       "    </tr>\n",
       "    <tr>\n",
       "      <th>890</th>\n",
       "      <td>False</td>\n",
       "      <td>False</td>\n",
       "      <td>False</td>\n",
       "      <td>False</td>\n",
       "      <td>False</td>\n",
       "      <td>False</td>\n",
       "      <td>False</td>\n",
       "      <td>False</td>\n",
       "      <td>False</td>\n",
       "      <td>False</td>\n",
       "      <td>True</td>\n",
       "      <td>False</td>\n",
       "    </tr>\n",
       "  </tbody>\n",
       "</table>\n",
       "<p>891 rows × 12 columns</p>\n",
       "</div>"
      ],
      "text/plain": [
       "     PassengerId  Survived  Pclass   Name    Sex    Age  SibSp  Parch  Ticket  \\\n",
       "0          False     False   False  False  False  False  False  False   False   \n",
       "1          False     False   False  False  False  False  False  False   False   \n",
       "2          False     False   False  False  False  False  False  False   False   \n",
       "3          False     False   False  False  False  False  False  False   False   \n",
       "4          False     False   False  False  False  False  False  False   False   \n",
       "..           ...       ...     ...    ...    ...    ...    ...    ...     ...   \n",
       "886        False     False   False  False  False  False  False  False   False   \n",
       "887        False     False   False  False  False  False  False  False   False   \n",
       "888        False     False   False  False  False   True  False  False   False   \n",
       "889        False     False   False  False  False  False  False  False   False   \n",
       "890        False     False   False  False  False  False  False  False   False   \n",
       "\n",
       "      Fare  Cabin  Embarked  \n",
       "0    False   True     False  \n",
       "1    False  False     False  \n",
       "2    False   True     False  \n",
       "3    False  False     False  \n",
       "4    False   True     False  \n",
       "..     ...    ...       ...  \n",
       "886  False   True     False  \n",
       "887  False  False     False  \n",
       "888  False   True     False  \n",
       "889  False  False     False  \n",
       "890  False   True     False  \n",
       "\n",
       "[891 rows x 12 columns]"
      ]
     },
     "execution_count": 10,
     "metadata": {},
     "output_type": "execute_result"
    }
   ],
   "source": [
    "titanic_data.isnull()"
   ]
  },
  {
   "cell_type": "code",
   "execution_count": 11,
   "id": "ba0a0d48",
   "metadata": {},
   "outputs": [
    {
     "data": {
      "text/plain": [
       "PassengerId      0\n",
       "Survived         0\n",
       "Pclass           0\n",
       "Name             0\n",
       "Sex              0\n",
       "Age            177\n",
       "SibSp            0\n",
       "Parch            0\n",
       "Ticket           0\n",
       "Fare             0\n",
       "Cabin          687\n",
       "Embarked         2\n",
       "dtype: int64"
      ]
     },
     "execution_count": 11,
     "metadata": {},
     "output_type": "execute_result"
    }
   ],
   "source": [
    "titanic_data.isnull().sum()"
   ]
  },
  {
   "cell_type": "code",
   "execution_count": 12,
   "id": "48229e17",
   "metadata": {},
   "outputs": [
    {
     "data": {
      "text/plain": [
       "<AxesSubplot: >"
      ]
     },
     "execution_count": 12,
     "metadata": {},
     "output_type": "execute_result"
    },
    {
     "data": {
      "image/png": "[encoded data removed]",
      "text/plain": [
       "<Figure size 640x480 with 2 Axes>"
      ]
     },
     "metadata": {},
     "output_type": "display_data"
    }
   ],
   "source": [
    "sns.heatmap(titanic_data.isnull(), yticklabels=False, cmap=\"viridis\")"
   ]
  },
  {
   "cell_type": "code",
   "execution_count": 13,
   "id": "55e2cdf6",
   "metadata": {},
   "outputs": [
    {
     "data": {
      "text/plain": [
       "<AxesSubplot: xlabel='Pclass', ylabel='Age'>"
      ]
     },
     "execution_count": 13,
     "metadata": {},
     "output_type": "execute_result"
    },
    {
     "data": {
      "image/png": "[encoded data removed]",
      "text/plain": [
       "<Figure size 640x480 with 1 Axes>"
      ]
     },
     "metadata": {},
     "output_type": "display_data"
    }
   ],
   "source": [
    "sns.boxplot(x=\"Pclass\", y=\"Age\", data=titanic_data)"
   ]
  },
  {
   "cell_type": "code",
   "execution_count": 14,
   "id": "28b717d6",
   "metadata": {},
   "outputs": [
    {
     "data": {
      "text/html": [
       "<div>\n",
       "<style scoped>\n",
       "    .dataframe tbody tr th:only-of-type {\n",
       "        vertical-align: middle;\n",
       "    }\n",
       "\n",
       "    .dataframe tbody tr th {\n",
       "        vertical-align: top;\n",
       "    }\n",
       "\n",
       "    .dataframe thead th {\n",
       "        text-align: right;\n",
       "    }\n",
       "</style>\n",
       "<table border=\"1\" class=\"dataframe\">\n",
       "  <thead>\n",
       "    <tr style=\"text-align: right;\">\n",
       "      <th></th>\n",
       "      <th>PassengerId</th>\n",
       "      <th>Survived</th>\n",
       "      <th>Pclass</th>\n",
       "      <th>Name</th>\n",
       "      <th>Sex</th>\n",
       "      <th>Age</th>\n",
       "      <th>SibSp</th>\n",
       "      <th>Parch</th>\n",
       "      <th>Ticket</th>\n",
       "      <th>Fare</th>\n",
       "      <th>Cabin</th>\n",
       "      <th>Embarked</th>\n",
       "    </tr>\n",
       "  </thead>\n",
       "  <tbody>\n",
       "    <tr>\n",
       "      <th>0</th>\n",
       "      <td>1</td>\n",
       "      <td>0</td>\n",
       "      <td>3</td>\n",
       "      <td>Braund, Mr. Owen Harris</td>\n",
       "      <td>male</td>\n",
       "      <td>22.0</td>\n",
       "      <td>1</td>\n",
       "      <td>0</td>\n",
       "      <td>A/5 21171</td>\n",
       "      <td>7.2500</td>\n",
       "      <td>NaN</td>\n",
       "      <td>S</td>\n",
       "    </tr>\n",
       "    <tr>\n",
       "      <th>1</th>\n",
       "      <td>2</td>\n",
       "      <td>1</td>\n",
       "      <td>1</td>\n",
       "      <td>Cumings, Mrs. John Bradley (Florence Briggs Th...</td>\n",
       "      <td>female</td>\n",
       "      <td>38.0</td>\n",
       "      <td>1</td>\n",
       "      <td>0</td>\n",
       "      <td>PC 17599</td>\n",
       "      <td>71.2833</td>\n",
       "      <td>C85</td>\n",
       "      <td>C</td>\n",
       "    </tr>\n",
       "    <tr>\n",
       "      <th>2</th>\n",
       "      <td>3</td>\n",
       "      <td>1</td>\n",
       "      <td>3</td>\n",
       "      <td>Heikkinen, Miss. Laina</td>\n",
       "      <td>female</td>\n",
       "      <td>26.0</td>\n",
       "      <td>0</td>\n",
       "      <td>0</td>\n",
       "      <td>STON/O2. 3101282</td>\n",
       "      <td>7.9250</td>\n",
       "      <td>NaN</td>\n",
       "      <td>S</td>\n",
       "    </tr>\n",
       "    <tr>\n",
       "      <th>3</th>\n",
       "      <td>4</td>\n",
       "      <td>1</td>\n",
       "      <td>1</td>\n",
       "      <td>Futrelle, Mrs. Jacques Heath (Lily May Peel)</td>\n",
       "      <td>female</td>\n",
       "      <td>35.0</td>\n",
       "      <td>1</td>\n",
       "      <td>0</td>\n",
       "      <td>113803</td>\n",
       "      <td>53.1000</td>\n",
       "      <td>C123</td>\n",
       "      <td>S</td>\n",
       "    </tr>\n",
       "    <tr>\n",
       "      <th>4</th>\n",
       "      <td>5</td>\n",
       "      <td>0</td>\n",
       "      <td>3</td>\n",
       "      <td>Allen, Mr. William Henry</td>\n",
       "      <td>male</td>\n",
       "      <td>35.0</td>\n",
       "      <td>0</td>\n",
       "      <td>0</td>\n",
       "      <td>373450</td>\n",
       "      <td>8.0500</td>\n",
       "      <td>NaN</td>\n",
       "      <td>S</td>\n",
       "    </tr>\n",
       "  </tbody>\n",
       "</table>\n",
       "</div>"
      ],
      "text/plain": [
       "   PassengerId  Survived  Pclass  \\\n",
       "0            1         0       3   \n",
       "1            2         1       1   \n",
       "2            3         1       3   \n",
       "3            4         1       1   \n",
       "4            5         0       3   \n",
       "\n",
       "                                                Name     Sex   Age  SibSp  \\\n",
       "0                            Braund, Mr. Owen Harris    male  22.0      1   \n",
       "1  Cumings, Mrs. John Bradley (Florence Briggs Th...  female  38.0      1   \n",
       "2                             Heikkinen, Miss. Laina  female  26.0      0   \n",
       "3       Futrelle, Mrs. Jacques Heath (Lily May Peel)  female  35.0      1   \n",
       "4                           Allen, Mr. William Henry    male  35.0      0   \n",
       "\n",
       "   Parch            Ticket     Fare Cabin Embarked  \n",
       "0      0         A/5 21171   7.2500   NaN        S  \n",
       "1      0          PC 17599  71.2833   C85        C  \n",
       "2      0  STON/O2. 3101282   7.9250   NaN        S  \n",
       "3      0            113803  53.1000  C123        S  \n",
       "4      0            373450   8.0500   NaN        S  "
      ]
     },
     "execution_count": 14,
     "metadata": {},
     "output_type": "execute_result"
    }
   ],
   "source": [
    "titanic_data.head((5))"
   ]
  },
  {
   "cell_type": "code",
   "execution_count": 15,
   "id": "10c1f98c",
   "metadata": {},
   "outputs": [],
   "source": [
    "titanic_data.drop(\"Cabin\", axis=1, inplace=True)"
   ]
  },
  {
   "cell_type": "code",
   "execution_count": 16,
   "id": "c5283b4e",
   "metadata": {},
   "outputs": [
    {
     "data": {
      "text/html": [
       "<div>\n",
       "<style scoped>\n",
       "    .dataframe tbody tr th:only-of-type {\n",
       "        vertical-align: middle;\n",
       "    }\n",
       "\n",
       "    .dataframe tbody tr th {\n",
       "        vertical-align: top;\n",
       "    }\n",
       "\n",
       "    .dataframe thead th {\n",
       "        text-align: right;\n",
       "    }\n",
       "</style>\n",
       "<table border=\"1\" class=\"dataframe\">\n",
       "  <thead>\n",
       "    <tr style=\"text-align: right;\">\n",
       "      <th></th>\n",
       "      <th>PassengerId</th>\n",
       "      <th>Survived</th>\n",
       "      <th>Pclass</th>\n",
       "      <th>Name</th>\n",
       "      <th>Sex</th>\n",
       "      <th>Age</th>\n",
       "      <th>SibSp</th>\n",
       "      <th>Parch</th>\n",
       "      <th>Ticket</th>\n",
       "      <th>Fare</th>\n",
       "      <th>Embarked</th>\n",
       "    </tr>\n",
       "  </thead>\n",
       "  <tbody>\n",
       "    <tr>\n",
       "      <th>0</th>\n",
       "      <td>1</td>\n",
       "      <td>0</td>\n",
       "      <td>3</td>\n",
       "      <td>Braund, Mr. Owen Harris</td>\n",
       "      <td>male</td>\n",
       "      <td>22.0</td>\n",
       "      <td>1</td>\n",
       "      <td>0</td>\n",
       "      <td>A/5 21171</td>\n",
       "      <td>7.2500</td>\n",
       "      <td>S</td>\n",
       "    </tr>\n",
       "    <tr>\n",
       "      <th>1</th>\n",
       "      <td>2</td>\n",
       "      <td>1</td>\n",
       "      <td>1</td>\n",
       "      <td>Cumings, Mrs. John Bradley (Florence Briggs Th...</td>\n",
       "      <td>female</td>\n",
       "      <td>38.0</td>\n",
       "      <td>1</td>\n",
       "      <td>0</td>\n",
       "      <td>PC 17599</td>\n",
       "      <td>71.2833</td>\n",
       "      <td>C</td>\n",
       "    </tr>\n",
       "    <tr>\n",
       "      <th>2</th>\n",
       "      <td>3</td>\n",
       "      <td>1</td>\n",
       "      <td>3</td>\n",
       "      <td>Heikkinen, Miss. Laina</td>\n",
       "      <td>female</td>\n",
       "      <td>26.0</td>\n",
       "      <td>0</td>\n",
       "      <td>0</td>\n",
       "      <td>STON/O2. 3101282</td>\n",
       "      <td>7.9250</td>\n",
       "      <td>S</td>\n",
       "    </tr>\n",
       "    <tr>\n",
       "      <th>3</th>\n",
       "      <td>4</td>\n",
       "      <td>1</td>\n",
       "      <td>1</td>\n",
       "      <td>Futrelle, Mrs. Jacques Heath (Lily May Peel)</td>\n",
       "      <td>female</td>\n",
       "      <td>35.0</td>\n",
       "      <td>1</td>\n",
       "      <td>0</td>\n",
       "      <td>113803</td>\n",
       "      <td>53.1000</td>\n",
       "      <td>S</td>\n",
       "    </tr>\n",
       "    <tr>\n",
       "      <th>4</th>\n",
       "      <td>5</td>\n",
       "      <td>0</td>\n",
       "      <td>3</td>\n",
       "      <td>Allen, Mr. William Henry</td>\n",
       "      <td>male</td>\n",
       "      <td>35.0</td>\n",
       "      <td>0</td>\n",
       "      <td>0</td>\n",
       "      <td>373450</td>\n",
       "      <td>8.0500</td>\n",
       "      <td>S</td>\n",
       "    </tr>\n",
       "  </tbody>\n",
       "</table>\n",
       "</div>"
      ],
      "text/plain": [
       "   PassengerId  Survived  Pclass  \\\n",
       "0            1         0       3   \n",
       "1            2         1       1   \n",
       "2            3         1       3   \n",
       "3            4         1       1   \n",
       "4            5         0       3   \n",
       "\n",
       "                                                Name     Sex   Age  SibSp  \\\n",
       "0                            Braund, Mr. Owen Harris    male  22.0      1   \n",
       "1  Cumings, Mrs. John Bradley (Florence Briggs Th...  female  38.0      1   \n",
       "2                             Heikkinen, Miss. Laina  female  26.0      0   \n",
       "3       Futrelle, Mrs. Jacques Heath (Lily May Peel)  female  35.0      1   \n",
       "4                           Allen, Mr. William Henry    male  35.0      0   \n",
       "\n",
       "   Parch            Ticket     Fare Embarked  \n",
       "0      0         A/5 21171   7.2500        S  \n",
       "1      0          PC 17599  71.2833        C  \n",
       "2      0  STON/O2. 3101282   7.9250        S  \n",
       "3      0            113803  53.1000        S  \n",
       "4      0            373450   8.0500        S  "
      ]
     },
     "execution_count": 16,
     "metadata": {},
     "output_type": "execute_result"
    }
   ],
   "source": [
    "titanic_data.head(5)"
   ]
  },
  {
   "cell_type": "code",
   "execution_count": 17,
   "id": "0a40d197",
   "metadata": {},
   "outputs": [],
   "source": [
    "titanic_data.dropna(inplace=True)"
   ]
  },
  {
   "cell_type": "code",
   "execution_count": 18,
   "id": "fa741e74",
   "metadata": {},
   "outputs": [
    {
     "data": {
      "text/plain": [
       "<AxesSubplot: >"
      ]
     },
     "execution_count": 18,
     "metadata": {},
     "output_type": "execute_result"
    },
    {
     "data": {
      "image/png": "[encoded data removed]",
      "text/plain": [
       "<Figure size 640x480 with 1 Axes>"
      ]
     },
     "metadata": {},
     "output_type": "display_data"
    }
   ],
   "source": [
    "sns.heatmap(titanic_data.isnull(), yticklabels=False, cbar=False)"
   ]
  },
  {
   "cell_type": "code",
   "execution_count": 19,
   "id": "04f32cdb",
   "metadata": {},
   "outputs": [
    {
     "data": {
      "text/plain": [
       "PassengerId    0\n",
       "Survived       0\n",
       "Pclass         0\n",
       "Name           0\n",
       "Sex            0\n",
       "Age            0\n",
       "SibSp          0\n",
       "Parch          0\n",
       "Ticket         0\n",
       "Fare           0\n",
       "Embarked       0\n",
       "dtype: int64"
      ]
     },
     "execution_count": 19,
     "metadata": {},
     "output_type": "execute_result"
    }
   ],
   "source": [
    "titanic_data.isnull().sum()"
   ]
  },
  {
   "cell_type": "code",
   "execution_count": 20,
   "id": "0628552e",
   "metadata": {
    "scrolled": true
   },
   "outputs": [
    {
     "data": {
      "text/html": [
       "<div>\n",
       "<style scoped>\n",
       "    .dataframe tbody tr th:only-of-type {\n",
       "        vertical-align: middle;\n",
       "    }\n",
       "\n",
       "    .dataframe tbody tr th {\n",
       "        vertical-align: top;\n",
       "    }\n",
       "\n",
       "    .dataframe thead th {\n",
       "        text-align: right;\n",
       "    }\n",
       "</style>\n",
       "<table border=\"1\" class=\"dataframe\">\n",
       "  <thead>\n",
       "    <tr style=\"text-align: right;\">\n",
       "      <th></th>\n",
       "      <th>PassengerId</th>\n",
       "      <th>Survived</th>\n",
       "      <th>Pclass</th>\n",
       "      <th>Name</th>\n",
       "      <th>Sex</th>\n",
       "      <th>Age</th>\n",
       "      <th>SibSp</th>\n",
       "      <th>Parch</th>\n",
       "      <th>Ticket</th>\n",
       "      <th>Fare</th>\n",
       "      <th>Embarked</th>\n",
       "    </tr>\n",
       "  </thead>\n",
       "  <tbody>\n",
       "    <tr>\n",
       "      <th>0</th>\n",
       "      <td>1</td>\n",
       "      <td>0</td>\n",
       "      <td>3</td>\n",
       "      <td>Braund, Mr. Owen Harris</td>\n",
       "      <td>male</td>\n",
       "      <td>22.0</td>\n",
       "      <td>1</td>\n",
       "      <td>0</td>\n",
       "      <td>A/5 21171</td>\n",
       "      <td>7.2500</td>\n",
       "      <td>S</td>\n",
       "    </tr>\n",
       "    <tr>\n",
       "      <th>1</th>\n",
       "      <td>2</td>\n",
       "      <td>1</td>\n",
       "      <td>1</td>\n",
       "      <td>Cumings, Mrs. John Bradley (Florence Briggs Th...</td>\n",
       "      <td>female</td>\n",
       "      <td>38.0</td>\n",
       "      <td>1</td>\n",
       "      <td>0</td>\n",
       "      <td>PC 17599</td>\n",
       "      <td>71.2833</td>\n",
       "      <td>C</td>\n",
       "    </tr>\n",
       "  </tbody>\n",
       "</table>\n",
       "</div>"
      ],
      "text/plain": [
       "   PassengerId  Survived  Pclass  \\\n",
       "0            1         0       3   \n",
       "1            2         1       1   \n",
       "\n",
       "                                                Name     Sex   Age  SibSp  \\\n",
       "0                            Braund, Mr. Owen Harris    male  22.0      1   \n",
       "1  Cumings, Mrs. John Bradley (Florence Briggs Th...  female  38.0      1   \n",
       "\n",
       "   Parch     Ticket     Fare Embarked  \n",
       "0      0  A/5 21171   7.2500        S  \n",
       "1      0   PC 17599  71.2833        C  "
      ]
     },
     "execution_count": 20,
     "metadata": {},
     "output_type": "execute_result"
    }
   ],
   "source": [
    "titanic_data.head(2)"
   ]
  },
  {
   "cell_type": "code",
   "execution_count": 21,
   "id": "466e3059",
   "metadata": {},
   "outputs": [
    {
     "data": {
      "text/html": [
       "<div>\n",
       "<style scoped>\n",
       "    .dataframe tbody tr th:only-of-type {\n",
       "        vertical-align: middle;\n",
       "    }\n",
       "\n",
       "    .dataframe tbody tr th {\n",
       "        vertical-align: top;\n",
       "    }\n",
       "\n",
       "    .dataframe thead th {\n",
       "        text-align: right;\n",
       "    }\n",
       "</style>\n",
       "<table border=\"1\" class=\"dataframe\">\n",
       "  <thead>\n",
       "    <tr style=\"text-align: right;\">\n",
       "      <th></th>\n",
       "      <th>male</th>\n",
       "    </tr>\n",
       "  </thead>\n",
       "  <tbody>\n",
       "    <tr>\n",
       "      <th>0</th>\n",
       "      <td>1</td>\n",
       "    </tr>\n",
       "    <tr>\n",
       "      <th>1</th>\n",
       "      <td>0</td>\n",
       "    </tr>\n",
       "    <tr>\n",
       "      <th>2</th>\n",
       "      <td>0</td>\n",
       "    </tr>\n",
       "    <tr>\n",
       "      <th>3</th>\n",
       "      <td>0</td>\n",
       "    </tr>\n",
       "    <tr>\n",
       "      <th>4</th>\n",
       "      <td>1</td>\n",
       "    </tr>\n",
       "  </tbody>\n",
       "</table>\n",
       "</div>"
      ],
      "text/plain": [
       "   male\n",
       "0     1\n",
       "1     0\n",
       "2     0\n",
       "3     0\n",
       "4     1"
      ]
     },
     "execution_count": 21,
     "metadata": {},
     "output_type": "execute_result"
    }
   ],
   "source": [
    "sex= pd.get_dummies(titanic_data['Sex'], drop_first=True)\n",
    "sex.head((5))"
   ]
  },
  {
   "cell_type": "code",
   "execution_count": 22,
   "id": "d95a803d",
   "metadata": {},
   "outputs": [
    {
     "data": {
      "text/html": [
       "<div>\n",
       "<style scoped>\n",
       "    .dataframe tbody tr th:only-of-type {\n",
       "        vertical-align: middle;\n",
       "    }\n",
       "\n",
       "    .dataframe tbody tr th {\n",
       "        vertical-align: top;\n",
       "    }\n",
       "\n",
       "    .dataframe thead th {\n",
       "        text-align: right;\n",
       "    }\n",
       "</style>\n",
       "<table border=\"1\" class=\"dataframe\">\n",
       "  <thead>\n",
       "    <tr style=\"text-align: right;\">\n",
       "      <th></th>\n",
       "      <th>Q</th>\n",
       "      <th>S</th>\n",
       "    </tr>\n",
       "  </thead>\n",
       "  <tbody>\n",
       "    <tr>\n",
       "      <th>0</th>\n",
       "      <td>0</td>\n",
       "      <td>1</td>\n",
       "    </tr>\n",
       "    <tr>\n",
       "      <th>1</th>\n",
       "      <td>0</td>\n",
       "      <td>0</td>\n",
       "    </tr>\n",
       "    <tr>\n",
       "      <th>2</th>\n",
       "      <td>0</td>\n",
       "      <td>1</td>\n",
       "    </tr>\n",
       "    <tr>\n",
       "      <th>3</th>\n",
       "      <td>0</td>\n",
       "      <td>1</td>\n",
       "    </tr>\n",
       "    <tr>\n",
       "      <th>4</th>\n",
       "      <td>0</td>\n",
       "      <td>1</td>\n",
       "    </tr>\n",
       "  </tbody>\n",
       "</table>\n",
       "</div>"
      ],
      "text/plain": [
       "   Q  S\n",
       "0  0  1\n",
       "1  0  0\n",
       "2  0  1\n",
       "3  0  1\n",
       "4  0  1"
      ]
     },
     "execution_count": 22,
     "metadata": {},
     "output_type": "execute_result"
    }
   ],
   "source": [
    "embark = pd.get_dummies(titanic_data[\"Embarked\"], drop_first=True)\n",
    "embark.head(5)"
   ]
  },
  {
   "cell_type": "code",
   "execution_count": 23,
   "id": "1966b342",
   "metadata": {},
   "outputs": [
    {
     "data": {
      "text/html": [
       "<div>\n",
       "<style scoped>\n",
       "    .dataframe tbody tr th:only-of-type {\n",
       "        vertical-align: middle;\n",
       "    }\n",
       "\n",
       "    .dataframe tbody tr th {\n",
       "        vertical-align: top;\n",
       "    }\n",
       "\n",
       "    .dataframe thead th {\n",
       "        text-align: right;\n",
       "    }\n",
       "</style>\n",
       "<table border=\"1\" class=\"dataframe\">\n",
       "  <thead>\n",
       "    <tr style=\"text-align: right;\">\n",
       "      <th></th>\n",
       "      <th>2</th>\n",
       "      <th>3</th>\n",
       "    </tr>\n",
       "  </thead>\n",
       "  <tbody>\n",
       "    <tr>\n",
       "      <th>0</th>\n",
       "      <td>0</td>\n",
       "      <td>1</td>\n",
       "    </tr>\n",
       "    <tr>\n",
       "      <th>1</th>\n",
       "      <td>0</td>\n",
       "      <td>0</td>\n",
       "    </tr>\n",
       "    <tr>\n",
       "      <th>2</th>\n",
       "      <td>0</td>\n",
       "      <td>1</td>\n",
       "    </tr>\n",
       "    <tr>\n",
       "      <th>3</th>\n",
       "      <td>0</td>\n",
       "      <td>0</td>\n",
       "    </tr>\n",
       "    <tr>\n",
       "      <th>4</th>\n",
       "      <td>0</td>\n",
       "      <td>1</td>\n",
       "    </tr>\n",
       "  </tbody>\n",
       "</table>\n",
       "</div>"
      ],
      "text/plain": [
       "   2  3\n",
       "0  0  1\n",
       "1  0  0\n",
       "2  0  1\n",
       "3  0  0\n",
       "4  0  1"
      ]
     },
     "execution_count": 23,
     "metadata": {},
     "output_type": "execute_result"
    }
   ],
   "source": [
    "Pcl = pd.get_dummies(titanic_data[\"Pclass\"], drop_first=True)\n",
    "Pcl.head(5)"
   ]
  },
  {
   "cell_type": "code",
   "execution_count": 24,
   "id": "dad53682",
   "metadata": {},
   "outputs": [],
   "source": [
    "titanic_data = pd.concat([titanic_data,sex,embark,Pcl], axis= 1)"
   ]
  },
  {
   "cell_type": "code",
   "execution_count": 25,
   "id": "e539c31b",
   "metadata": {},
   "outputs": [
    {
     "data": {
      "text/html": [
       "<div>\n",
       "<style scoped>\n",
       "    .dataframe tbody tr th:only-of-type {\n",
       "        vertical-align: middle;\n",
       "    }\n",
       "\n",
       "    .dataframe tbody tr th {\n",
       "        vertical-align: top;\n",
       "    }\n",
       "\n",
       "    .dataframe thead th {\n",
       "        text-align: right;\n",
       "    }\n",
       "</style>\n",
       "<table border=\"1\" class=\"dataframe\">\n",
       "  <thead>\n",
       "    <tr style=\"text-align: right;\">\n",
       "      <th></th>\n",
       "      <th>PassengerId</th>\n",
       "      <th>Survived</th>\n",
       "      <th>Pclass</th>\n",
       "      <th>Name</th>\n",
       "      <th>Sex</th>\n",
       "      <th>Age</th>\n",
       "      <th>SibSp</th>\n",
       "      <th>Parch</th>\n",
       "      <th>Ticket</th>\n",
       "      <th>Fare</th>\n",
       "      <th>Embarked</th>\n",
       "      <th>male</th>\n",
       "      <th>Q</th>\n",
       "      <th>S</th>\n",
       "      <th>2</th>\n",
       "      <th>3</th>\n",
       "    </tr>\n",
       "  </thead>\n",
       "  <tbody>\n",
       "    <tr>\n",
       "      <th>0</th>\n",
       "      <td>1</td>\n",
       "      <td>0</td>\n",
       "      <td>3</td>\n",
       "      <td>Braund, Mr. Owen Harris</td>\n",
       "      <td>male</td>\n",
       "      <td>22.0</td>\n",
       "      <td>1</td>\n",
       "      <td>0</td>\n",
       "      <td>A/5 21171</td>\n",
       "      <td>7.2500</td>\n",
       "      <td>S</td>\n",
       "      <td>1</td>\n",
       "      <td>0</td>\n",
       "      <td>1</td>\n",
       "      <td>0</td>\n",
       "      <td>1</td>\n",
       "    </tr>\n",
       "    <tr>\n",
       "      <th>1</th>\n",
       "      <td>2</td>\n",
       "      <td>1</td>\n",
       "      <td>1</td>\n",
       "      <td>Cumings, Mrs. John Bradley (Florence Briggs Th...</td>\n",
       "      <td>female</td>\n",
       "      <td>38.0</td>\n",
       "      <td>1</td>\n",
       "      <td>0</td>\n",
       "      <td>PC 17599</td>\n",
       "      <td>71.2833</td>\n",
       "      <td>C</td>\n",
       "      <td>0</td>\n",
       "      <td>0</td>\n",
       "      <td>0</td>\n",
       "      <td>0</td>\n",
       "      <td>0</td>\n",
       "    </tr>\n",
       "    <tr>\n",
       "      <th>2</th>\n",
       "      <td>3</td>\n",
       "      <td>1</td>\n",
       "      <td>3</td>\n",
       "      <td>Heikkinen, Miss. Laina</td>\n",
       "      <td>female</td>\n",
       "      <td>26.0</td>\n",
       "      <td>0</td>\n",
       "      <td>0</td>\n",
       "      <td>STON/O2. 3101282</td>\n",
       "      <td>7.9250</td>\n",
       "      <td>S</td>\n",
       "      <td>0</td>\n",
       "      <td>0</td>\n",
       "      <td>1</td>\n",
       "      <td>0</td>\n",
       "      <td>1</td>\n",
       "    </tr>\n",
       "    <tr>\n",
       "      <th>3</th>\n",
       "      <td>4</td>\n",
       "      <td>1</td>\n",
       "      <td>1</td>\n",
       "      <td>Futrelle, Mrs. Jacques Heath (Lily May Peel)</td>\n",
       "      <td>female</td>\n",
       "      <td>35.0</td>\n",
       "      <td>1</td>\n",
       "      <td>0</td>\n",
       "      <td>113803</td>\n",
       "      <td>53.1000</td>\n",
       "      <td>S</td>\n",
       "      <td>0</td>\n",
       "      <td>0</td>\n",
       "      <td>1</td>\n",
       "      <td>0</td>\n",
       "      <td>0</td>\n",
       "    </tr>\n",
       "    <tr>\n",
       "      <th>4</th>\n",
       "      <td>5</td>\n",
       "      <td>0</td>\n",
       "      <td>3</td>\n",
       "      <td>Allen, Mr. William Henry</td>\n",
       "      <td>male</td>\n",
       "      <td>35.0</td>\n",
       "      <td>0</td>\n",
       "      <td>0</td>\n",
       "      <td>373450</td>\n",
       "      <td>8.0500</td>\n",
       "      <td>S</td>\n",
       "      <td>1</td>\n",
       "      <td>0</td>\n",
       "      <td>1</td>\n",
       "      <td>0</td>\n",
       "      <td>1</td>\n",
       "    </tr>\n",
       "  </tbody>\n",
       "</table>\n",
       "</div>"
      ],
      "text/plain": [
       "   PassengerId  Survived  Pclass  \\\n",
       "0            1         0       3   \n",
       "1            2         1       1   \n",
       "2            3         1       3   \n",
       "3            4         1       1   \n",
       "4            5         0       3   \n",
       "\n",
       "                                                Name     Sex   Age  SibSp  \\\n",
       "0                            Braund, Mr. Owen Harris    male  22.0      1   \n",
       "1  Cumings, Mrs. John Bradley (Florence Briggs Th...  female  38.0      1   \n",
       "2                             Heikkinen, Miss. Laina  female  26.0      0   \n",
       "3       Futrelle, Mrs. Jacques Heath (Lily May Peel)  female  35.0      1   \n",
       "4                           Allen, Mr. William Henry    male  35.0      0   \n",
       "\n",
       "   Parch            Ticket     Fare Embarked  male  Q  S  2  3  \n",
       "0      0         A/5 21171   7.2500        S     1  0  1  0  1  \n",
       "1      0          PC 17599  71.2833        C     0  0  0  0  0  \n",
       "2      0  STON/O2. 3101282   7.9250        S     0  0  1  0  1  \n",
       "3      0            113803  53.1000        S     0  0  1  0  0  \n",
       "4      0            373450   8.0500        S     1  0  1  0  1  "
      ]
     },
     "execution_count": 25,
     "metadata": {},
     "output_type": "execute_result"
    }
   ],
   "source": [
    "titanic_data.head(5)"
   ]
  },
  {
   "cell_type": "code",
   "execution_count": 26,
   "id": "a61cfab2",
   "metadata": {},
   "outputs": [],
   "source": [
    "titanic_data.drop(['Sex','Embarked', 'PassengerId', 'Name','Ticket'], axis=1, inplace=True)"
   ]
  },
  {
   "cell_type": "code",
   "execution_count": 27,
   "id": "de8a19e7",
   "metadata": {},
   "outputs": [
    {
     "data": {
      "text/html": [
       "<div>\n",
       "<style scoped>\n",
       "    .dataframe tbody tr th:only-of-type {\n",
       "        vertical-align: middle;\n",
       "    }\n",
       "\n",
       "    .dataframe tbody tr th {\n",
       "        vertical-align: top;\n",
       "    }\n",
       "\n",
       "    .dataframe thead th {\n",
       "        text-align: right;\n",
       "    }\n",
       "</style>\n",
       "<table border=\"1\" class=\"dataframe\">\n",
       "  <thead>\n",
       "    <tr style=\"text-align: right;\">\n",
       "      <th></th>\n",
       "      <th>Survived</th>\n",
       "      <th>Pclass</th>\n",
       "      <th>Age</th>\n",
       "      <th>SibSp</th>\n",
       "      <th>Parch</th>\n",
       "      <th>Fare</th>\n",
       "      <th>male</th>\n",
       "      <th>Q</th>\n",
       "      <th>S</th>\n",
       "      <th>2</th>\n",
       "      <th>3</th>\n",
       "    </tr>\n",
       "  </thead>\n",
       "  <tbody>\n",
       "    <tr>\n",
       "      <th>0</th>\n",
       "      <td>0</td>\n",
       "      <td>3</td>\n",
       "      <td>22.0</td>\n",
       "      <td>1</td>\n",
       "      <td>0</td>\n",
       "      <td>7.2500</td>\n",
       "      <td>1</td>\n",
       "      <td>0</td>\n",
       "      <td>1</td>\n",
       "      <td>0</td>\n",
       "      <td>1</td>\n",
       "    </tr>\n",
       "    <tr>\n",
       "      <th>1</th>\n",
       "      <td>1</td>\n",
       "      <td>1</td>\n",
       "      <td>38.0</td>\n",
       "      <td>1</td>\n",
       "      <td>0</td>\n",
       "      <td>71.2833</td>\n",
       "      <td>0</td>\n",
       "      <td>0</td>\n",
       "      <td>0</td>\n",
       "      <td>0</td>\n",
       "      <td>0</td>\n",
       "    </tr>\n",
       "    <tr>\n",
       "      <th>2</th>\n",
       "      <td>1</td>\n",
       "      <td>3</td>\n",
       "      <td>26.0</td>\n",
       "      <td>0</td>\n",
       "      <td>0</td>\n",
       "      <td>7.9250</td>\n",
       "      <td>0</td>\n",
       "      <td>0</td>\n",
       "      <td>1</td>\n",
       "      <td>0</td>\n",
       "      <td>1</td>\n",
       "    </tr>\n",
       "    <tr>\n",
       "      <th>3</th>\n",
       "      <td>1</td>\n",
       "      <td>1</td>\n",
       "      <td>35.0</td>\n",
       "      <td>1</td>\n",
       "      <td>0</td>\n",
       "      <td>53.1000</td>\n",
       "      <td>0</td>\n",
       "      <td>0</td>\n",
       "      <td>1</td>\n",
       "      <td>0</td>\n",
       "      <td>0</td>\n",
       "    </tr>\n",
       "    <tr>\n",
       "      <th>4</th>\n",
       "      <td>0</td>\n",
       "      <td>3</td>\n",
       "      <td>35.0</td>\n",
       "      <td>0</td>\n",
       "      <td>0</td>\n",
       "      <td>8.0500</td>\n",
       "      <td>1</td>\n",
       "      <td>0</td>\n",
       "      <td>1</td>\n",
       "      <td>0</td>\n",
       "      <td>1</td>\n",
       "    </tr>\n",
       "  </tbody>\n",
       "</table>\n",
       "</div>"
      ],
      "text/plain": [
       "   Survived  Pclass   Age  SibSp  Parch     Fare  male  Q  S  2  3\n",
       "0         0       3  22.0      1      0   7.2500     1  0  1  0  1\n",
       "1         1       1  38.0      1      0  71.2833     0  0  0  0  0\n",
       "2         1       3  26.0      0      0   7.9250     0  0  1  0  1\n",
       "3         1       1  35.0      1      0  53.1000     0  0  1  0  0\n",
       "4         0       3  35.0      0      0   8.0500     1  0  1  0  1"
      ]
     },
     "execution_count": 27,
     "metadata": {},
     "output_type": "execute_result"
    }
   ],
   "source": [
    "titanic_data.head(5)"
   ]
  },
  {
   "cell_type": "code",
   "execution_count": 28,
   "id": "9a59b3f3",
   "metadata": {},
   "outputs": [],
   "source": [
    "titanic_data.drop('Pclass', axis=1, inplace= True)"
   ]
  },
  {
   "cell_type": "markdown",
   "id": "e7bc3149",
   "metadata": {},
   "source": [
    "### Step 4: Train Data"
   ]
  },
  {
   "cell_type": "code",
   "execution_count": 29,
   "id": "00ef9498",
   "metadata": {},
   "outputs": [],
   "source": [
    "X = titanic_data.drop(\"Survived\", axis=1)\n",
    "y = titanic_data[\"Survived\"]"
   ]
  },
  {
   "cell_type": "code",
   "execution_count": 30,
   "id": "9d93b87c",
   "metadata": {},
   "outputs": [],
   "source": [
    "import sklearn\n",
    "from sklearn.model_selection import train_test_split"
   ]
  },
  {
   "cell_type": "code",
   "execution_count": 31,
   "id": "65f2beea",
   "metadata": {},
   "outputs": [],
   "source": [
    "X_train, X_test, y_train, y_test = train_test_split(X, y, test_size=0.3, random_state=1)"
   ]
  },
  {
   "cell_type": "code",
   "execution_count": 32,
   "id": "a3aa841a",
   "metadata": {},
   "outputs": [],
   "source": [
    "from sklearn.linear_model import LogisticRegression"
   ]
  },
  {
   "cell_type": "code",
   "execution_count": 33,
   "id": "cf25606e",
   "metadata": {},
   "outputs": [],
   "source": [
    "logmodel = LogisticRegression(solver='lbfgs',max_iter=10000)"
   ]
  },
  {
   "cell_type": "code",
   "execution_count": 34,
   "id": "55a104c7",
   "metadata": {},
   "outputs": [
    {
     "data": {
      "text/html": [
       "<style>#sk-container-id-1 {color: black;background-color: white;}#sk-container-id-1 pre{padding: 0;}#sk-container-id-1 div.sk-toggleable {background-color: white;}#sk-container-id-1 label.sk-toggleable__label {cursor: pointer;display: block;width: 100%;margin-bottom: 0;padding: 0.3em;box-sizing: border-box;text-align: center;}#sk-container-id-1 label.sk-toggleable__label-arrow:before {content: \"▸\";float: left;margin-right: 0.25em;color: #696969;}#sk-container-id-1 label.sk-toggleable__label-arrow:hover:before {color: black;}#sk-container-id-1 div.sk-estimator:hover label.sk-toggleable__label-arrow:before {color: black;}#sk-container-id-1 div.sk-toggleable__content {max-height: 0;max-width: 0;overflow: hidden;text-align: left;background-color: #f0f8ff;}#sk-container-id-1 div.sk-toggleable__content pre {margin: 0.2em;color: black;border-radius: 0.25em;background-color: #f0f8ff;}#sk-container-id-1 input.sk-toggleable__control:checked~div.sk-toggleable__content {max-height: 200px;max-width: 100%;overflow: auto;}#sk-container-id-1 input.sk-toggleable__control:checked~label.sk-toggleable__label-arrow:before {content: \"▾\";}#sk-container-id-1 div.sk-estimator input.sk-toggleable__control:checked~label.sk-toggleable__label {background-color: #d4ebff;}#sk-container-id-1 div.sk-label input.sk-toggleable__control:checked~label.sk-toggleable__label {background-color: #d4ebff;}#sk-container-id-1 input.sk-hidden--visually {border: 0;clip: rect(1px 1px 1px 1px);clip: rect(1px, 1px, 1px, 1px);height: 1px;margin: -1px;overflow: hidden;padding: 0;position: absolute;width: 1px;}#sk-container-id-1 div.sk-estimator {font-family: monospace;background-color: #f0f8ff;border: 1px dotted black;border-radius: 0.25em;box-sizing: border-box;margin-bottom: 0.5em;}#sk-container-id-1 div.sk-estimator:hover {background-color: #d4ebff;}#sk-container-id-1 div.sk-parallel-item::after {content: \"\";width: 100%;border-bottom: 1px solid gray;flex-grow: 1;}#sk-container-id-1 div.sk-label:hover label.sk-toggleable__label {background-color: #d4ebff;}#sk-container-id-1 div.sk-serial::before {content: \"\";position: absolute;border-left: 1px solid gray;box-sizing: border-box;top: 0;bottom: 0;left: 50%;z-index: 0;}#sk-container-id-1 div.sk-serial {display: flex;flex-direction: column;align-items: center;background-color: white;padding-right: 0.2em;padding-left: 0.2em;position: relative;}#sk-container-id-1 div.sk-item {position: relative;z-index: 1;}#sk-container-id-1 div.sk-parallel {display: flex;align-items: stretch;justify-content: center;background-color: white;position: relative;}#sk-container-id-1 div.sk-item::before, #sk-container-id-1 div.sk-parallel-item::before {content: \"\";position: absolute;border-left: 1px solid gray;box-sizing: border-box;top: 0;bottom: 0;left: 50%;z-index: -1;}#sk-container-id-1 div.sk-parallel-item {display: flex;flex-direction: column;z-index: 1;position: relative;background-color: white;}#sk-container-id-1 div.sk-parallel-item:first-child::after {align-self: flex-end;width: 50%;}#sk-container-id-1 div.sk-parallel-item:last-child::after {align-self: flex-start;width: 50%;}#sk-container-id-1 div.sk-parallel-item:only-child::after {width: 0;}#sk-container-id-1 div.sk-dashed-wrapped {border: 1px dashed gray;margin: 0 0.4em 0.5em 0.4em;box-sizing: border-box;padding-bottom: 0.4em;background-color: white;}#sk-container-id-1 div.sk-label label {font-family: monospace;font-weight: bold;display: inline-block;line-height: 1.2em;}#sk-container-id-1 div.sk-label-container {text-align: center;}#sk-container-id-1 div.sk-container {/* jupyter's `normalize.less` sets `[hidden] { display: none; }` but bootstrap.min.css set `[hidden] { display: none !important; }` so we also need the `!important` here to be able to override the default hidden behavior on the sphinx rendered scikit-learn.org. See: https://github.com/scikit-learn/scikit-learn/issues/21755 */display: inline-block !important;position: relative;}#sk-container-id-1 div.sk-text-repr-fallback {display: none;}</style><div id=\"sk-container-id-1\" class=\"sk-top-container\"><div class=\"sk-text-repr-fallback\"><pre>LogisticRegression(max_iter=10000)</pre><b>In a Jupyter environment, please rerun this cell to show the HTML representation or trust the notebook. <br />On GitHub, the HTML representation is unable to render, please try loading this page with nbviewer.org.</b></div><div class=\"sk-container\" hidden><div class=\"sk-item\"><div class=\"sk-estimator sk-toggleable\"><input class=\"sk-toggleable__control sk-hidden--visually\" id=\"sk-estimator-id-1\" type=\"checkbox\" checked><label for=\"sk-estimator-id-1\" class=\"sk-toggleable__label sk-toggleable__label-arrow\">LogisticRegression</label><div class=\"sk-toggleable__content\"><pre>LogisticRegression(max_iter=10000)</pre></div></div></div></div></div>"
      ],
      "text/plain": [
       "LogisticRegression(max_iter=10000)"
      ]
     },
     "execution_count": 34,
     "metadata": {},
     "output_type": "execute_result"
    }
   ],
   "source": [
    "logmodel.fit(X_train.values, y_train)"
   ]
  },
  {
   "cell_type": "code",
   "execution_count": 35,
   "id": "604c4fd6",
   "metadata": {},
   "outputs": [],
   "source": [
    "predictions = logmodel.predict(X_test.values)"
   ]
  },
  {
   "cell_type": "code",
   "execution_count": 36,
   "id": "69472211",
   "metadata": {},
   "outputs": [],
   "source": [
    "from sklearn.metrics import classification_report"
   ]
  },
  {
   "cell_type": "code",
   "execution_count": 37,
   "id": "ffbb2a8e",
   "metadata": {},
   "outputs": [
    {
     "data": {
      "text/plain": [
       "'              precision    recall  f1-score   support\\n\\n           0       0.80      0.81      0.81       126\\n           1       0.72      0.72      0.72        88\\n\\n    accuracy                           0.77       214\\n   macro avg       0.76      0.76      0.76       214\\nweighted avg       0.77      0.77      0.77       214\\n'"
      ]
     },
     "execution_count": 37,
     "metadata": {},
     "output_type": "execute_result"
    }
   ],
   "source": [
    "classification_report(y_test, predictions)"
   ]
  },
  {
   "cell_type": "code",
   "execution_count": 38,
   "id": "cd316dab",
   "metadata": {},
   "outputs": [],
   "source": [
    "from sklearn.metrics import confusion_matrix"
   ]
  },
  {
   "cell_type": "code",
   "execution_count": 39,
   "id": "7e6f7fd6",
   "metadata": {},
   "outputs": [
    {
     "data": {
      "text/plain": [
       "array([[102,  24],\n",
       "       [ 25,  63]])"
      ]
     },
     "execution_count": 39,
     "metadata": {},
     "output_type": "execute_result"
    }
   ],
   "source": [
    "confusion_matrix(y_test, predictions)"
   ]
  },
  {
   "cell_type": "code",
   "execution_count": 40,
   "id": "d21c8a05",
   "metadata": {},
   "outputs": [],
   "source": [
    "from sklearn.metrics import accuracy_score"
   ]
  },
  {
   "cell_type": "code",
   "execution_count": 41,
   "id": "a223c7f6",
   "metadata": {},
   "outputs": [
    {
     "data": {
      "text/plain": [
       "0.7710280373831776"
      ]
     },
     "execution_count": 41,
     "metadata": {},
     "output_type": "execute_result"
    }
   ],
   "source": [
    "accuracy_score(y_test, predictions)"
   ]
  },
  {
   "cell_type": "markdown",
   "id": "db6cb6b6",
   "metadata": {},
   "source": [
    "#### Benefits:\n",
    "1. Simple and easy to implement: Logistic Regressionis a simple and straightforward algorithm that can be easily implemented and does not require a lot of computational resources.\n",
    "\n",
    "2. Interpreting the results is straightforward: Logistic regression provides a clear interpretation betwen the independant variables and the dependant variables, making it easy to understand.\n",
    "\n",
    "3. Can hadlemultiple independant variables: Logistic regression can handle multiple independant variables, making it suitable for complex datasets.\n",
    "\n",
    "4. Good for binary classification : Logistic regression is particularly useful for binary classification problems, where the dependant variable is either 0 or 1\n",
    "\n",
    "5. Fast and efficient: Logisti regression is a fast and efficient algorithm, xhich makes it ideal for large datasets.\n",
    "\n",
    "\n",
    "#### Drawbacks:\n",
    "1. Assumes linear relationship between independant variables: Logistic regression assumes that a lnear relationship between the independant and dependant varianles, which may not be appropriate for some datasets.\n",
    "\n",
    "2. Overfitting: This algorithm is prone to overfitting, especially when the number of independant variables is high.\n",
    "\n",
    "3. Non-suitable for non-linear relationships: This algorithm is not suitable for medeling non-linear relationships between the independant and dependant variables.\n",
    "\n",
    "4. Can only handlebinary dependant variables: It can only handle binary dependant variables, and may not be suitable for datasets with multiple categories."
   ]
  },
  {
   "cell_type": "markdown",
   "id": "bd58e4d3",
   "metadata": {},
   "source": [
    "# Decision Tree"
   ]
  },
  {
   "cell_type": "code",
   "execution_count": 42,
   "id": "38c64c2a",
   "metadata": {},
   "outputs": [
    {
     "data": {
      "text/html": [
       "<div>\n",
       "<style scoped>\n",
       "    .dataframe tbody tr th:only-of-type {\n",
       "        vertical-align: middle;\n",
       "    }\n",
       "\n",
       "    .dataframe tbody tr th {\n",
       "        vertical-align: top;\n",
       "    }\n",
       "\n",
       "    .dataframe thead th {\n",
       "        text-align: right;\n",
       "    }\n",
       "</style>\n",
       "<table border=\"1\" class=\"dataframe\">\n",
       "  <thead>\n",
       "    <tr style=\"text-align: right;\">\n",
       "      <th></th>\n",
       "      <th>Color</th>\n",
       "      <th>Diameter</th>\n",
       "      <th>Label</th>\n",
       "    </tr>\n",
       "  </thead>\n",
       "  <tbody>\n",
       "    <tr>\n",
       "      <th>0</th>\n",
       "      <td>Green</td>\n",
       "      <td>5</td>\n",
       "      <td>Mango</td>\n",
       "    </tr>\n",
       "    <tr>\n",
       "      <th>1</th>\n",
       "      <td>Yellow</td>\n",
       "      <td>1</td>\n",
       "      <td>Grape</td>\n",
       "    </tr>\n",
       "    <tr>\n",
       "      <th>2</th>\n",
       "      <td>Red</td>\n",
       "      <td>2</td>\n",
       "      <td>Mango</td>\n",
       "    </tr>\n",
       "    <tr>\n",
       "      <th>3</th>\n",
       "      <td>Red</td>\n",
       "      <td>5</td>\n",
       "      <td>Mango</td>\n",
       "    </tr>\n",
       "    <tr>\n",
       "      <th>4</th>\n",
       "      <td>Yellow</td>\n",
       "      <td>3</td>\n",
       "      <td>Lemon</td>\n",
       "    </tr>\n",
       "    <tr>\n",
       "      <th>5</th>\n",
       "      <td>Yellow</td>\n",
       "      <td>5</td>\n",
       "      <td>Lemon</td>\n",
       "    </tr>\n",
       "    <tr>\n",
       "      <th>6</th>\n",
       "      <td>Green</td>\n",
       "      <td>3</td>\n",
       "      <td>Grape</td>\n",
       "    </tr>\n",
       "    <tr>\n",
       "      <th>7</th>\n",
       "      <td>Red</td>\n",
       "      <td>2</td>\n",
       "      <td>Grape</td>\n",
       "    </tr>\n",
       "    <tr>\n",
       "      <th>8</th>\n",
       "      <td>Yellow</td>\n",
       "      <td>3</td>\n",
       "      <td>Mango</td>\n",
       "    </tr>\n",
       "    <tr>\n",
       "      <th>9</th>\n",
       "      <td>Yellow</td>\n",
       "      <td>4</td>\n",
       "      <td>Lemon</td>\n",
       "    </tr>\n",
       "  </tbody>\n",
       "</table>\n",
       "</div>"
      ],
      "text/plain": [
       "    Color  Diameter  Label\n",
       "0   Green         5  Mango\n",
       "1  Yellow         1  Grape\n",
       "2     Red         2  Mango\n",
       "3     Red         5  Mango\n",
       "4  Yellow         3  Lemon\n",
       "5  Yellow         5  Lemon\n",
       "6   Green         3  Grape\n",
       "7     Red         2  Grape\n",
       "8  Yellow         3  Mango\n",
       "9  Yellow         4  Lemon"
      ]
     },
     "execution_count": 42,
     "metadata": {},
     "output_type": "execute_result"
    }
   ],
   "source": [
    "# sanple dataset\n",
    "# the first two colums are features\n",
    "# the last column is a label\n",
    "\n",
    "training_data = pd.read_csv('fruit.csv')\n",
    "training_data.head(10)"
   ]
  },
  {
   "cell_type": "code",
   "execution_count": 43,
   "id": "3c0ef433",
   "metadata": {},
   "outputs": [
    {
     "data": {
      "text/plain": [
       "[['Green', 5, 'Mango'],\n",
       " ['Yellow', 1, 'Grape'],\n",
       " ['Red', 2, 'Mango'],\n",
       " ['Red', 5, 'Mango'],\n",
       " ['Yellow', 3, 'Lemon'],\n",
       " ['Yellow', 5, 'Lemon'],\n",
       " ['Green', 3, 'Grape'],\n",
       " ['Red', 2, 'Grape'],\n",
       " ['Yellow', 3, 'Mango'],\n",
       " ['Yellow', 4, 'Lemon'],\n",
       " ['Yellow', 1, 'Lemon'],\n",
       " ['Green', 4, 'Mango'],\n",
       " ['Yellow', 3, 'Mango'],\n",
       " ['Green', 1, 'Grape'],\n",
       " ['Red', 3, 'Grape'],\n",
       " ['Yellow', 2, 'Lemon'],\n",
       " ['Red', 2, 'Grape'],\n",
       " ['Green', 4, 'Grape'],\n",
       " ['Green', 5, 'Grape'],\n",
       " ['Yellow', 4, 'Mango'],\n",
       " ['Yellow', 3, 'Lemon'],\n",
       " ['Yellow', 4, 'Lemon'],\n",
       " ['Red', 1, 'Grape'],\n",
       " ['Yellow', 3, 'Mango'],\n",
       " ['Red', 1, 'Grape'],\n",
       " ['Yellow', 4, 'Mango'],\n",
       " ['Green', 3, 'Mango'],\n",
       " ['Green', 5, 'Grape'],\n",
       " ['Green', 4, 'Grape'],\n",
       " ['Yellow', 1, 'Lemon'],\n",
       " ['Green', 2, 'Lemon'],\n",
       " ['Green', 1, 'Mango'],\n",
       " ['Yellow', 1, 'Lemon'],\n",
       " ['Green', 1, 'Grape'],\n",
       " ['Yellow', 2, 'Mango'],\n",
       " ['Yellow', 1, 'Grape'],\n",
       " ['Red', 4, 'Mango'],\n",
       " ['Yellow', 4, 'Grape'],\n",
       " ['Red', 2, 'Grape'],\n",
       " ['Red', 4, 'Mango'],\n",
       " ['Green', 2, 'Lemon'],\n",
       " ['Green', 3, 'Mango'],\n",
       " ['Yellow', 4, 'Mango'],\n",
       " ['Yellow', 5, 'Grape'],\n",
       " ['Red', 5, 'Lemon'],\n",
       " ['Red', 4, 'Mango'],\n",
       " ['Yellow', 3, 'Lemon'],\n",
       " ['Red', 2, 'Grape'],\n",
       " ['Red', 4, 'Mango'],\n",
       " ['Yellow', 3, 'Mango'],\n",
       " ['Yellow', 2, 'Mango'],\n",
       " ['Yellow', 2, 'Grape'],\n",
       " ['Yellow', 5, 'Mango'],\n",
       " ['Yellow', 3, 'Mango'],\n",
       " ['Red', 5, 'Grape'],\n",
       " ['Green', 1, 'Lemon'],\n",
       " ['Red', 5, 'Grape'],\n",
       " ['Green', 4, 'Mango'],\n",
       " ['Green', 5, 'Lemon'],\n",
       " ['Yellow', 2, 'Grape'],\n",
       " ['Red', 2, 'Grape'],\n",
       " ['Green', 2, 'Grape'],\n",
       " ['Yellow', 1, 'Mango'],\n",
       " ['Yellow', 2, 'Grape'],\n",
       " ['Yellow', 2, 'Mango'],\n",
       " ['Red', 5, 'Grape'],\n",
       " ['Yellow', 2, 'Lemon'],\n",
       " ['Yellow', 1, 'Grape'],\n",
       " ['Red', 5, 'Grape'],\n",
       " ['Green', 3, 'Mango'],\n",
       " ['Red', 1, 'Lemon'],\n",
       " ['Red', 1, 'Lemon'],\n",
       " ['Red', 4, 'Grape'],\n",
       " ['Green', 2, 'Lemon'],\n",
       " ['Green', 5, 'Mango'],\n",
       " ['Yellow', 2, 'Lemon'],\n",
       " ['Red', 1, 'Grape'],\n",
       " ['Red', 3, 'Lemon'],\n",
       " ['Yellow', 4, 'Lemon'],\n",
       " ['Green', 2, 'Mango'],\n",
       " ['Green', 5, 'Grape'],\n",
       " ['Green', 5, 'Lemon'],\n",
       " ['Yellow', 4, 'Grape'],\n",
       " ['Green', 2, 'Lemon'],\n",
       " ['Red', 4, 'Grape'],\n",
       " ['Red', 5, 'Mango'],\n",
       " ['Yellow', 1, 'Grape'],\n",
       " ['Red', 3, 'Mango'],\n",
       " ['Yellow', 3, 'Grape'],\n",
       " ['Red', 2, 'Lemon'],\n",
       " ['Red', 5, 'Lemon'],\n",
       " ['Green', 3, 'Mango'],\n",
       " ['Yellow', 3, 'Grape'],\n",
       " ['Yellow', 5, 'Mango'],\n",
       " ['Yellow', 1, 'Mango'],\n",
       " ['Red', 5, 'Lemon'],\n",
       " ['Yellow', 3, 'Lemon'],\n",
       " ['Yellow', 3, 'Mango'],\n",
       " ['Green', 5, 'Mango'],\n",
       " ['Red', 2, 'Grape'],\n",
       " ['Red', 3, 'Mango'],\n",
       " ['Yellow', 5, 'Mango'],\n",
       " ['Red', 4, 'Mango'],\n",
       " ['Red', 3, 'Mango'],\n",
       " ['Green', 5, 'Grape'],\n",
       " ['Red', 5, 'Lemon'],\n",
       " ['Yellow', 5, 'Grape'],\n",
       " ['Green', 1, 'Mango'],\n",
       " ['Yellow', 4, 'Mango'],\n",
       " ['Yellow', 5, 'Mango'],\n",
       " ['Green', 4, 'Grape'],\n",
       " ['Yellow', 3, 'Grape'],\n",
       " ['Yellow', 3, 'Grape'],\n",
       " ['Red', 1, 'Lemon'],\n",
       " ['Red', 2, 'Grape'],\n",
       " ['Green', 3, 'Lemon'],\n",
       " ['Green', 4, 'Grape'],\n",
       " ['Yellow', 2, 'Lemon'],\n",
       " ['Green', 5, 'Lemon'],\n",
       " ['Yellow', 2, 'Grape'],\n",
       " ['Yellow', 4, 'Mango'],\n",
       " ['Yellow', 3, 'Mango'],\n",
       " ['Green', 5, 'Grape'],\n",
       " ['Red', 3, 'Lemon'],\n",
       " ['Red', 4, 'Mango'],\n",
       " ['Yellow', 1, 'Lemon'],\n",
       " ['Green', 4, 'Mango'],\n",
       " ['Green', 1, 'Grape'],\n",
       " ['Red', 5, 'Grape'],\n",
       " ['Yellow', 5, 'Mango'],\n",
       " ['Red', 4, 'Lemon'],\n",
       " ['Yellow', 4, 'Grape'],\n",
       " ['Red', 4, 'Mango'],\n",
       " ['Yellow', 3, 'Mango'],\n",
       " ['Yellow', 5, 'Mango'],\n",
       " ['Yellow', 3, 'Grape'],\n",
       " ['Red', 2, 'Mango'],\n",
       " ['Red', 4, 'Mango'],\n",
       " ['Red', 1, 'Mango'],\n",
       " ['Yellow', 3, 'Grape'],\n",
       " ['Red', 3, 'Lemon'],\n",
       " ['Red', 4, 'Mango'],\n",
       " ['Red', 1, 'Grape'],\n",
       " ['Yellow', 2, 'Grape'],\n",
       " ['Green', 3, 'Grape'],\n",
       " ['Yellow', 3, 'Lemon'],\n",
       " ['Yellow', 4, 'Mango'],\n",
       " ['Red', 3, 'Mango'],\n",
       " ['Green', 1, 'Grape'],\n",
       " ['Green', 2, 'Lemon'],\n",
       " ['Green', 4, 'Grape'],\n",
       " ['Green', 5, 'Lemon'],\n",
       " ['Yellow', 5, 'Lemon'],\n",
       " ['Yellow', 1, 'Mango'],\n",
       " ['Green', 4, 'Grape'],\n",
       " ['Red', 2, 'Grape'],\n",
       " ['Yellow', 1, 'Mango'],\n",
       " ['Green', 3, 'Lemon'],\n",
       " ['Green', 2, 'Grape'],\n",
       " ['Yellow', 5, 'Mango'],\n",
       " ['Red', 2, 'Mango'],\n",
       " ['Yellow', 4, 'Mango'],\n",
       " ['Yellow', 5, 'Grape'],\n",
       " ['Yellow', 2, 'Lemon'],\n",
       " ['Yellow', 1, 'Mango'],\n",
       " ['Yellow', 1, 'Grape'],\n",
       " ['Red', 1, 'Lemon'],\n",
       " ['Red', 5, 'Grape'],\n",
       " ['Red', 1, 'Mango'],\n",
       " ['Yellow', 3, 'Mango'],\n",
       " ['Green', 4, 'Mango'],\n",
       " ['Green', 2, 'Lemon'],\n",
       " ['Yellow', 1, 'Grape'],\n",
       " ['Yellow', 1, 'Lemon'],\n",
       " ['Yellow', 1, 'Grape'],\n",
       " ['Yellow', 3, 'Lemon'],\n",
       " ['Green', 1, 'Mango'],\n",
       " ['Green', 2, 'Grape'],\n",
       " ['Red', 4, 'Lemon'],\n",
       " ['Yellow', 5, 'Grape'],\n",
       " ['Yellow', 5, 'Lemon'],\n",
       " ['Red', 5, 'Mango'],\n",
       " ['Yellow', 1, 'Mango'],\n",
       " ['Red', 2, 'Lemon'],\n",
       " ['Green', 4, 'Mango'],\n",
       " ['Yellow', 2, 'Grape'],\n",
       " ['Green', 3, 'Lemon'],\n",
       " ['Red', 4, 'Grape'],\n",
       " ['Red', 1, 'Mango'],\n",
       " ['Green', 4, 'Grape'],\n",
       " ['Green', 5, 'Grape'],\n",
       " ['Red', 3, 'Grape'],\n",
       " ['Green', 5, 'Grape'],\n",
       " ['Red', 2, 'Mango'],\n",
       " ['Green', 5, 'Grape'],\n",
       " ['Yellow', 3, 'Mango'],\n",
       " ['Green', 2, 'Lemon'],\n",
       " ['Green', 5, 'Mango'],\n",
       " ['Green', 2, 'Lemon'],\n",
       " ['Red', 5, 'Lemon'],\n",
       " ['Yellow', 1, 'Mango'],\n",
       " ['Green', 1, 'Mango'],\n",
       " ['Red', 1, 'Mango'],\n",
       " ['Yellow', 3, 'Lemon'],\n",
       " ['Yellow', 5, 'Grape'],\n",
       " ['Green', 5, 'Lemon'],\n",
       " ['Yellow', 2, 'Grape'],\n",
       " ['Yellow', 5, 'Lemon'],\n",
       " ['Red', 2, 'Grape'],\n",
       " ['Green', 1, 'Grape'],\n",
       " ['Red', 2, 'Lemon'],\n",
       " ['Yellow', 1, 'Mango'],\n",
       " ['Green', 4, 'Mango'],\n",
       " ['Green', 5, 'Grape'],\n",
       " ['Red', 2, 'Grape'],\n",
       " ['Red', 4, 'Lemon'],\n",
       " ['Yellow', 3, 'Mango'],\n",
       " ['Yellow', 3, 'Mango'],\n",
       " ['Yellow', 2, 'Grape'],\n",
       " ['Red', 5, 'Lemon'],\n",
       " ['Red', 4, 'Grape'],\n",
       " ['Green', 5, 'Mango'],\n",
       " ['Green', 1, 'Mango'],\n",
       " ['Green', 3, 'Mango'],\n",
       " ['Red', 3, 'Grape'],\n",
       " ['Green', 5, 'Mango'],\n",
       " ['Green', 1, 'Grape'],\n",
       " ['Green', 4, 'Lemon'],\n",
       " ['Yellow', 2, 'Mango'],\n",
       " ['Yellow', 4, 'Grape'],\n",
       " ['Yellow', 1, 'Mango'],\n",
       " ['Green', 2, 'Grape'],\n",
       " ['Red', 4, 'Grape'],\n",
       " ['Green', 3, 'Lemon'],\n",
       " ['Yellow', 4, 'Grape'],\n",
       " ['Yellow', 2, 'Mango'],\n",
       " ['Yellow', 5, 'Grape']]"
      ]
     },
     "execution_count": 43,
     "metadata": {},
     "output_type": "execute_result"
    }
   ],
   "source": [
    "training_data_set = []\n",
    "for index, row in training_data.iterrows():\n",
    "    training_data_set.append([row[0], row[1], row[2]])\n",
    "\n",
    "training_data_set"
   ]
  },
  {
   "cell_type": "code",
   "execution_count": 44,
   "id": "e564922a",
   "metadata": {},
   "outputs": [],
   "source": [
    "header = [\"color\",\"diameter\", \"label\"]"
   ]
  },
  {
   "cell_type": "markdown",
   "id": "bbca6b5e",
   "metadata": {},
   "source": [
    "Find the unique values for a column in a dataset"
   ]
  },
  {
   "cell_type": "code",
   "execution_count": 45,
   "id": "7099cac8",
   "metadata": {},
   "outputs": [],
   "source": [
    "def unique_vals(rows, col):\n",
    "    return set([row[col] for row in rows])"
   ]
  },
  {
   "cell_type": "code",
   "execution_count": 46,
   "id": "22e820b5",
   "metadata": {},
   "outputs": [
    {
     "data": {
      "text/plain": [
       "{'Green', 'Red', 'Yellow'}"
      ]
     },
     "execution_count": 46,
     "metadata": {},
     "output_type": "execute_result"
    }
   ],
   "source": [
    "unique_vals(training_data_set,0)"
   ]
  },
  {
   "cell_type": "markdown",
   "id": "5f281b4b",
   "metadata": {},
   "source": [
    "Counts the number of each type of example in the dataset"
   ]
  },
  {
   "cell_type": "code",
   "execution_count": 47,
   "id": "4f0fbdf7",
   "metadata": {},
   "outputs": [],
   "source": [
    "def class_counts(rows):\n",
    "    counts = {} # a dictionary of Label\n",
    "    for row in rows:\n",
    "        label = row[-1]\n",
    "        if label not in counts:\n",
    "            counts[label] = 0\n",
    "        counts[label] +=1\n",
    "    return counts\n",
    "    "
   ]
  },
  {
   "cell_type": "code",
   "execution_count": 48,
   "id": "331d465d",
   "metadata": {},
   "outputs": [
    {
     "data": {
      "text/plain": [
       "{'Mango': 87, 'Grape': 88, 'Lemon': 62}"
      ]
     },
     "execution_count": 48,
     "metadata": {},
     "output_type": "execute_result"
    }
   ],
   "source": [
    "class_counts(training_data_set)"
   ]
  },
  {
   "cell_type": "markdown",
   "id": "032f7e01",
   "metadata": {},
   "source": [
    "Test if a value is numeric or not"
   ]
  },
  {
   "cell_type": "code",
   "execution_count": 49,
   "id": "dded6881",
   "metadata": {},
   "outputs": [],
   "source": [
    "def is_numeric(value):\n",
    "    return isinstance(value, int) or isinstance(value, float)"
   ]
  },
  {
   "cell_type": "code",
   "execution_count": 50,
   "id": "4f0ec05b",
   "metadata": {},
   "outputs": [
    {
     "data": {
      "text/plain": [
       "False"
      ]
     },
     "execution_count": 50,
     "metadata": {},
     "output_type": "execute_result"
    }
   ],
   "source": [
    "is_numeric(\"Red\")"
   ]
  },
  {
   "cell_type": "markdown",
   "id": "4e50e024",
   "metadata": {},
   "source": [
    "A Question is used to partition a dataset.\n",
    "\n",
    "This class just records a 'colums number' (e.g., 0 for Color) and a 'column value' (e.g., Green).\n",
    "The 'match' method is used to compare the feature in an example to the feature value stored in the question."
   ]
  },
  {
   "cell_type": "code",
   "execution_count": 51,
   "id": "1dd88678",
   "metadata": {},
   "outputs": [],
   "source": [
    "class Question:\n",
    "    \n",
    "    def __init__(self, column, value):\n",
    "        self.column = column\n",
    "        self.value = value\n",
    "        \n",
    "    def match(self, example):\n",
    "        # Compare the feature value in an example to the\n",
    "        # feature value in this question\n",
    "        val = example[self.column]\n",
    "        if is_numeric(val):\n",
    "            return val >= self.value\n",
    "        else:\n",
    "            return val == self.value\n",
    "        \n",
    "    def __repr__(self):\n",
    "        # This is just a helper method to print\n",
    "        # the question in a readable format.\n",
    "        condition = \"==\"\n",
    "        if is_numeric(self.value):\n",
    "            condition = \">=\"\n",
    "        return \"Is %s %s %s?\" % (\n",
    "            header[self.column], condition, str(self.value))"
   ]
  },
  {
   "cell_type": "markdown",
   "id": "b6a643a2",
   "metadata": {},
   "source": [
    "Partition a dataset"
   ]
  },
  {
   "cell_type": "code",
   "execution_count": 52,
   "id": "5f76296c",
   "metadata": {},
   "outputs": [],
   "source": [
    "def partition(rows, question):\n",
    "    # For each row in the dataset, check if it matches the question.\n",
    "    # if so, add ot to 'true rows', otherwise, add it to 'false rows'.\n",
    "    \n",
    "    true_rows, false_rows = [], []\n",
    "    for row in rows:\n",
    "        if question.match(row):\n",
    "            true_rows.append(row)\n",
    "        else:\n",
    "            false_rows.append(row)\n",
    "    return true_rows, false_rows"
   ]
  },
  {
   "cell_type": "code",
   "execution_count": 53,
   "id": "9225227d",
   "metadata": {},
   "outputs": [
    {
     "data": {
      "text/plain": [
       "[['Green', 5, 'Mango'],\n",
       " ['Yellow', 1, 'Grape'],\n",
       " ['Yellow', 3, 'Lemon'],\n",
       " ['Yellow', 5, 'Lemon'],\n",
       " ['Green', 3, 'Grape'],\n",
       " ['Yellow', 3, 'Mango'],\n",
       " ['Yellow', 4, 'Lemon'],\n",
       " ['Yellow', 1, 'Lemon'],\n",
       " ['Green', 4, 'Mango'],\n",
       " ['Yellow', 3, 'Mango'],\n",
       " ['Green', 1, 'Grape'],\n",
       " ['Yellow', 2, 'Lemon'],\n",
       " ['Green', 4, 'Grape'],\n",
       " ['Green', 5, 'Grape'],\n",
       " ['Yellow', 4, 'Mango'],\n",
       " ['Yellow', 3, 'Lemon'],\n",
       " ['Yellow', 4, 'Lemon'],\n",
       " ['Yellow', 3, 'Mango'],\n",
       " ['Yellow', 4, 'Mango'],\n",
       " ['Green', 3, 'Mango'],\n",
       " ['Green', 5, 'Grape'],\n",
       " ['Green', 4, 'Grape'],\n",
       " ['Yellow', 1, 'Lemon'],\n",
       " ['Green', 2, 'Lemon'],\n",
       " ['Green', 1, 'Mango'],\n",
       " ['Yellow', 1, 'Lemon'],\n",
       " ['Green', 1, 'Grape'],\n",
       " ['Yellow', 2, 'Mango'],\n",
       " ['Yellow', 1, 'Grape'],\n",
       " ['Yellow', 4, 'Grape'],\n",
       " ['Green', 2, 'Lemon'],\n",
       " ['Green', 3, 'Mango'],\n",
       " ['Yellow', 4, 'Mango'],\n",
       " ['Yellow', 5, 'Grape'],\n",
       " ['Yellow', 3, 'Lemon'],\n",
       " ['Yellow', 3, 'Mango'],\n",
       " ['Yellow', 2, 'Mango'],\n",
       " ['Yellow', 2, 'Grape'],\n",
       " ['Yellow', 5, 'Mango'],\n",
       " ['Yellow', 3, 'Mango'],\n",
       " ['Green', 1, 'Lemon'],\n",
       " ['Green', 4, 'Mango'],\n",
       " ['Green', 5, 'Lemon'],\n",
       " ['Yellow', 2, 'Grape'],\n",
       " ['Green', 2, 'Grape'],\n",
       " ['Yellow', 1, 'Mango'],\n",
       " ['Yellow', 2, 'Grape'],\n",
       " ['Yellow', 2, 'Mango'],\n",
       " ['Yellow', 2, 'Lemon'],\n",
       " ['Yellow', 1, 'Grape'],\n",
       " ['Green', 3, 'Mango'],\n",
       " ['Green', 2, 'Lemon'],\n",
       " ['Green', 5, 'Mango'],\n",
       " ['Yellow', 2, 'Lemon'],\n",
       " ['Yellow', 4, 'Lemon'],\n",
       " ['Green', 2, 'Mango'],\n",
       " ['Green', 5, 'Grape'],\n",
       " ['Green', 5, 'Lemon'],\n",
       " ['Yellow', 4, 'Grape'],\n",
       " ['Green', 2, 'Lemon'],\n",
       " ['Yellow', 1, 'Grape'],\n",
       " ['Yellow', 3, 'Grape'],\n",
       " ['Green', 3, 'Mango'],\n",
       " ['Yellow', 3, 'Grape'],\n",
       " ['Yellow', 5, 'Mango'],\n",
       " ['Yellow', 1, 'Mango'],\n",
       " ['Yellow', 3, 'Lemon'],\n",
       " ['Yellow', 3, 'Mango'],\n",
       " ['Green', 5, 'Mango'],\n",
       " ['Yellow', 5, 'Mango'],\n",
       " ['Green', 5, 'Grape'],\n",
       " ['Yellow', 5, 'Grape'],\n",
       " ['Green', 1, 'Mango'],\n",
       " ['Yellow', 4, 'Mango'],\n",
       " ['Yellow', 5, 'Mango'],\n",
       " ['Green', 4, 'Grape'],\n",
       " ['Yellow', 3, 'Grape'],\n",
       " ['Yellow', 3, 'Grape'],\n",
       " ['Green', 3, 'Lemon'],\n",
       " ['Green', 4, 'Grape'],\n",
       " ['Yellow', 2, 'Lemon'],\n",
       " ['Green', 5, 'Lemon'],\n",
       " ['Yellow', 2, 'Grape'],\n",
       " ['Yellow', 4, 'Mango'],\n",
       " ['Yellow', 3, 'Mango'],\n",
       " ['Green', 5, 'Grape'],\n",
       " ['Yellow', 1, 'Lemon'],\n",
       " ['Green', 4, 'Mango'],\n",
       " ['Green', 1, 'Grape'],\n",
       " ['Yellow', 5, 'Mango'],\n",
       " ['Yellow', 4, 'Grape'],\n",
       " ['Yellow', 3, 'Mango'],\n",
       " ['Yellow', 5, 'Mango'],\n",
       " ['Yellow', 3, 'Grape'],\n",
       " ['Yellow', 3, 'Grape'],\n",
       " ['Yellow', 2, 'Grape'],\n",
       " ['Green', 3, 'Grape'],\n",
       " ['Yellow', 3, 'Lemon'],\n",
       " ['Yellow', 4, 'Mango'],\n",
       " ['Green', 1, 'Grape'],\n",
       " ['Green', 2, 'Lemon'],\n",
       " ['Green', 4, 'Grape'],\n",
       " ['Green', 5, 'Lemon'],\n",
       " ['Yellow', 5, 'Lemon'],\n",
       " ['Yellow', 1, 'Mango'],\n",
       " ['Green', 4, 'Grape'],\n",
       " ['Yellow', 1, 'Mango'],\n",
       " ['Green', 3, 'Lemon'],\n",
       " ['Green', 2, 'Grape'],\n",
       " ['Yellow', 5, 'Mango'],\n",
       " ['Yellow', 4, 'Mango'],\n",
       " ['Yellow', 5, 'Grape'],\n",
       " ['Yellow', 2, 'Lemon'],\n",
       " ['Yellow', 1, 'Mango'],\n",
       " ['Yellow', 1, 'Grape'],\n",
       " ['Yellow', 3, 'Mango'],\n",
       " ['Green', 4, 'Mango'],\n",
       " ['Green', 2, 'Lemon'],\n",
       " ['Yellow', 1, 'Grape'],\n",
       " ['Yellow', 1, 'Lemon'],\n",
       " ['Yellow', 1, 'Grape'],\n",
       " ['Yellow', 3, 'Lemon'],\n",
       " ['Green', 1, 'Mango'],\n",
       " ['Green', 2, 'Grape'],\n",
       " ['Yellow', 5, 'Grape'],\n",
       " ['Yellow', 5, 'Lemon'],\n",
       " ['Yellow', 1, 'Mango'],\n",
       " ['Green', 4, 'Mango'],\n",
       " ['Yellow', 2, 'Grape'],\n",
       " ['Green', 3, 'Lemon'],\n",
       " ['Green', 4, 'Grape'],\n",
       " ['Green', 5, 'Grape'],\n",
       " ['Green', 5, 'Grape'],\n",
       " ['Green', 5, 'Grape'],\n",
       " ['Yellow', 3, 'Mango'],\n",
       " ['Green', 2, 'Lemon'],\n",
       " ['Green', 5, 'Mango'],\n",
       " ['Green', 2, 'Lemon'],\n",
       " ['Yellow', 1, 'Mango'],\n",
       " ['Green', 1, 'Mango'],\n",
       " ['Yellow', 3, 'Lemon'],\n",
       " ['Yellow', 5, 'Grape'],\n",
       " ['Green', 5, 'Lemon'],\n",
       " ['Yellow', 2, 'Grape'],\n",
       " ['Yellow', 5, 'Lemon'],\n",
       " ['Green', 1, 'Grape'],\n",
       " ['Yellow', 1, 'Mango'],\n",
       " ['Green', 4, 'Mango'],\n",
       " ['Green', 5, 'Grape'],\n",
       " ['Yellow', 3, 'Mango'],\n",
       " ['Yellow', 3, 'Mango'],\n",
       " ['Yellow', 2, 'Grape'],\n",
       " ['Green', 5, 'Mango'],\n",
       " ['Green', 1, 'Mango'],\n",
       " ['Green', 3, 'Mango'],\n",
       " ['Green', 5, 'Mango'],\n",
       " ['Green', 1, 'Grape'],\n",
       " ['Green', 4, 'Lemon'],\n",
       " ['Yellow', 2, 'Mango'],\n",
       " ['Yellow', 4, 'Grape'],\n",
       " ['Yellow', 1, 'Mango'],\n",
       " ['Green', 2, 'Grape'],\n",
       " ['Green', 3, 'Lemon'],\n",
       " ['Yellow', 4, 'Grape'],\n",
       " ['Yellow', 2, 'Mango'],\n",
       " ['Yellow', 5, 'Grape']]"
      ]
     },
     "execution_count": 53,
     "metadata": {},
     "output_type": "execute_result"
    }
   ],
   "source": [
    "true_rows, false_rows = partition(training_data_set, Question(0,'Red'))\n",
    "true_rows\n",
    "false_rows"
   ]
  },
  {
   "cell_type": "markdown",
   "id": "842f2dc7",
   "metadata": {},
   "source": [
    "Calculate the Gini Impurity for a list of rows"
   ]
  },
  {
   "cell_type": "code",
   "execution_count": 54,
   "id": "8962870c",
   "metadata": {},
   "outputs": [],
   "source": [
    "def gini(rows):\n",
    "    counts = class_counts(rows)\n",
    "    impurity = 1\n",
    "    for label in counts:\n",
    "        prob_of_label = counts[label]/float(len(rows))\n",
    "        impurity -= prob_of_label**2\n",
    "    return impurity"
   ]
  },
  {
   "cell_type": "code",
   "execution_count": 55,
   "id": "2a465cf9",
   "metadata": {},
   "outputs": [
    {
     "data": {
      "text/plain": [
       "0.6589399846890633"
      ]
     },
     "execution_count": 55,
     "metadata": {},
     "output_type": "execute_result"
    }
   ],
   "source": [
    "gini(training_data_set)"
   ]
  },
  {
   "cell_type": "code",
   "execution_count": 56,
   "id": "0e7a3534",
   "metadata": {},
   "outputs": [],
   "source": [
    "def info_gain(left, right, current_uncertainty):\n",
    "    # The current uncertainty of the starting node, minus\n",
    "    # the weighted impurity of two child nodes.\n",
    "    p = float(len(left))/ (len(left) + len(right))\n",
    "    return current_uncertainty - p*gini(left) - (1 - p) * gini(right)"
   ]
  },
  {
   "cell_type": "code",
   "execution_count": 57,
   "id": "35dc2eff",
   "metadata": {},
   "outputs": [
    {
     "data": {
      "text/plain": [
       "0.0006040200424577424"
      ]
     },
     "execution_count": 57,
     "metadata": {},
     "output_type": "execute_result"
    }
   ],
   "source": [
    "# Demo\n",
    "# calculate the actual uncertainty of our training data\n",
    "\n",
    "current_uncertainty = gini(training_data_set)\n",
    "true_rows, false_rows = partition(training_data_set, Question(0,'Red'))\n",
    "info_gain(true_rows, false_rows, current_uncertainty)"
   ]
  },
  {
   "cell_type": "code",
   "execution_count": 58,
   "id": "fab770a7",
   "metadata": {},
   "outputs": [],
   "source": [
    "def find_best_split(rows):\n",
    "    \"\"\"find the best question to ask by iterating over every feature/value and calculating the information gain\"\"\"\n",
    "    best_gain = 0 #keep track of the best information gain\n",
    "    best_question = None #keep train of the feature / value that produced it\n",
    "    current_uncertainty = gini(rows)\n",
    "    n_features = len(rows[0]) -1 # number of columns\n",
    "    for col in range(n_features): # for each feature\n",
    "        values = set([row[col] for row in rows]) # unique values in column\n",
    "        \n",
    "        for val in values:  # for each value\n",
    "            question = Question(col, val)\n",
    "            \n",
    "            # try splitting the dataset\n",
    "            true_rows, false_rows = partition(rows, question)\n",
    "            \n",
    "            # skip this split if it does not divide the dataset\n",
    "            if len(true_rows) == 0 or len(false_rows) ==0:\n",
    "                continue\n",
    "            # Calculate the information gain from this split \n",
    "            gain = info_gain(true_rows, false_rows, current_uncertainty)\n",
    "            \n",
    "            # We actually can use '>' instead of '>=' here\n",
    "            if gain >= best_gain:\n",
    "                best_gain, best_question = gain, question\n",
    "        return best_gain, best_question"
   ]
  },
  {
   "cell_type": "code",
   "execution_count": 59,
   "id": "66fbaf0e",
   "metadata": {},
   "outputs": [
    {
     "data": {
      "text/plain": [
       "Is color == Yellow?"
      ]
     },
     "execution_count": 59,
     "metadata": {},
     "output_type": "execute_result"
    }
   ],
   "source": [
    "best_gain, best_question = find_best_split(training_data_set)\n",
    "best_gain\n",
    "best_question"
   ]
  },
  {
   "cell_type": "code",
   "execution_count": 60,
   "id": "4ad31a0d",
   "metadata": {},
   "outputs": [],
   "source": [
    "class Leaf:\n",
    "    \"\"\"A Leaf node classifies data.\n",
    "    \n",
    "    This holds a dictionnary of classes(e.g., \"Mango\")-> number of times\n",
    "    it appears in the rows from the training data that reach this leaf.\"\"\"\n",
    "    \n",
    "    def __init__(self, rows):\n",
    "        self.predictions = class_counts(rows)"
   ]
  },
  {
   "cell_type": "code",
   "execution_count": 61,
   "id": "39082889",
   "metadata": {},
   "outputs": [],
   "source": [
    "class Decision_Node:\n",
    "    \"\"\"A Decision Node asks a question.\n",
    "    \n",
    "    This holds a reference to a question, and to the two child nodes.\"\"\"\n",
    "    \n",
    "    def __init__(self,\n",
    "                question,\n",
    "                true_branch,\n",
    "                false_branch):\n",
    "        self.question = question\n",
    "        self.true_branch = true_branch\n",
    "        self.false_branch = false_branch"
   ]
  },
  {
   "cell_type": "code",
   "execution_count": 62,
   "id": "6606adf3",
   "metadata": {},
   "outputs": [],
   "source": [
    "def build_tree(rows):\n",
    "    \"\"\"Builds the tree.\"\"\"\n",
    "    \n",
    "    # Try partitioning the dataset on each of the unique attribute,\n",
    "    # calculate the information gain,\n",
    "    # and return the question that produces the highest gain.\n",
    "    gain, question = find_best_split(rows)\n",
    "    \n",
    "    # Base case: no further info gain\n",
    "    # Since we can ask no further questions,\n",
    "    # we will return a leaf.\n",
    "    if gain == 0:\n",
    "        return Leaf(rows)\n",
    "    # If we reach here, we have found a useful feature / value\n",
    "    # to partition on.\n",
    "    true_rows, false_rows = partition(rows, question)\n",
    "    \n",
    "    # Recursively build the true branch.\n",
    "    true_branch = build_tree(true_rows)\n",
    "    \n",
    "    # Recursively build the false branch.\n",
    "    false_branch = build_tree(false_rows)\n",
    "    \n",
    "    # Return a Question node.\n",
    "    # This records the best feature / value to ask at this point,\n",
    "    # as well as the branches to follow depending on the answer.\n",
    "    return Decision_Node(question, true_branch, false_branch)"
   ]
  },
  {
   "cell_type": "code",
   "execution_count": 63,
   "id": "f737535b",
   "metadata": {},
   "outputs": [],
   "source": [
    "def print_tree(node, spacing = \"\"):\n",
    "    \"\"\"Tree printing function\"\"\"\n",
    "    \n",
    "    # Base case: we've reached a Leaf\n",
    "    if isinstance(node, Leaf):\n",
    "        print(spacing + \"Predict\", node.predictions)\n",
    "        return\n",
    "    \n",
    "    # Print the question at this node\n",
    "    print(spacing + str(node.question))\n",
    "    \n",
    "    # Call this function recursively on the true branch\n",
    "    print(spacing + '--> True:')\n",
    "    print_tree(node.true_branch, spacing + \"  \")\n",
    "    \n",
    "     # Call this function recursively on the false branch\n",
    "    print(spacing + '--> False:')\n",
    "    print_tree(node.false_branch, spacing + \"  \")\n",
    "    "
   ]
  },
  {
   "cell_type": "code",
   "execution_count": 64,
   "id": "efd12eac",
   "metadata": {},
   "outputs": [],
   "source": [
    "def classify(row, node):\n",
    "    # Base case: we've reached a leaf\n",
    "    if isinstance(node, Leaf):\n",
    "        return node.predictions\n",
    "    \n",
    "    # Decide whether to follow the true-branch or the false-branch.\n",
    "    # Compare the feature /value stored in the node,\n",
    "    # to the example we're considering.\n",
    "    if node.question.match(row):\n",
    "        return classify(row, node.true_branch)\n",
    "    else:\n",
    "        return classify(row, node.false_branch)"
   ]
  },
  {
   "cell_type": "code",
   "execution_count": 65,
   "id": "adb606e3",
   "metadata": {},
   "outputs": [],
   "source": [
    "def print_leaf(counts):\n",
    "    \"\"\"Print the predictions at leaf.\"\"\"\n",
    "    total = sum(counts.values())*1.0\n",
    "    probs = {}\n",
    "    for label in counts.keys():\n",
    "        probs[label] = str(int(counts[label] / total*100)) + \"%\"\n",
    "    return probs"
   ]
  },
  {
   "cell_type": "code",
   "execution_count": 66,
   "id": "e77b0d34",
   "metadata": {},
   "outputs": [
    {
     "name": "stdout",
     "output_type": "stream",
     "text": [
      "<__main__.Decision_Node object at 0x16e115810>\n",
      "Actual: Mango. Predicted: {'Mango': '32%', 'Grape': '40%', 'Lemon': '27%'}\n",
      "Actual: Mango. Predicted: {'Grape': '33%', 'Lemon': '25%', 'Mango': '41%'}\n",
      "Actual: Mango. Predicted: {'Mango': '32%', 'Grape': '40%', 'Lemon': '27%'}\n",
      "Actual: Grape. Predicted: {'Mango': '33%', 'Grape': '39%', 'Lemon': '26%'}\n",
      "Actual: Grape. Predicted: {'Mango': '33%', 'Grape': '39%', 'Lemon': '26%'}\n",
      "Actual: Lemon. Predicted: {'Grape': '33%', 'Lemon': '25%', 'Mango': '41%'}\n",
      "Actual: Grape. Predicted: {'Mango': '33%', 'Grape': '39%', 'Lemon': '26%'}\n",
      "Actual: Mango. Predicted: {'Mango': '33%', 'Grape': '39%', 'Lemon': '26%'}\n",
      "Actual: Mango. Predicted: {'Mango': '32%', 'Grape': '40%', 'Lemon': '27%'}\n",
      "Actual: Lemon. Predicted: {'Mango': '33%', 'Grape': '39%', 'Lemon': '26%'}\n",
      "Actual: Grape. Predicted: {'Mango': '33%', 'Grape': '39%', 'Lemon': '26%'}\n",
      "Actual: Lemon. Predicted: {'Mango': '32%', 'Grape': '40%', 'Lemon': '27%'}\n",
      "Actual: Grape. Predicted: {'Mango': '32%', 'Grape': '40%', 'Lemon': '27%'}\n",
      "Actual: Grape. Predicted: {'Grape': '33%', 'Lemon': '25%', 'Mango': '41%'}\n",
      "Actual: Grape. Predicted: {'Grape': '33%', 'Lemon': '25%', 'Mango': '41%'}\n",
      "Actual: Mango. Predicted: {'Grape': '33%', 'Lemon': '25%', 'Mango': '41%'}\n",
      "Actual: Mango. Predicted: {'Mango': '33%', 'Grape': '39%', 'Lemon': '26%'}\n",
      "Actual: Lemon. Predicted: {'Mango': '33%', 'Grape': '39%', 'Lemon': '26%'}\n",
      "Actual: Mango. Predicted: {'Mango': '33%', 'Grape': '39%', 'Lemon': '26%'}\n",
      "Actual: Grape. Predicted: {'Mango': '33%', 'Grape': '39%', 'Lemon': '26%'}\n",
      "Actual: Mango. Predicted: {'Grape': '33%', 'Lemon': '25%', 'Mango': '41%'}\n",
      "Actual: Grape. Predicted: {'Mango': '33%', 'Grape': '39%', 'Lemon': '26%'}\n",
      "Actual: Grape. Predicted: {'Grape': '33%', 'Lemon': '25%', 'Mango': '41%'}\n",
      "Actual: Lemon. Predicted: {'Mango': '32%', 'Grape': '40%', 'Lemon': '27%'}\n",
      "Actual: Lemon. Predicted: {'Mango': '32%', 'Grape': '40%', 'Lemon': '27%'}\n",
      "Actual: Grape. Predicted: {'Grape': '33%', 'Lemon': '25%', 'Mango': '41%'}\n",
      "Actual: Lemon. Predicted: {'Mango': '33%', 'Grape': '39%', 'Lemon': '26%'}\n",
      "Actual: Mango. Predicted: {'Mango': '33%', 'Grape': '39%', 'Lemon': '26%'}\n",
      "Actual: Mango. Predicted: {'Mango': '32%', 'Grape': '40%', 'Lemon': '27%'}\n",
      "Actual: Mango. Predicted: {'Mango': '32%', 'Grape': '40%', 'Lemon': '27%'}\n",
      "Actual: Grape. Predicted: {'Grape': '33%', 'Lemon': '25%', 'Mango': '41%'}\n",
      "Actual: Lemon. Predicted: {'Grape': '33%', 'Lemon': '25%', 'Mango': '41%'}\n",
      "Actual: Mango. Predicted: {'Mango': '32%', 'Grape': '40%', 'Lemon': '27%'}\n",
      "Actual: Lemon. Predicted: {'Mango': '32%', 'Grape': '40%', 'Lemon': '27%'}\n",
      "Actual: Grape. Predicted: {'Grape': '33%', 'Lemon': '25%', 'Mango': '41%'}\n",
      "Actual: Grape. Predicted: {'Grape': '33%', 'Lemon': '25%', 'Mango': '41%'}\n",
      "Actual: Grape. Predicted: {'Mango': '33%', 'Grape': '39%', 'Lemon': '26%'}\n",
      "Actual: Grape. Predicted: {'Grape': '33%', 'Lemon': '25%', 'Mango': '41%'}\n",
      "Actual: Mango. Predicted: {'Mango': '32%', 'Grape': '40%', 'Lemon': '27%'}\n",
      "Actual: Grape. Predicted: {'Mango': '33%', 'Grape': '39%', 'Lemon': '26%'}\n",
      "Actual: Grape. Predicted: {'Mango': '33%', 'Grape': '39%', 'Lemon': '26%'}\n",
      "Actual: Lemon. Predicted: {'Mango': '32%', 'Grape': '40%', 'Lemon': '27%'}\n",
      "Actual: Mango. Predicted: {'Mango': '32%', 'Grape': '40%', 'Lemon': '27%'}\n",
      "Actual: Grape. Predicted: {'Mango': '33%', 'Grape': '39%', 'Lemon': '26%'}\n",
      "Actual: Lemon. Predicted: {'Mango': '33%', 'Grape': '39%', 'Lemon': '26%'}\n",
      "Actual: Grape. Predicted: {'Mango': '32%', 'Grape': '40%', 'Lemon': '27%'}\n",
      "Actual: Grape. Predicted: {'Mango': '32%', 'Grape': '40%', 'Lemon': '27%'}\n",
      "Actual: Lemon. Predicted: {'Mango': '32%', 'Grape': '40%', 'Lemon': '27%'}\n",
      "Actual: Lemon. Predicted: {'Mango': '33%', 'Grape': '39%', 'Lemon': '26%'}\n",
      "Actual: Mango. Predicted: {'Grape': '33%', 'Lemon': '25%', 'Mango': '41%'}\n",
      "Actual: Grape. Predicted: {'Grape': '33%', 'Lemon': '25%', 'Mango': '41%'}\n",
      "Actual: Grape. Predicted: {'Mango': '32%', 'Grape': '40%', 'Lemon': '27%'}\n",
      "Actual: Mango. Predicted: {'Mango': '32%', 'Grape': '40%', 'Lemon': '27%'}\n",
      "Actual: Lemon. Predicted: {'Mango': '32%', 'Grape': '40%', 'Lemon': '27%'}\n",
      "Actual: Mango. Predicted: {'Mango': '33%', 'Grape': '39%', 'Lemon': '26%'}\n",
      "Actual: Mango. Predicted: {'Mango': '33%', 'Grape': '39%', 'Lemon': '26%'}\n",
      "Actual: Grape. Predicted: {'Mango': '32%', 'Grape': '40%', 'Lemon': '27%'}\n",
      "Actual: Mango. Predicted: {'Mango': '32%', 'Grape': '40%', 'Lemon': '27%'}\n",
      "Actual: Grape. Predicted: {'Grape': '33%', 'Lemon': '25%', 'Mango': '41%'}\n",
      "Actual: Lemon. Predicted: {'Grape': '33%', 'Lemon': '25%', 'Mango': '41%'}\n",
      "Actual: Grape. Predicted: {'Mango': '33%', 'Grape': '39%', 'Lemon': '26%'}\n",
      "Actual: Mango. Predicted: {'Mango': '32%', 'Grape': '40%', 'Lemon': '27%'}\n",
      "Actual: Mango. Predicted: {'Mango': '32%', 'Grape': '40%', 'Lemon': '27%'}\n",
      "Actual: Lemon. Predicted: {'Mango': '32%', 'Grape': '40%', 'Lemon': '27%'}\n",
      "Actual: Lemon. Predicted: {'Mango': '33%', 'Grape': '39%', 'Lemon': '26%'}\n",
      "Actual: Grape. Predicted: {'Grape': '33%', 'Lemon': '25%', 'Mango': '41%'}\n",
      "Actual: Grape. Predicted: {'Grape': '33%', 'Lemon': '25%', 'Mango': '41%'}\n",
      "Actual: Mango. Predicted: {'Mango': '33%', 'Grape': '39%', 'Lemon': '26%'}\n",
      "Actual: Lemon. Predicted: {'Grape': '33%', 'Lemon': '25%', 'Mango': '41%'}\n",
      "Actual: Mango. Predicted: {'Grape': '33%', 'Lemon': '25%', 'Mango': '41%'}\n",
      "Actual: Mango. Predicted: {'Grape': '33%', 'Lemon': '25%', 'Mango': '41%'}\n",
      "Actual: Lemon. Predicted: {'Grape': '33%', 'Lemon': '25%', 'Mango': '41%'}\n",
      "Actual: Mango. Predicted: {'Grape': '33%', 'Lemon': '25%', 'Mango': '41%'}\n",
      "Actual: Mango. Predicted: {'Mango': '32%', 'Grape': '40%', 'Lemon': '27%'}\n",
      "Actual: Mango. Predicted: {'Grape': '33%', 'Lemon': '25%', 'Mango': '41%'}\n",
      "Actual: Grape. Predicted: {'Mango': '32%', 'Grape': '40%', 'Lemon': '27%'}\n",
      "Actual: Mango. Predicted: {'Mango': '32%', 'Grape': '40%', 'Lemon': '27%'}\n",
      "Actual: Lemon. Predicted: {'Grape': '33%', 'Lemon': '25%', 'Mango': '41%'}\n",
      "Actual: Lemon. Predicted: {'Grape': '33%', 'Lemon': '25%', 'Mango': '41%'}\n",
      "Actual: Lemon. Predicted: {'Mango': '32%', 'Grape': '40%', 'Lemon': '27%'}\n",
      "Actual: Grape. Predicted: {'Mango': '32%', 'Grape': '40%', 'Lemon': '27%'}\n",
      "Actual: Lemon. Predicted: {'Mango': '32%', 'Grape': '40%', 'Lemon': '27%'}\n",
      "Actual: Lemon. Predicted: {'Mango': '32%', 'Grape': '40%', 'Lemon': '27%'}\n",
      "Actual: Mango. Predicted: {'Grape': '33%', 'Lemon': '25%', 'Mango': '41%'}\n",
      "Actual: Mango. Predicted: {'Grape': '33%', 'Lemon': '25%', 'Mango': '41%'}\n",
      "Actual: Mango. Predicted: {'Mango': '33%', 'Grape': '39%', 'Lemon': '26%'}\n",
      "Actual: Mango. Predicted: {'Mango': '32%', 'Grape': '40%', 'Lemon': '27%'}\n",
      "Actual: Lemon. Predicted: {'Grape': '33%', 'Lemon': '25%', 'Mango': '41%'}\n",
      "Actual: Grape. Predicted: {'Grape': '33%', 'Lemon': '25%', 'Mango': '41%'}\n",
      "Actual: Lemon. Predicted: {'Grape': '33%', 'Lemon': '25%', 'Mango': '41%'}\n",
      "Actual: Grape. Predicted: {'Grape': '33%', 'Lemon': '25%', 'Mango': '41%'}\n",
      "Actual: Grape. Predicted: {'Mango': '33%', 'Grape': '39%', 'Lemon': '26%'}\n",
      "Actual: Grape. Predicted: {'Grape': '33%', 'Lemon': '25%', 'Mango': '41%'}\n",
      "Actual: Grape. Predicted: {'Mango': '32%', 'Grape': '40%', 'Lemon': '27%'}\n",
      "Actual: Lemon. Predicted: {'Grape': '33%', 'Lemon': '25%', 'Mango': '41%'}\n",
      "Actual: Grape. Predicted: {'Mango': '32%', 'Grape': '40%', 'Lemon': '27%'}\n",
      "Actual: Mango. Predicted: {'Mango': '33%', 'Grape': '39%', 'Lemon': '26%'}\n",
      "Actual: Lemon. Predicted: {'Mango': '33%', 'Grape': '39%', 'Lemon': '26%'}\n",
      "Actual: Mango. Predicted: {'Grape': '33%', 'Lemon': '25%', 'Mango': '41%'}\n",
      "Actual: Mango. Predicted: {'Mango': '33%', 'Grape': '39%', 'Lemon': '26%'}\n",
      "Actual: Mango. Predicted: {'Grape': '33%', 'Lemon': '25%', 'Mango': '41%'}\n",
      "Actual: Lemon. Predicted: {'Mango': '32%', 'Grape': '40%', 'Lemon': '27%'}\n",
      "Actual: Grape. Predicted: {'Mango': '33%', 'Grape': '39%', 'Lemon': '26%'}\n",
      "Actual: Mango. Predicted: {'Mango': '32%', 'Grape': '40%', 'Lemon': '27%'}\n",
      "Actual: Lemon. Predicted: {'Grape': '33%', 'Lemon': '25%', 'Mango': '41%'}\n",
      "Actual: Mango. Predicted: {'Mango': '33%', 'Grape': '39%', 'Lemon': '26%'}\n",
      "Actual: Lemon. Predicted: {'Grape': '33%', 'Lemon': '25%', 'Mango': '41%'}\n",
      "Actual: Lemon. Predicted: {'Mango': '33%', 'Grape': '39%', 'Lemon': '26%'}\n",
      "Actual: Lemon. Predicted: {'Grape': '33%', 'Lemon': '25%', 'Mango': '41%'}\n",
      "Actual: Lemon. Predicted: {'Grape': '33%', 'Lemon': '25%', 'Mango': '41%'}\n",
      "Actual: Mango. Predicted: {'Grape': '33%', 'Lemon': '25%', 'Mango': '41%'}\n",
      "Actual: Mango. Predicted: {'Mango': '32%', 'Grape': '40%', 'Lemon': '27%'}\n",
      "Actual: Mango. Predicted: {'Mango': '33%', 'Grape': '39%', 'Lemon': '26%'}\n",
      "Actual: Mango. Predicted: {'Mango': '33%', 'Grape': '39%', 'Lemon': '26%'}\n",
      "Actual: Lemon. Predicted: {'Grape': '33%', 'Lemon': '25%', 'Mango': '41%'}\n",
      "Actual: Mango. Predicted: {'Mango': '33%', 'Grape': '39%', 'Lemon': '26%'}\n",
      "Actual: Lemon. Predicted: {'Grape': '33%', 'Lemon': '25%', 'Mango': '41%'}\n",
      "Actual: Lemon. Predicted: {'Mango': '33%', 'Grape': '39%', 'Lemon': '26%'}\n",
      "Actual: Mango. Predicted: {'Grape': '33%', 'Lemon': '25%', 'Mango': '41%'}\n",
      "Actual: Mango. Predicted: {'Mango': '33%', 'Grape': '39%', 'Lemon': '26%'}\n",
      "Actual: Lemon. Predicted: {'Grape': '33%', 'Lemon': '25%', 'Mango': '41%'}\n",
      "Actual: Grape. Predicted: {'Mango': '33%', 'Grape': '39%', 'Lemon': '26%'}\n",
      "Actual: Mango. Predicted: {'Grape': '33%', 'Lemon': '25%', 'Mango': '41%'}\n",
      "Actual: Mango. Predicted: {'Mango': '32%', 'Grape': '40%', 'Lemon': '27%'}\n",
      "Actual: Grape. Predicted: {'Mango': '33%', 'Grape': '39%', 'Lemon': '26%'}\n",
      "Actual: Lemon. Predicted: {'Mango': '33%', 'Grape': '39%', 'Lemon': '26%'}\n",
      "Actual: Lemon. Predicted: {'Grape': '33%', 'Lemon': '25%', 'Mango': '41%'}\n",
      "Actual: Lemon. Predicted: {'Mango': '33%', 'Grape': '39%', 'Lemon': '26%'}\n",
      "Actual: Grape. Predicted: {'Mango': '32%', 'Grape': '40%', 'Lemon': '27%'}\n",
      "Actual: Mango. Predicted: {'Grape': '33%', 'Lemon': '25%', 'Mango': '41%'}\n",
      "Actual: Grape. Predicted: {'Grape': '33%', 'Lemon': '25%', 'Mango': '41%'}\n",
      "Actual: Grape. Predicted: {'Mango': '32%', 'Grape': '40%', 'Lemon': '27%'}\n",
      "Actual: Mango. Predicted: {'Mango': '33%', 'Grape': '39%', 'Lemon': '26%'}\n",
      "Actual: Lemon. Predicted: {'Grape': '33%', 'Lemon': '25%', 'Mango': '41%'}\n",
      "Actual: Lemon. Predicted: {'Mango': '33%', 'Grape': '39%', 'Lemon': '26%'}\n",
      "Actual: Grape. Predicted: {'Mango': '33%', 'Grape': '39%', 'Lemon': '26%'}\n",
      "Actual: Grape. Predicted: {'Mango': '32%', 'Grape': '40%', 'Lemon': '27%'}\n",
      "Actual: Lemon. Predicted: {'Mango': '33%', 'Grape': '39%', 'Lemon': '26%'}\n",
      "Actual: Grape. Predicted: {'Grape': '33%', 'Lemon': '25%', 'Mango': '41%'}\n",
      "Actual: Grape. Predicted: {'Mango': '33%', 'Grape': '39%', 'Lemon': '26%'}\n",
      "Actual: Grape. Predicted: {'Mango': '32%', 'Grape': '40%', 'Lemon': '27%'}\n",
      "Actual: Grape. Predicted: {'Grape': '33%', 'Lemon': '25%', 'Mango': '41%'}\n",
      "Actual: Mango. Predicted: {'Mango': '33%', 'Grape': '39%', 'Lemon': '26%'}\n",
      "Actual: Lemon. Predicted: {'Grape': '33%', 'Lemon': '25%', 'Mango': '41%'}\n",
      "Actual: Lemon. Predicted: {'Mango': '33%', 'Grape': '39%', 'Lemon': '26%'}\n",
      "Actual: Lemon. Predicted: {'Mango': '33%', 'Grape': '39%', 'Lemon': '26%'}\n",
      "Actual: Grape. Predicted: {'Mango': '32%', 'Grape': '40%', 'Lemon': '27%'}\n",
      "Actual: Mango. Predicted: {'Grape': '33%', 'Lemon': '25%', 'Mango': '41%'}\n",
      "Actual: Grape. Predicted: {'Mango': '32%', 'Grape': '40%', 'Lemon': '27%'}\n",
      "Actual: Grape. Predicted: {'Grape': '33%', 'Lemon': '25%', 'Mango': '41%'}\n",
      "Actual: Grape. Predicted: {'Grape': '33%', 'Lemon': '25%', 'Mango': '41%'}\n",
      "Actual: Grape. Predicted: {'Mango': '33%', 'Grape': '39%', 'Lemon': '26%'}\n",
      "Actual: Mango. Predicted: {'Grape': '33%', 'Lemon': '25%', 'Mango': '41%'}\n",
      "Actual: Grape. Predicted: {'Mango': '33%', 'Grape': '39%', 'Lemon': '26%'}\n",
      "Actual: Lemon. Predicted: {'Mango': '33%', 'Grape': '39%', 'Lemon': '26%'}\n",
      "Actual: Lemon. Predicted: {'Mango': '32%', 'Grape': '40%', 'Lemon': '27%'}\n",
      "Actual: Mango. Predicted: {'Mango': '33%', 'Grape': '39%', 'Lemon': '26%'}\n",
      "Actual: Mango. Predicted: {'Mango': '32%', 'Grape': '40%', 'Lemon': '27%'}\n",
      "Actual: Lemon. Predicted: {'Grape': '33%', 'Lemon': '25%', 'Mango': '41%'}\n",
      "Actual: Grape. Predicted: {'Mango': '32%', 'Grape': '40%', 'Lemon': '27%'}\n",
      "Actual: Grape. Predicted: {'Grape': '33%', 'Lemon': '25%', 'Mango': '41%'}\n",
      "Actual: Lemon. Predicted: {'Mango': '32%', 'Grape': '40%', 'Lemon': '27%'}\n",
      "Actual: Lemon. Predicted: {'Mango': '32%', 'Grape': '40%', 'Lemon': '27%'}\n",
      "Actual: Grape. Predicted: {'Mango': '33%', 'Grape': '39%', 'Lemon': '26%'}\n",
      "Actual: Grape. Predicted: {'Mango': '32%', 'Grape': '40%', 'Lemon': '27%'}\n",
      "Actual: Mango. Predicted: {'Grape': '33%', 'Lemon': '25%', 'Mango': '41%'}\n",
      "Actual: Mango. Predicted: {'Mango': '33%', 'Grape': '39%', 'Lemon': '26%'}\n",
      "Actual: Mango. Predicted: {'Grape': '33%', 'Lemon': '25%', 'Mango': '41%'}\n",
      "Actual: Lemon. Predicted: {'Mango': '32%', 'Grape': '40%', 'Lemon': '27%'}\n",
      "Actual: Grape. Predicted: {'Mango': '32%', 'Grape': '40%', 'Lemon': '27%'}\n",
      "Actual: Grape. Predicted: {'Grape': '33%', 'Lemon': '25%', 'Mango': '41%'}\n",
      "Actual: Mango. Predicted: {'Grape': '33%', 'Lemon': '25%', 'Mango': '41%'}\n",
      "Actual: Lemon. Predicted: {'Mango': '32%', 'Grape': '40%', 'Lemon': '27%'}\n",
      "Actual: Grape. Predicted: {'Grape': '33%', 'Lemon': '25%', 'Mango': '41%'}\n",
      "Actual: Grape. Predicted: {'Grape': '33%', 'Lemon': '25%', 'Mango': '41%'}\n",
      "Actual: Mango. Predicted: {'Mango': '32%', 'Grape': '40%', 'Lemon': '27%'}\n",
      "Actual: Grape. Predicted: {'Grape': '33%', 'Lemon': '25%', 'Mango': '41%'}\n",
      "Actual: Grape. Predicted: {'Grape': '33%', 'Lemon': '25%', 'Mango': '41%'}\n",
      "Actual: Mango. Predicted: {'Grape': '33%', 'Lemon': '25%', 'Mango': '41%'}\n",
      "Actual: Mango. Predicted: {'Grape': '33%', 'Lemon': '25%', 'Mango': '41%'}\n",
      "Actual: Mango. Predicted: {'Grape': '33%', 'Lemon': '25%', 'Mango': '41%'}\n",
      "Actual: Lemon. Predicted: {'Mango': '32%', 'Grape': '40%', 'Lemon': '27%'}\n",
      "Actual: Lemon. Predicted: {'Mango': '32%', 'Grape': '40%', 'Lemon': '27%'}\n",
      "Actual: Mango. Predicted: {'Grape': '33%', 'Lemon': '25%', 'Mango': '41%'}\n",
      "Actual: Lemon. Predicted: {'Mango': '33%', 'Grape': '39%', 'Lemon': '26%'}\n",
      "Actual: Lemon. Predicted: {'Mango': '32%', 'Grape': '40%', 'Lemon': '27%'}\n",
      "Actual: Lemon. Predicted: {'Mango': '33%', 'Grape': '39%', 'Lemon': '26%'}\n",
      "Actual: Lemon. Predicted: {'Grape': '33%', 'Lemon': '25%', 'Mango': '41%'}\n",
      "Actual: Lemon. Predicted: {'Grape': '33%', 'Lemon': '25%', 'Mango': '41%'}\n",
      "Actual: Lemon. Predicted: {'Mango': '32%', 'Grape': '40%', 'Lemon': '27%'}\n",
      "Actual: Grape. Predicted: {'Mango': '33%', 'Grape': '39%', 'Lemon': '26%'}\n",
      "Actual: Grape. Predicted: {'Grape': '33%', 'Lemon': '25%', 'Mango': '41%'}\n",
      "Actual: Grape. Predicted: {'Mango': '33%', 'Grape': '39%', 'Lemon': '26%'}\n",
      "Actual: Mango. Predicted: {'Mango': '33%', 'Grape': '39%', 'Lemon': '26%'}\n",
      "Actual: Mango. Predicted: {'Grape': '33%', 'Lemon': '25%', 'Mango': '41%'}\n",
      "Actual: Mango. Predicted: {'Grape': '33%', 'Lemon': '25%', 'Mango': '41%'}\n",
      "Actual: Mango. Predicted: {'Grape': '33%', 'Lemon': '25%', 'Mango': '41%'}\n",
      "Actual: Mango. Predicted: {'Mango': '32%', 'Grape': '40%', 'Lemon': '27%'}\n",
      "Actual: Mango. Predicted: {'Grape': '33%', 'Lemon': '25%', 'Mango': '41%'}\n",
      "Actual: Grape. Predicted: {'Grape': '33%', 'Lemon': '25%', 'Mango': '41%'}\n",
      "Actual: Grape. Predicted: {'Mango': '33%', 'Grape': '39%', 'Lemon': '26%'}\n",
      "Actual: Grape. Predicted: {'Grape': '33%', 'Lemon': '25%', 'Mango': '41%'}\n",
      "Actual: Mango. Predicted: {'Grape': '33%', 'Lemon': '25%', 'Mango': '41%'}\n",
      "Actual: Mango. Predicted: {'Mango': '33%', 'Grape': '39%', 'Lemon': '26%'}\n",
      "Actual: Grape. Predicted: {'Mango': '33%', 'Grape': '39%', 'Lemon': '26%'}\n",
      "Actual: Grape. Predicted: {'Mango': '33%', 'Grape': '39%', 'Lemon': '26%'}\n",
      "Actual: Lemon. Predicted: {'Mango': '33%', 'Grape': '39%', 'Lemon': '26%'}\n",
      "Actual: Grape. Predicted: {'Mango': '32%', 'Grape': '40%', 'Lemon': '27%'}\n",
      "Actual: Lemon. Predicted: {'Mango': '32%', 'Grape': '40%', 'Lemon': '27%'}\n",
      "Actual: Lemon. Predicted: {'Grape': '33%', 'Lemon': '25%', 'Mango': '41%'}\n",
      "Actual: Lemon. Predicted: {'Mango': '32%', 'Grape': '40%', 'Lemon': '27%'}\n",
      "Actual: Grape. Predicted: {'Mango': '32%', 'Grape': '40%', 'Lemon': '27%'}\n",
      "Actual: Mango. Predicted: {'Mango': '32%', 'Grape': '40%', 'Lemon': '27%'}\n",
      "Actual: Mango. Predicted: {'Mango': '33%', 'Grape': '39%', 'Lemon': '26%'}\n",
      "Actual: Lemon. Predicted: {'Mango': '32%', 'Grape': '40%', 'Lemon': '27%'}\n",
      "Actual: Mango. Predicted: {'Mango': '32%', 'Grape': '40%', 'Lemon': '27%'}\n",
      "Actual: Mango. Predicted: {'Grape': '33%', 'Lemon': '25%', 'Mango': '41%'}\n",
      "Actual: Grape. Predicted: {'Mango': '32%', 'Grape': '40%', 'Lemon': '27%'}\n",
      "Actual: Mango. Predicted: {'Mango': '33%', 'Grape': '39%', 'Lemon': '26%'}\n",
      "Actual: Lemon. Predicted: {'Mango': '33%', 'Grape': '39%', 'Lemon': '26%'}\n",
      "Actual: Lemon. Predicted: {'Mango': '33%', 'Grape': '39%', 'Lemon': '26%'}\n",
      "Actual: Mango. Predicted: {'Mango': '32%', 'Grape': '40%', 'Lemon': '27%'}\n",
      "Actual: Grape. Predicted: {'Mango': '33%', 'Grape': '39%', 'Lemon': '26%'}\n",
      "Actual: Grape. Predicted: {'Mango': '32%', 'Grape': '40%', 'Lemon': '27%'}\n",
      "Actual: Grape. Predicted: {'Mango': '33%', 'Grape': '39%', 'Lemon': '26%'}\n",
      "Actual: Mango. Predicted: {'Grape': '33%', 'Lemon': '25%', 'Mango': '41%'}\n",
      "Actual: Grape. Predicted: {'Mango': '33%', 'Grape': '39%', 'Lemon': '26%'}\n",
      "Actual: Lemon. Predicted: {'Mango': '32%', 'Grape': '40%', 'Lemon': '27%'}\n",
      "Actual: Mango. Predicted: {'Mango': '32%', 'Grape': '40%', 'Lemon': '27%'}\n",
      "Actual: Mango. Predicted: {'Mango': '33%', 'Grape': '39%', 'Lemon': '26%'}\n",
      "Actual: Mango. Predicted: {'Grape': '33%', 'Lemon': '25%', 'Mango': '41%'}\n",
      "Actual: Mango. Predicted: {'Mango': '33%', 'Grape': '39%', 'Lemon': '26%'}\n",
      "Actual: Mango. Predicted: {'Mango': '32%', 'Grape': '40%', 'Lemon': '27%'}\n",
      "Actual: Lemon. Predicted: {'Grape': '33%', 'Lemon': '25%', 'Mango': '41%'}\n",
      "Actual: Mango. Predicted: {'Mango': '32%', 'Grape': '40%', 'Lemon': '27%'}\n",
      "Actual: Mango. Predicted: {'Mango': '33%', 'Grape': '39%', 'Lemon': '26%'}\n",
      "Actual: Grape. Predicted: {'Mango': '32%', 'Grape': '40%', 'Lemon': '27%'}\n",
      "Actual: Grape. Predicted: {'Mango': '33%', 'Grape': '39%', 'Lemon': '26%'}\n"
     ]
    }
   ],
   "source": [
    "# Demo\n",
    "# Printing that is a bit nicer\n",
    "# print_Leaf(classify(training_data_set[0], my_tree))\n",
    "\n",
    "# On the second example, the confidence is lower\n",
    "# print_Leaf(classify(training_data_set[1], my_tree))\n",
    "\n",
    "if __name__ == '__main__':\n",
    "    my_tree = build_tree(training_data_set)\n",
    "    \n",
    "    print(my_tree)\n",
    "    \n",
    "    # Evaluate\n",
    "    testing_data = pd.read_csv('fruit_test.csv')\n",
    "    testing_data_set = []\n",
    "    for index, row in testing_data.iterrows():\n",
    "        testing_data_set.append([row[0], row[1], row[2]])\n",
    "    \n",
    "    for row in testing_data_set:\n",
    "        print(\"Actual: %s. Predicted: %s\"%\n",
    "             (row[-1], print_leaf(classify(row, my_tree))))"
   ]
  },
  {
   "cell_type": "markdown",
   "id": "4cb92ec6",
   "metadata": {},
   "source": [
    "#### Advantages:\n",
    "\n",
    "1. Simple and easy to understand: Decision trees are simple to understand and can be easily visualized which makes them easy to explain to stakeholders.\n",
    "\n",
    "2.  Can handle both continous and categorical data: It can handle both continous and categorical data, making them a versatile for a wide range of datasets.\n",
    "\n",
    "3. Fast and efficient: Decision Trees are fast and efficient, making the ideal for large datasets\n",
    "\n",
    "4. Can handle missing values: Decision trees can handle missing values, making them a good choice for datasets with missing data.\n",
    "\n",
    "#### Drawbacks:\n",
    "1. Prone to overfitting: DT are prone to overfitting especially when the tree is too deep and has many branches.\n",
    "\n",
    "2. Sensitive to small changes in the data: DT are sensitive to small changes in the data, which can result in significant changes in the structure of the tree.\n",
    "\n",
    "3. Biased towards variables with many categories: DT can be biased towards with many categories, giving these variables more importance in the tree\n",
    "\n",
    "4. Not suitable for continous dependant variables: DT are not suitable for continous dependant variables, as they are designed to handle categorical dependant variables.\n",
    "\n",
    "4. Can be unstable: DT can be unstable, meaning that small changes in the data can result in large changes in the structure of the tree."
   ]
  },
  {
   "cell_type": "markdown",
   "id": "14906751",
   "metadata": {},
   "source": [
    "# <font size = \"14\">  Unsupervised Learning</font>"
   ]
  },
  {
   "cell_type": "markdown",
   "id": "b27faeab",
   "metadata": {},
   "source": [
    "<font size = \"4\"> Still mathematically, unsupervised learning is where you only have input data X and no corresponding output Y.\n",
    "The goal of unsupervised learning is to model the underlying structure or distribution in the data in order to learn more about the data.</font>\n",
    "    \n",
    "    \n",
    "<font size = \"4\">To make it simple, in unsupervised learning approach, the data instances of a training data set do not have an expected output associated to them. Instead, unsupervised learning algorithm detects pattern based on inner characteristics of input data.\n",
    "</font>\n",
    "\n",
    "<font size = \"4\">An example of machine learning task that applies to unsupervised learning is clustering. In this task, similar data instances are grouped together in order to identify clusters of data.\n",
    "</font>\n",
    "\n",
    "<font size = \"4\">In this presentation, I will use unsupervised learning algorithms such as KMeans clustering and Elliptic Envelope, and Local Outlier Factor used in anomaly detection algorithm.</font>"
   ]
  },
  {
   "cell_type": "markdown",
   "id": "b59d9c0c",
   "metadata": {},
   "source": [
    "# <font size = \"6\">  Anomaly Detection Algorithm</font>"
   ]
  },
  {
   "cell_type": "markdown",
   "id": "3bec9dd5",
   "metadata": {},
   "source": [
    "<font size = \"4\">Anomaly detection is a technique used to identify unusual pattern that do not conform to the expected behaviour or outliers. It has many applications in cybersecurity like intrusion detection, like identifying strange patterns in the network traffic that could signal a hack or system health monitoring that is spotting a deadly tumor in the MRI scan.\n",
    "\n",
    "</font>"
   ]
  },
  {
   "cell_type": "markdown",
   "id": "ff3a01e9",
   "metadata": {},
   "source": [
    "### Anomaly detection algorithm using KMeans clustering and Elliptic Envelope.\n",
    "\n",
    "<font size = \"4\">Clustering algorithm is used to group the data based on similar conditions.\n",
    "In simple words, the aim is to segregate groups with similar traits and assigning them into a cluster. \n",
    "</font>"
   ]
  },
  {
   "cell_type": "code",
   "execution_count": 67,
   "id": "d76295b3",
   "metadata": {},
   "outputs": [],
   "source": [
    "from sklearn.cluster import KMeans\n",
    "from sklearn.covariance import EllipticEnvelope"
   ]
  },
  {
   "cell_type": "code",
   "execution_count": 68,
   "id": "036a4538",
   "metadata": {},
   "outputs": [],
   "source": [
    "# data: array-like, shape(n_samples, n_features)\n",
    "# the input data to train the model.\n",
    "\n",
    "#n_clusters: The number of clusters to use in the KMeans model\n",
    "#contamination: The amount of contamination of the data set,\n",
    "#i.e. the proportion of outliers in the data set. Used when fitting the EllipticEnvelope\n",
    "# This function returns a boolean array indicating whether a sample is an anomaly (True) or not (False)\n",
    "def anomaly_detection(data_set, n_clusters = 10, contamination = 0.1):\n",
    "    # fit KMeans model to data_set\n",
    "    kmeans = KMeans(n_clusters= n_clusters)\n",
    "    kmeans. fit(data_set)\n",
    "    \n",
    "    # assign each sample to its closest cluster\n",
    "    cluster_labels = kmeans.predict(data_set)\n",
    "    \n",
    "    # fit EllipticEnveloppe model to each cluster\n",
    "    anomalies = np.zeros(data_set.shape[0], dtype= bool)\n",
    "    for i in range(n_clusters):\n",
    "        cluster = data_set[cluster_labels == i]\n",
    "        clf = EllipticEnvelope(contamination= contamination)\n",
    "        clf.fit(cluster)\n",
    "        anomalies[cluster_labels == i] = clf.predict(cluster) == -1\n",
    "\n",
    "    return anomalies"
   ]
  },
  {
   "cell_type": "code",
   "execution_count": 69,
   "id": "3ece37c6",
   "metadata": {},
   "outputs": [],
   "source": [
    "# generate some example data_set\n",
    "np.random.seed(0)\n",
    "n_samples = 1000\n",
    "data_set = np.random.normal(size=(n_samples,1))"
   ]
  },
  {
   "cell_type": "code",
   "execution_count": 70,
   "id": "751dcda7",
   "metadata": {},
   "outputs": [],
   "source": [
    "# add some anomalies\n",
    "data_set[:10] = np.random.normal(loc= 10, size=(10,1))"
   ]
  },
  {
   "cell_type": "code",
   "execution_count": 71,
   "id": "c357f3ea",
   "metadata": {},
   "outputs": [
    {
     "name": "stderr",
     "output_type": "stream",
     "text": [
      "/opt/homebrew/lib/python3.10/site-packages/sklearn/cluster/_kmeans.py:870: FutureWarning: The default value of `n_init` will change from 10 to 'auto' in 1.4. Set the value of `n_init` explicitly to suppress the warning\n",
      "  warnings.warn(\n"
     ]
    }
   ],
   "source": [
    "# run anomaly detection\n",
    "anomalies = anomaly_detection(data_set)"
   ]
  },
  {
   "cell_type": "code",
   "execution_count": 73,
   "id": "9b341859",
   "metadata": {},
   "outputs": [
    {
     "data": {
      "image/png": "[encoded data removed]",
      "text/plain": [
       "<Figure size 640x480 with 1 Axes>"
      ]
     },
     "metadata": {},
     "output_type": "display_data"
    }
   ],
   "source": [
    "# plot the data with the anomalies\n",
    "df = pd.DataFrame(data_set, columns=[\"value\"])\n",
    "df[\"anomaly\"] = anomalies\n",
    "\n",
    "normal = df[df[\"anomaly\"] == False]\n",
    "abnormal = df[df[\"anomaly\"] == True]\n",
    "\n",
    "fig, ax = plt.subplots()\n",
    "ax.scatter(normal.index, normal[\"value\"], c = \"blue\", label = \"normal\")\n",
    "ax.scatter(abnormal.index, abnormal[\"value\"], c =\"red\", label= \"abnormal\")\n",
    "ax.legend()\n",
    "ax.set_title(\"Anomaly Detection\")\n",
    "ax.set_xlabel(\"Sample index\")\n",
    "ax.set_ylabel(\"Value\")\n",
    "plt.show()"
   ]
  },
  {
   "cell_type": "code",
   "execution_count": 75,
   "id": "e507f1f4",
   "metadata": {},
   "outputs": [
    {
     "data": {
      "image/png": "[encoded data removed]",
      "text/plain": [
       "<Figure size 640x480 with 1 Axes>"
      ]
     },
     "metadata": {},
     "output_type": "display_data"
    }
   ],
   "source": [
    "# plot the data and the anomalies using an histogram\n",
    "df = pd.DataFrame(data_set, columns=[\"value\"])\n",
    "df[\"anomaly\"] = anomalies\n",
    "\n",
    "normal = df[df[\"anomaly\"]==False][\"value\"]\n",
    "abnormal = df[df[\"anomaly\"]==True][\"value\"]\n",
    "fig, ax = plt.subplots()\n",
    "ax.hist([normal, abnormal], bins = 50, color=[\"blue\", \"red\"], stacked= True, alpha = 0.5, label=[\"normal\", \"abnormal\"])\n",
    "ax.legend()\n",
    "ax.set_title(\"Anomaly Detection\")\n",
    "ax.set_xlabel(\"Value\")\n",
    "ax.set_ylabel(\"Frequency\")\n",
    "plt.show()"
   ]
  },
  {
   "cell_type": "markdown",
   "id": "a2d25ada",
   "metadata": {},
   "source": [
    "#### Advantages of KMeans:\n",
    "\n",
    "1. Simple and easy understand\n",
    "\n",
    "2. Fast and efficient\n",
    "\n",
    "3. Can handle both continous and categorical data\n",
    "\n",
    "4. Can handle non-linearrelationships\n",
    "\n",
    "#### Drawbacks of KMeans:\n",
    "1. Prone to overfitting: When the number of clusters is to high.\n",
    "\n",
    "2. Sensitive to initial conditions: KMeans is sensitive to initial conditions, meaning that the results can be different depending on the starting point of the algorithm.\n",
    "\n",
    "3. Assume spherical clusters: It assumes that clusters are spherical in shape, which may not be appropriate for some datasets.\n",
    "\n",
    "4. Can be senstive to outliers: which can result in distorded clusters.\n",
    "\n",
    "\n",
    "#### Adventages of Elliptic Encelope:\n",
    "\n",
    "1. Robust to outliers\n",
    "\n",
    "2. Can handle non-linear relationships\n",
    "\n",
    "3. Can handle high-dimensional data: Good choice for datasets with many independant variables.\n",
    "\n",
    "#### Drawbacks of Elliptic Envelope:\n",
    "\n",
    "1. Assumes Gaussian Distribution: which may not be appropriate for some datasets\n",
    "\n",
    "2. Sensitive to the choice of contamination: The results can be different depending on the contamination parameter.\n",
    "\n",
    "3. Not suitable for large datasets: EE can be slow for large datasets."
   ]
  },
  {
   "cell_type": "markdown",
   "id": "fd1ebf6c",
   "metadata": {},
   "source": [
    "### Anomaly detection algorithm using the Local Outlier Factor(LOF). "
   ]
  },
  {
   "cell_type": "code",
   "execution_count": 76,
   "id": "f861da84",
   "metadata": {},
   "outputs": [],
   "source": [
    "from sklearn.neighbors import LocalOutlierFactor"
   ]
  },
  {
   "cell_type": "code",
   "execution_count": 77,
   "id": "ca8a1192",
   "metadata": {},
   "outputs": [],
   "source": [
    "# data: array-like, shape(n_samples, n_features)\n",
    "# the input data to train the model.\n",
    "\n",
    "#n_clusters: The number of clusters to use in the KMeans model\n",
    "#contamination: The amount of contamination of the data set,\n",
    "#i.e. the proportion of outliers in the data set. Used when fitting the LocalOutlierFactor\n",
    "#n_neighbors: The number of neighbors to use when fitting the LocalOutlierFactor\n",
    "\n",
    "# This function returns a boolean array indicating whether a sample is an anomaly (True) or not (False)\n",
    "\n",
    "def anomaly_detection(data_set, contamination= 0.1, n_neighbors=20):\n",
    "    # fit the local outlier factor to data set\n",
    "    clf = LocalOutlierFactor(contamination= contamination, n_neighbors= n_neighbors)\n",
    "    clf.fit(data_set)\n",
    "    \n",
    "    # predict anomalies\n",
    "    anomalies = clf.fit_predict(data_set) == -1\n",
    "    \n",
    "    return anomalies"
   ]
  },
  {
   "cell_type": "code",
   "execution_count": 78,
   "id": "5853ddce",
   "metadata": {},
   "outputs": [],
   "source": [
    "# generate some example data\n",
    "np.random.seed(0)\n",
    "n_samples = 1000\n",
    "data_set = np.random.normal(size=(n_samples,1))\n",
    "\n",
    "# add some anomalies\n",
    "data_set[:10] = np.random.normal(loc = 10, size=(10,1))"
   ]
  },
  {
   "cell_type": "code",
   "execution_count": 79,
   "id": "28e0e59f",
   "metadata": {},
   "outputs": [],
   "source": [
    "# run the anomaly detection\n",
    "anomalies = anomaly_detection(data_set)"
   ]
  },
  {
   "cell_type": "code",
   "execution_count": 81,
   "id": "bc07764b",
   "metadata": {},
   "outputs": [
    {
     "data": {
      "image/png": "[encoded data removed]",
      "text/plain": [
       "<Figure size 640x480 with 1 Axes>"
      ]
     },
     "metadata": {},
     "output_type": "display_data"
    }
   ],
   "source": [
    "# plot the data and anomalies\n",
    "df = pd.DataFrame(data_set, columns=[\"value\"])\n",
    "df[\"anomaly\"] = anomalies\n",
    "\n",
    "normal = df[df[\"anomaly\"] == False]\n",
    "abnormal = df[df[\"anomaly\"] == True]\n",
    "\n",
    "fig, ax = plt.subplots()\n",
    "ax.scatter(normal.index, normal[\"value\"], c = \"blue\", label = \"normal\")\n",
    "ax.scatter(abnormal.index, abnormal[\"value\"], c =\"red\", label= \"abnormal\")\n",
    "ax.legend()\n",
    "ax.set_title(\"Anomaly Detection\")\n",
    "ax.set_xlabel(\"Sample index\")\n",
    "ax.set_ylabel(\"Value\")\n",
    "plt.show()"
   ]
  },
  {
   "cell_type": "code",
   "execution_count": 82,
   "id": "610cb766",
   "metadata": {},
   "outputs": [
    {
     "data": {
      "image/png": "[encoded data removed]",
      "text/plain": [
       "<Figure size 640x480 with 1 Axes>"
      ]
     },
     "metadata": {},
     "output_type": "display_data"
    }
   ],
   "source": [
    "# plot the data and anomalies using the an histogram\n",
    "normal =   data_set[anomalies == False]\n",
    "abnormal = data_set[anomalies == True]\n",
    "\n",
    "fig, ax = plt.subplots()\n",
    "ax.hist(normal, bins =50, color=\"blue\", alpha=0.5, label =\"normal\")\n",
    "ax.hist(abnormal, bins =50, color=\"red\", alpha=0.5, label =\"abnormal\")\n",
    "ax.legend()\n",
    "ax.set_title(\"Anomaly Detection\")\n",
    "ax.set_xlabel(\"Value\")\n",
    "ax.set_ylabel(\"Frequency\")\n",
    "plt.show()"
   ]
  },
  {
   "cell_type": "markdown",
   "id": "74faffe4",
   "metadata": {},
   "source": [
    "#### Adventages of Local Outlier Factor:\n",
    "\n",
    "1. Robust to outliers\n",
    "\n",
    "2. Can handle non-linear relationships\n",
    "\n",
    "3. Can handle high-dimensional data: Good choice for datasets with many independant variables.\n",
    "\n",
    "#### Drawbacks of Local Outlier Factor:\n",
    "\n",
    "1. Sensitive to the choice of parameters\n",
    "\n",
    "2. Slow for large datasets\n",
    "\n",
    "3. Assumes the number of outliers is small: LOF which may not be appropriate for some datasets."
   ]
  },
  {
   "cell_type": "markdown",
   "id": "7389e3e6",
   "metadata": {},
   "source": [
    "## Conclusion"
   ]
  },
  {
   "cell_type": "markdown",
   "id": "dd1d5f67",
   "metadata": {},
   "source": [
    "In conclusion, the ÆPIC Leak has had a signficant impact on our processors using Intel SGX, and it's crucial to understand the undeerlying causes and identify effective countermeasures. The uses of machine learning algorithms can be a valuable tool in addressing the ÆPIC Leak and preventing fur-ture breaches.\n",
    "\n",
    "Our analysis of the random data that we emulated to be related to ÆPIC Leak showed that Logistic Regresion can be used to predict the likelihood of a breach based on past data, Decision Trees can be used to identify the most important factors contributing to a breach, and Anomaly Detection can be used to identifyunusual behaviour in the data. Furthermore, our comparison of three different algorithms - the Local Outlier Factor(LOF) algorithm, KMeans clustering, and the Elliptic Envelope - showed that each algorithm has its own strengths and weaknesses in detecting anomalies related to the ÆPIC Leak.\n",
    "\n",
    "This study provides evidence that machine Learning algorithms can play an important role in addressing the ÆPIC Leak and preventing future breaches. However, it is important to note that the development of a countermeasure is a complex process that involves multiple factors and considerations, and machine learning is just one aspect of it. Further research and analysis is neccessary to fully understand the potential applicationsof machine learning algorithms in addressing the ÆPIC Leak."
   ]
  }
 ],
 "metadata": {
  "kernelspec": {
   "display_name": "Python 3 (ipykernel)",
   "language": "python",
   "name": "python3"
  },
  "language_info": {
   "codemirror_mode": {
    "name": "ipython",
    "version": 3
   },
   "file_extension": ".py",
   "mimetype": "text/x-python",
   "name": "python",
   "nbconvert_exporter": "python",
   "pygments_lexer": "ipython3",
   "version": "3.10.8"
  }
 },
 "nbformat": 4,
 "nbformat_minor": 5
}
